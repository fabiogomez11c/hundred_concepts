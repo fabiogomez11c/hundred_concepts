{
 "cells": [
  {
   "cell_type": "code",
   "execution_count": 1,
   "metadata": {
    "ExecuteTime": {
     "end_time": "2023-04-24T17:34:08.766580Z",
     "start_time": "2023-04-24T17:34:07.878624Z"
    },
    "tags": []
   },
   "outputs": [
    {
     "name": "stderr",
     "output_type": "stream",
     "text": [
      "/var/folders/fl/n022906d5c50vdkdbsnqgzhh0000gn/T/ipykernel_57883/2220684050.py:9: TqdmExperimentalWarning: Using `tqdm.autonotebook.tqdm` in notebook mode. Use `tqdm.tqdm` instead to force console mode (e.g. in jupyter console)\n",
      "  from tqdm.autonotebook import tqdm\n"
     ]
    }
   ],
   "source": [
    "import torch\n",
    "import torch.nn as nn\n",
    "import torch.nn.functional as F\n",
    "import seaborn as sns\n",
    "from sklearn.datasets import make_moons\n",
    "from sklearn.metrics import accuracy_score, f1_score\n",
    "from torch.utils.data import DataLoader, Dataset, TensorDataset\n",
    "import matplotlib.pyplot as plt\n",
    "from tqdm.autonotebook import tqdm\n",
    "import time\n",
    "import numpy as np\n",
    "import pandas as pd\n",
    "from uuid import uuid4\n",
    "from typing import Dict, Union\n",
    "from sklearn.preprocessing import StandardScaler\n",
    "from sklearn.metrics import accuracy_score, f1_score\n",
    "import os"
   ]
  },
  {
   "cell_type": "code",
   "execution_count": 15,
   "metadata": {
    "ExecuteTime": {
     "end_time": "2023-04-24T17:34:08.781732Z",
     "start_time": "2023-04-24T17:34:08.770712Z"
    },
    "tags": []
   },
   "outputs": [],
   "source": [
    "def moveTo(obj, device):\n",
    "    \"\"\"\n",
    "    obj: the python object ot move to a device, or to move its contents to a device\n",
    "    device: the compute device to move objects to\n",
    "    \"\"\"\n",
    "    if isinstance(obj, list):\n",
    "        return [moveTo(o, device) for o in obj]\n",
    "    elif isinstance(obj, tuple):\n",
    "        return tuple(moveTo(o, device) for o in obj)\n",
    "    elif isinstance(obj, set):\n",
    "        return set(moveTo(o, device) for o in obj)\n",
    "    elif isinstance(obj, dict):\n",
    "        to_ret = dict()\n",
    "        for k, v in obj.items():\n",
    "            to_ret[moveTo(k, device)] = moveTo(v, device)\n",
    "        return to_ret\n",
    "    elif hasattr(obj, \"to\"):\n",
    "        return obj.to(device)\n",
    "    else:\n",
    "        return obj\n",
    "\n",
    "def run_epoch(model,\n",
    "    optimizer,\n",
    "    data_loader,\n",
    "    loss_func,\n",
    "    device,\n",
    "    results,\n",
    "    score_funcs,\n",
    "    prefix=\"\",\n",
    "    problem_type='classification'\n",
    "):\n",
    "    # init empty variables\n",
    "    running_loss = []\n",
    "    y_true = []\n",
    "    y_pred = []\n",
    "    start = time.time()\n",
    "    # loop over the batchs\n",
    "    for inputs, labels in data_loader:\n",
    "        # move x, y to correct device\n",
    "        inputs = moveTo(inputs, device=device)\n",
    "        labels = moveTo(labels, device=device)\n",
    "\n",
    "        # estimate\n",
    "        y_hat = model(inputs)\n",
    "\n",
    "        # compute loss, backpropagate and apply gradients if needed\n",
    "        loss = loss_func(y_hat, labels)\n",
    "        if model.training:\n",
    "            loss.backward()\n",
    "            optimizer.step()\n",
    "            optimizer.zero_grad()\n",
    "        \n",
    "        # store the results\n",
    "        running_loss.append(loss.item())\n",
    "        if score_funcs is not None and len(score_funcs) > 0 and isinstance(labels, torch.Tensor):\n",
    "            labels = labels.detach().cpu().numpy()\n",
    "            y_hat = y_hat.detach().cpu().numpy()\n",
    "            y_true.extend(labels.tolist())\n",
    "            y_pred.extend(y_hat.tolist())\n",
    "        \n",
    "    end = time.time()\n",
    "\n",
    "    # clean results to compute metrics under sklearn standards\n",
    "    y_pred = np.asarray(y_pred)\n",
    "    if problem_type == 'classification':\n",
    "        if len(y_pred.shape) == 2 and y_pred.shape[1] > 1:\n",
    "            y_pred = np.argmax(y_pred, axis=1)\n",
    "        if y_pred.shape[1] == 1:\n",
    "            y_pred = np.where(y_pred > 0.5, 1, 0)\n",
    "        \n",
    "    \n",
    "    results[prefix + ' loss'].append(np.mean(running_loss))\n",
    "    if score_funcs is not None:\n",
    "        for name, score_func in score_funcs.items():\n",
    "            try:\n",
    "                results[prefix + \" \" + name].append( score_func(y_true, y_pred) )\n",
    "            except:\n",
    "                results[prefix + \" \" + name].append(float(\"NaN\"))\n",
    "    return end-start #time spent on epoc\n",
    "\n",
    "def save_model(\n",
    "    model: nn.Module,\n",
    "    checkpoint_file: str,\n",
    "    optimizer: nn.Module,\n",
    "    true_epoch: int,\n",
    "    results: Dict,\n",
    "    model_file_name: str = None\n",
    "):\n",
    "    # check if the folder for models exists\n",
    "    folder_path = \"checkpoints\"\n",
    "    if not os.path.exists(folder_path):\n",
    "        os.makedirs(folder_path)\n",
    "\n",
    "    # save the model checkpoint\n",
    "    file_name = uuid4().hex + '_' + checkpoint_file\n",
    "    if model_file_name is not None:\n",
    "        file_name = model_file_name\n",
    "    torch.save({\n",
    "        'epoch': true_epoch,\n",
    "        'model_state_dict': model.state_dict(),\n",
    "        'optimizer_state_dict': optimizer.state_dict(),\n",
    "        'results' : results\n",
    "        }, os.path.join(folder_path, file_name))\n",
    "\n",
    "def train_simple_network(\n",
    "        model, \n",
    "        loss_func,\n",
    "        train_loader,\n",
    "        test_loader=None,\n",
    "        score_funcs=None,\n",
    "        device='cpu',\n",
    "        epochs=50,\n",
    "        checkpoint_file=None,\n",
    "        prev_results=None,\n",
    "        checkpoint_dict=None,\n",
    "        checkpoint_every_x=1,\n",
    "        problem_type='classification'\n",
    "    ):\n",
    "    # init tracking metrics\n",
    "    to_track = [\"epoch\", \"total time\", \"train loss\"]\n",
    "    if test_loader is not None:\n",
    "        to_track.append(\"test loss\")\n",
    "    if score_funcs is not None:\n",
    "        for eval_score in score_funcs:\n",
    "            to_track.append(\"train \" + eval_score )\n",
    "            if test_loader is not None:\n",
    "                to_track.append(\"test \" + eval_score )\n",
    "    total_train_time = 0\n",
    "    if prev_results is None:\n",
    "        results = {}\n",
    "        for item in to_track:\n",
    "            results[item] = []\n",
    "    else:\n",
    "        results = prev_results\n",
    "\n",
    "    # initialize optimizer\n",
    "    optimizer = torch.optim.SGD(model.parameters(), lr=0.001)\n",
    "    if checkpoint_dict is not None and 'optimizer_state_dict' in checkpoint_dict.keys():\n",
    "        optimizer.load_state_dict(checkpoint_dict['optimizer_state_dict'])\n",
    "\n",
    "    # start training loop\n",
    "    model.to(device)\n",
    "    for epoch in tqdm(range(epochs), desc=\"Epoch\"):\n",
    "        # pass the model throught a epoch\n",
    "        model = model.train()\n",
    "        total_train_time += run_epoch(\n",
    "            model, \n",
    "            optimizer, \n",
    "            train_loader, \n",
    "            loss_func, \n",
    "            device, \n",
    "            results, \n",
    "            score_funcs, \n",
    "            prefix=\"train\",\n",
    "            problem_type=problem_type\n",
    "        )\n",
    "    \n",
    "        # grab more results from the last epoch\n",
    "        results[\"total time\"].append( total_train_time )\n",
    "        results[\"epoch\"].append( epoch )\n",
    "\n",
    "        # test the model in validation\n",
    "        if test_loader is not None:\n",
    "            model = model.eval()\n",
    "            with torch.no_grad():\n",
    "                run_epoch(model, optimizer, test_loader, loss_func, device, results, score_funcs, prefix=\"test\")\n",
    "\n",
    "        # save the model checkpoint after the epoch\n",
    "        true_epoch = len(results['epoch']) - 1 # useful when model and optimizer loaded\n",
    "        if checkpoint_file is not None and (true_epoch % checkpoint_every_x) == 0:\n",
    "            save_model(\n",
    "                model=model,\n",
    "                checkpoint_file=checkpoint_file,\n",
    "                optimizer=optimizer,\n",
    "                true_epoch=true_epoch,\n",
    "                results=results\n",
    "            )\n",
    "    \n",
    "    # save the last model\n",
    "    if checkpoint_file is not None:\n",
    "        save_model(\n",
    "                model=model,\n",
    "                checkpoint_file=checkpoint_file,\n",
    "                optimizer=optimizer,\n",
    "                true_epoch=true_epoch,\n",
    "                results=results,\n",
    "                model_file_name='last.pt'\n",
    "            )\n",
    "\n",
    "    return pd.DataFrame.from_dict(results)"
   ]
  },
  {
   "cell_type": "markdown",
   "metadata": {},
   "source": [
    "### 1"
   ]
  },
  {
   "cell_type": "code",
   "execution_count": 35,
   "metadata": {},
   "outputs": [
    {
     "data": {
      "image/png": "[encoded data removed]",
      "text/plain": [
       "<Figure size 640x480 with 1 Axes>"
      ]
     },
     "metadata": {},
     "output_type": "display_data"
    }
   ],
   "source": [
    "# datos simulados para un problema de regresion\n",
    "X = np.linspace(0, 20 , num=200).reshape(-1, 1)\n",
    "y = X + np.sin(X)*2 + np.random.normal(size=X.shape).reshape(-1, 1)\n",
    "sns.scatterplot(x=X[:,0], y=y[:, 0])\n",
    "\n",
    "class Simple1DRegressionDataset(Dataset):\n",
    "    def __init__(self, X, y):\n",
    "        super(Simple1DRegressionDataset, self).__init__()\n",
    "        self.X = X\n",
    "        self.y = y\n",
    "\n",
    "    def __getitem__(self, index):\n",
    "        return (\n",
    "            torch.tensor(self.X[index, :], dtype=torch.float32),\n",
    "            torch.tensor(self.y[index], dtype=torch.float32)    \n",
    "        )\n",
    "    \n",
    "    def __len__(self):\n",
    "        return self.X.shape[0]\n",
    "\n",
    "training_loader = DataLoader(Simple1DRegressionDataset(X, y), shuffle=True)"
   ]
  },
  {
   "cell_type": "code",
   "execution_count": 37,
   "metadata": {},
   "outputs": [],
   "source": [
    "class StandardScale1DRegressionDataset(Dataset):\n",
    "    def __init__(self, X, y):\n",
    "        super(StandardScale1DRegressionDataset, self).__init__()\n",
    "        self.X = X\n",
    "        self.y = self.standard_scale(y)\n",
    "    \n",
    "    @staticmethod  # probably not a staticmethod in real life \n",
    "    def standard_scale(x):\n",
    "        scaler = StandardScaler()\n",
    "        scaler.fit(x)\n",
    "        return scaler.transform(x)\n",
    "\n",
    "    def __getitem__(self, index):\n",
    "        return (\n",
    "            torch.tensor(self.X[index, :], dtype=torch.float32),\n",
    "            torch.tensor(self.y[index], dtype=torch.float32)    \n",
    "        )\n",
    "    \n",
    "    def __len__(self):\n",
    "        return self.X.shape[0]\n",
    "\n",
    "standard_training_loader = DataLoader(StandardScale1DRegressionDataset(X, y), shuffle=True)"
   ]
  },
  {
   "cell_type": "code",
   "execution_count": 38,
   "metadata": {},
   "outputs": [
    {
     "data": {
      "application/vnd.jupyter.widget-view+json": {
       "model_id": "a5d90ca662a946af83bc34afa79e726d",
       "version_major": 2,
       "version_minor": 0
      },
      "text/plain": [
       "Epoch:   0%|          | 0/50 [00:00<?, ?it/s]"
      ]
     },
     "metadata": {},
     "output_type": "display_data"
    }
   ],
   "source": [
    "# without scaling\n",
    "in_features = 1\n",
    "out_features = 1\n",
    "model = nn.Linear(in_features, out_features)\n",
    "loss_func = nn.MSELoss()\n",
    "\n",
    "result = train_simple_network(\n",
    "    model,\n",
    "    loss_func,\n",
    "    training_loader,\n",
    ")"
   ]
  },
  {
   "cell_type": "code",
   "execution_count": 39,
   "metadata": {},
   "outputs": [
    {
     "data": {
      "application/vnd.jupyter.widget-view+json": {
       "model_id": "f41f5d6293a94eb0a7ad08ecaf18fb81",
       "version_major": 2,
       "version_minor": 0
      },
      "text/plain": [
       "Epoch:   0%|          | 0/50 [00:00<?, ?it/s]"
      ]
     },
     "metadata": {},
     "output_type": "display_data"
    }
   ],
   "source": [
    "# with scaling\n",
    "in_features = 1\n",
    "out_features = 1\n",
    "model = nn.Linear(in_features, out_features)\n",
    "loss_func = nn.MSELoss()\n",
    "\n",
    "result_st = train_simple_network(\n",
    "    model,\n",
    "    loss_func,\n",
    "    standard_training_loader,\n",
    ")"
   ]
  },
  {
   "cell_type": "code",
   "execution_count": 40,
   "metadata": {},
   "outputs": [
    {
     "data": {
      "text/html": [
       "<div>\n",
       "<style scoped>\n",
       "    .dataframe tbody tr th:only-of-type {\n",
       "        vertical-align: middle;\n",
       "    }\n",
       "\n",
       "    .dataframe tbody tr th {\n",
       "        vertical-align: top;\n",
       "    }\n",
       "\n",
       "    .dataframe thead th {\n",
       "        text-align: right;\n",
       "    }\n",
       "</style>\n",
       "<table border=\"1\" class=\"dataframe\">\n",
       "  <thead>\n",
       "    <tr style=\"text-align: right;\">\n",
       "      <th></th>\n",
       "      <th>epoch</th>\n",
       "      <th>total time</th>\n",
       "      <th>train loss</th>\n",
       "    </tr>\n",
       "  </thead>\n",
       "  <tbody>\n",
       "    <tr>\n",
       "      <th>45</th>\n",
       "      <td>45</td>\n",
       "      <td>0.894651</td>\n",
       "      <td>3.142144</td>\n",
       "    </tr>\n",
       "    <tr>\n",
       "      <th>46</th>\n",
       "      <td>46</td>\n",
       "      <td>0.913349</td>\n",
       "      <td>3.181657</td>\n",
       "    </tr>\n",
       "    <tr>\n",
       "      <th>47</th>\n",
       "      <td>47</td>\n",
       "      <td>0.933737</td>\n",
       "      <td>3.371792</td>\n",
       "    </tr>\n",
       "    <tr>\n",
       "      <th>48</th>\n",
       "      <td>48</td>\n",
       "      <td>0.952956</td>\n",
       "      <td>3.253779</td>\n",
       "    </tr>\n",
       "    <tr>\n",
       "      <th>49</th>\n",
       "      <td>49</td>\n",
       "      <td>0.972512</td>\n",
       "      <td>3.490737</td>\n",
       "    </tr>\n",
       "  </tbody>\n",
       "</table>\n",
       "</div>"
      ],
      "text/plain": [
       "    epoch  total time  train loss\n",
       "45     45    0.894651    3.142144\n",
       "46     46    0.913349    3.181657\n",
       "47     47    0.933737    3.371792\n",
       "48     48    0.952956    3.253779\n",
       "49     49    0.972512    3.490737"
      ]
     },
     "execution_count": 40,
     "metadata": {},
     "output_type": "execute_result"
    }
   ],
   "source": [
    "result.tail()"
   ]
  },
  {
   "cell_type": "code",
   "execution_count": 41,
   "metadata": {},
   "outputs": [
    {
     "data": {
      "text/html": [
       "<div>\n",
       "<style scoped>\n",
       "    .dataframe tbody tr th:only-of-type {\n",
       "        vertical-align: middle;\n",
       "    }\n",
       "\n",
       "    .dataframe tbody tr th {\n",
       "        vertical-align: top;\n",
       "    }\n",
       "\n",
       "    .dataframe thead th {\n",
       "        text-align: right;\n",
       "    }\n",
       "</style>\n",
       "<table border=\"1\" class=\"dataframe\">\n",
       "  <thead>\n",
       "    <tr style=\"text-align: right;\">\n",
       "      <th></th>\n",
       "      <th>epoch</th>\n",
       "      <th>total time</th>\n",
       "      <th>train loss</th>\n",
       "    </tr>\n",
       "  </thead>\n",
       "  <tbody>\n",
       "    <tr>\n",
       "      <th>45</th>\n",
       "      <td>45</td>\n",
       "      <td>0.893892</td>\n",
       "      <td>0.100381</td>\n",
       "    </tr>\n",
       "    <tr>\n",
       "      <th>46</th>\n",
       "      <td>46</td>\n",
       "      <td>0.914667</td>\n",
       "      <td>0.100458</td>\n",
       "    </tr>\n",
       "    <tr>\n",
       "      <th>47</th>\n",
       "      <td>47</td>\n",
       "      <td>0.934407</td>\n",
       "      <td>0.100683</td>\n",
       "    </tr>\n",
       "    <tr>\n",
       "      <th>48</th>\n",
       "      <td>48</td>\n",
       "      <td>0.953704</td>\n",
       "      <td>0.100201</td>\n",
       "    </tr>\n",
       "    <tr>\n",
       "      <th>49</th>\n",
       "      <td>49</td>\n",
       "      <td>0.972857</td>\n",
       "      <td>0.098588</td>\n",
       "    </tr>\n",
       "  </tbody>\n",
       "</table>\n",
       "</div>"
      ],
      "text/plain": [
       "    epoch  total time  train loss\n",
       "45     45    0.893892    0.100381\n",
       "46     46    0.914667    0.100458\n",
       "47     47    0.934407    0.100683\n",
       "48     48    0.953704    0.100201\n",
       "49     49    0.972857    0.098588"
      ]
     },
     "execution_count": 41,
     "metadata": {},
     "output_type": "execute_result"
    }
   ],
   "source": [
    "result_st.tail()"
   ]
  },
  {
   "cell_type": "markdown",
   "metadata": {},
   "source": [
    "No estoy muy de acuerdo con este ejercicio, claramente (desde la grafica y sin conocer la funcion verdadera) hay una tendencia de los datos con respecto a la variable $x$, de tal manera que aplicar un `StandardScaler` en este caso es un error, primero hay que remover la tendencia y luego aplicar transformaciones. Los estimadores que adquiera el `StandardScaler` no van a ser consistentes."
   ]
  },
  {
   "cell_type": "markdown",
   "metadata": {},
   "source": [
    "### 2"
   ]
  },
  {
   "cell_type": "code",
   "execution_count": 42,
   "metadata": {},
   "outputs": [
    {
     "data": {
      "text/plain": [
       "<Axes: >"
      ]
     },
     "execution_count": 42,
     "metadata": {},
     "output_type": "execute_result"
    },
    {
     "data": {
      "image/png": "[encoded data removed]",
      "text/plain": [
       "<Figure size 640x480 with 1 Axes>"
      ]
     },
     "metadata": {},
     "output_type": "display_data"
    }
   ],
   "source": [
    "X, y = make_moons(n_samples=1000, noise=0.05)\n",
    "sns.scatterplot(x=X[:, 0], y=X[:, 1], hue=y, style=y)"
   ]
  },
  {
   "cell_type": "code",
   "execution_count": 44,
   "metadata": {},
   "outputs": [
    {
     "data": {
      "application/vnd.jupyter.widget-view+json": {
       "model_id": "753925782d2541fda04942c329084dea",
       "version_major": 2,
       "version_minor": 0
      },
      "text/plain": [
       "Epoch:   0%|          | 0/10 [00:00<?, ?it/s]"
      ]
     },
     "metadata": {},
     "output_type": "display_data"
    }
   ],
   "source": [
    "X_train, y_train = make_moons(n_samples=800, noise=0.4)\n",
    "X_test, y_test = make_moons(n_samples=200, noise=0.4)\n",
    "train_dataset = TensorDataset(\n",
    "    torch.tensor(X_train, dtype=torch.float32),\n",
    "    torch.tensor(y_train, dtype=torch.long)\n",
    ")\n",
    "test_dataset = TensorDataset(\n",
    "    torch.tensor(X_test, dtype=torch.float32),\n",
    "    torch.tensor(y_test, dtype=torch.long)\n",
    ")\n",
    "training_loader = DataLoader(train_dataset, shuffle=True)\n",
    "testing_loader = DataLoader(test_dataset)\n",
    "model = nn.Sequential(\n",
    "    nn.Linear(2, 30),\n",
    "    nn.Tanh(),\n",
    "    nn.Linear(30, 30),\n",
    "    nn.Tanh(),\n",
    "    nn.Linear(30, 2)\n",
    ")\n",
    "loss_func = nn.CrossEntropyLoss()\n",
    "result_pd = train_simple_network(\n",
    "    model,\n",
    "    loss_func,\n",
    "    training_loader,\n",
    "    epochs=10,\n",
    "    test_loader=testing_loader,\n",
    "    checkpoint_file='model.pt',\n",
    "    score_funcs={'Acc': accuracy_score, 'F1': f1_score},\n",
    "    checkpoint_every_x = 5\n",
    ")"
   ]
  },
  {
   "cell_type": "code",
   "execution_count": 45,
   "metadata": {},
   "outputs": [
    {
     "data": {
      "text/html": [
       "<div>\n",
       "<style scoped>\n",
       "    .dataframe tbody tr th:only-of-type {\n",
       "        vertical-align: middle;\n",
       "    }\n",
       "\n",
       "    .dataframe tbody tr th {\n",
       "        vertical-align: top;\n",
       "    }\n",
       "\n",
       "    .dataframe thead th {\n",
       "        text-align: right;\n",
       "    }\n",
       "</style>\n",
       "<table border=\"1\" class=\"dataframe\">\n",
       "  <thead>\n",
       "    <tr style=\"text-align: right;\">\n",
       "      <th></th>\n",
       "      <th>epoch</th>\n",
       "      <th>total time</th>\n",
       "      <th>train loss</th>\n",
       "      <th>test loss</th>\n",
       "      <th>train Acc</th>\n",
       "      <th>test Acc</th>\n",
       "      <th>train F1</th>\n",
       "      <th>test F1</th>\n",
       "    </tr>\n",
       "  </thead>\n",
       "  <tbody>\n",
       "    <tr>\n",
       "      <th>0</th>\n",
       "      <td>0</td>\n",
       "      <td>0.145590</td>\n",
       "      <td>0.657560</td>\n",
       "      <td>0.589808</td>\n",
       "      <td>0.65875</td>\n",
       "      <td>0.760</td>\n",
       "      <td>0.530120</td>\n",
       "      <td>0.762376</td>\n",
       "    </tr>\n",
       "    <tr>\n",
       "      <th>1</th>\n",
       "      <td>1</td>\n",
       "      <td>0.284704</td>\n",
       "      <td>0.534642</td>\n",
       "      <td>0.506486</td>\n",
       "      <td>0.80500</td>\n",
       "      <td>0.780</td>\n",
       "      <td>0.808354</td>\n",
       "      <td>0.790476</td>\n",
       "    </tr>\n",
       "    <tr>\n",
       "      <th>2</th>\n",
       "      <td>2</td>\n",
       "      <td>0.423804</td>\n",
       "      <td>0.463726</td>\n",
       "      <td>0.458417</td>\n",
       "      <td>0.81750</td>\n",
       "      <td>0.795</td>\n",
       "      <td>0.821951</td>\n",
       "      <td>0.803828</td>\n",
       "    </tr>\n",
       "    <tr>\n",
       "      <th>3</th>\n",
       "      <td>3</td>\n",
       "      <td>0.561201</td>\n",
       "      <td>0.425976</td>\n",
       "      <td>0.434660</td>\n",
       "      <td>0.82375</td>\n",
       "      <td>0.820</td>\n",
       "      <td>0.826994</td>\n",
       "      <td>0.823529</td>\n",
       "    </tr>\n",
       "    <tr>\n",
       "      <th>4</th>\n",
       "      <td>4</td>\n",
       "      <td>0.699358</td>\n",
       "      <td>0.407784</td>\n",
       "      <td>0.424106</td>\n",
       "      <td>0.82625</td>\n",
       "      <td>0.815</td>\n",
       "      <td>0.827757</td>\n",
       "      <td>0.819512</td>\n",
       "    </tr>\n",
       "    <tr>\n",
       "      <th>5</th>\n",
       "      <td>5</td>\n",
       "      <td>0.838874</td>\n",
       "      <td>0.398957</td>\n",
       "      <td>0.417987</td>\n",
       "      <td>0.82875</td>\n",
       "      <td>0.810</td>\n",
       "      <td>0.831902</td>\n",
       "      <td>0.811881</td>\n",
       "    </tr>\n",
       "    <tr>\n",
       "      <th>6</th>\n",
       "      <td>6</td>\n",
       "      <td>0.977558</td>\n",
       "      <td>0.394521</td>\n",
       "      <td>0.415353</td>\n",
       "      <td>0.82500</td>\n",
       "      <td>0.810</td>\n",
       "      <td>0.827160</td>\n",
       "      <td>0.811881</td>\n",
       "    </tr>\n",
       "    <tr>\n",
       "      <th>7</th>\n",
       "      <td>7</td>\n",
       "      <td>1.117097</td>\n",
       "      <td>0.392101</td>\n",
       "      <td>0.413456</td>\n",
       "      <td>0.82625</td>\n",
       "      <td>0.815</td>\n",
       "      <td>0.828183</td>\n",
       "      <td>0.815920</td>\n",
       "    </tr>\n",
       "    <tr>\n",
       "      <th>8</th>\n",
       "      <td>8</td>\n",
       "      <td>1.254955</td>\n",
       "      <td>0.390960</td>\n",
       "      <td>0.412999</td>\n",
       "      <td>0.82625</td>\n",
       "      <td>0.810</td>\n",
       "      <td>0.827329</td>\n",
       "      <td>0.811881</td>\n",
       "    </tr>\n",
       "    <tr>\n",
       "      <th>9</th>\n",
       "      <td>9</td>\n",
       "      <td>1.393645</td>\n",
       "      <td>0.389873</td>\n",
       "      <td>0.413786</td>\n",
       "      <td>0.82625</td>\n",
       "      <td>0.805</td>\n",
       "      <td>0.827329</td>\n",
       "      <td>0.807882</td>\n",
       "    </tr>\n",
       "  </tbody>\n",
       "</table>\n",
       "</div>"
      ],
      "text/plain": [
       "   epoch  total time  train loss  test loss  train Acc  test Acc  train F1   \n",
       "0      0    0.145590    0.657560   0.589808    0.65875     0.760  0.530120  \\\n",
       "1      1    0.284704    0.534642   0.506486    0.80500     0.780  0.808354   \n",
       "2      2    0.423804    0.463726   0.458417    0.81750     0.795  0.821951   \n",
       "3      3    0.561201    0.425976   0.434660    0.82375     0.820  0.826994   \n",
       "4      4    0.699358    0.407784   0.424106    0.82625     0.815  0.827757   \n",
       "5      5    0.838874    0.398957   0.417987    0.82875     0.810  0.831902   \n",
       "6      6    0.977558    0.394521   0.415353    0.82500     0.810  0.827160   \n",
       "7      7    1.117097    0.392101   0.413456    0.82625     0.815  0.828183   \n",
       "8      8    1.254955    0.390960   0.412999    0.82625     0.810  0.827329   \n",
       "9      9    1.393645    0.389873   0.413786    0.82625     0.805  0.827329   \n",
       "\n",
       "    test F1  \n",
       "0  0.762376  \n",
       "1  0.790476  \n",
       "2  0.803828  \n",
       "3  0.823529  \n",
       "4  0.819512  \n",
       "5  0.811881  \n",
       "6  0.811881  \n",
       "7  0.815920  \n",
       "8  0.811881  \n",
       "9  0.807882  "
      ]
     },
     "execution_count": 45,
     "metadata": {},
     "output_type": "execute_result"
    }
   ],
   "source": [
    "result_pd"
   ]
  },
  {
   "cell_type": "markdown",
   "metadata": {},
   "source": [
    "### 3"
   ]
  },
  {
   "cell_type": "code",
   "execution_count": 46,
   "metadata": {},
   "outputs": [],
   "source": [
    "def resume_simple_network(\n",
    "    checkpoint_file: str, \n",
    "    model: torch.nn.Module, \n",
    "    loss_func: nn.Module,\n",
    "    train_loader: DataLoader,\n",
    "    test_loader: Union[DataLoader, None],\n",
    "    score_funcs: Dict,\n",
    "    device: str = 'cpu',\n",
    "    epochs: int = 50\n",
    "):\n",
    "    # loading information\n",
    "    checkpoint_dict = torch.load(os.path.join('checkpoints', checkpoint_file), map_location='cpu')\n",
    "    model.load_state_dict(checkpoint_dict['model_state_dict'])\n",
    "    # get the remainder epochs\n",
    "    rem_epochs = epochs - checkpoint_dict['epoch'] - 1\n",
    "    if rem_epochs < 1:\n",
    "        raise ValueError(f\"Total number of epochs already done {checkpoint_dict['epoch'] + 1}\")\n",
    "    \n",
    "\n",
    "    results = train_simple_network(\n",
    "        model=model,\n",
    "        loss_func=loss_func,\n",
    "        train_loader=train_loader,\n",
    "        test_loader=test_loader,\n",
    "        score_funcs=score_funcs,\n",
    "        device=device,\n",
    "        epochs=rem_epochs,\n",
    "        checkpoint_file=checkpoint_file,\n",
    "        prev_results=checkpoint_dict['results']\n",
    "    )\n",
    "\n",
    "    results['epoch'] = np.arange(0, len(results))\n",
    "\n",
    "    return results"
   ]
  },
  {
   "cell_type": "code",
   "execution_count": 47,
   "metadata": {},
   "outputs": [
    {
     "data": {
      "application/vnd.jupyter.widget-view+json": {
       "model_id": "d01ff6b938b043119d14ecb1f58f86af",
       "version_major": 2,
       "version_minor": 0
      },
      "text/plain": [
       "Epoch:   0%|          | 0/20 [00:00<?, ?it/s]"
      ]
     },
     "metadata": {},
     "output_type": "display_data"
    }
   ],
   "source": [
    "new_results_pd = resume_simple_network(\n",
    "    checkpoint_file='last.pt',\n",
    "    model=model,\n",
    "    loss_func=loss_func,\n",
    "    train_loader=training_loader,\n",
    "    test_loader=testing_loader,\n",
    "    score_funcs={'Acc': accuracy_score, 'F1': f1_score},\n",
    "    device='cpu',\n",
    "    epochs=30\n",
    ")"
   ]
  },
  {
   "cell_type": "code",
   "execution_count": 48,
   "metadata": {},
   "outputs": [
    {
     "data": {
      "text/html": [
       "<div>\n",
       "<style scoped>\n",
       "    .dataframe tbody tr th:only-of-type {\n",
       "        vertical-align: middle;\n",
       "    }\n",
       "\n",
       "    .dataframe tbody tr th {\n",
       "        vertical-align: top;\n",
       "    }\n",
       "\n",
       "    .dataframe thead th {\n",
       "        text-align: right;\n",
       "    }\n",
       "</style>\n",
       "<table border=\"1\" class=\"dataframe\">\n",
       "  <thead>\n",
       "    <tr style=\"text-align: right;\">\n",
       "      <th></th>\n",
       "      <th>epoch</th>\n",
       "      <th>total time</th>\n",
       "      <th>train loss</th>\n",
       "      <th>test loss</th>\n",
       "      <th>train Acc</th>\n",
       "      <th>test Acc</th>\n",
       "      <th>train F1</th>\n",
       "      <th>test F1</th>\n",
       "    </tr>\n",
       "  </thead>\n",
       "  <tbody>\n",
       "    <tr>\n",
       "      <th>0</th>\n",
       "      <td>0</td>\n",
       "      <td>0.145590</td>\n",
       "      <td>0.657560</td>\n",
       "      <td>0.589808</td>\n",
       "      <td>0.65875</td>\n",
       "      <td>0.760</td>\n",
       "      <td>0.530120</td>\n",
       "      <td>0.762376</td>\n",
       "    </tr>\n",
       "    <tr>\n",
       "      <th>1</th>\n",
       "      <td>1</td>\n",
       "      <td>0.284704</td>\n",
       "      <td>0.534642</td>\n",
       "      <td>0.506486</td>\n",
       "      <td>0.80500</td>\n",
       "      <td>0.780</td>\n",
       "      <td>0.808354</td>\n",
       "      <td>0.790476</td>\n",
       "    </tr>\n",
       "    <tr>\n",
       "      <th>2</th>\n",
       "      <td>2</td>\n",
       "      <td>0.423804</td>\n",
       "      <td>0.463726</td>\n",
       "      <td>0.458417</td>\n",
       "      <td>0.81750</td>\n",
       "      <td>0.795</td>\n",
       "      <td>0.821951</td>\n",
       "      <td>0.803828</td>\n",
       "    </tr>\n",
       "    <tr>\n",
       "      <th>3</th>\n",
       "      <td>3</td>\n",
       "      <td>0.561201</td>\n",
       "      <td>0.425976</td>\n",
       "      <td>0.434660</td>\n",
       "      <td>0.82375</td>\n",
       "      <td>0.820</td>\n",
       "      <td>0.826994</td>\n",
       "      <td>0.823529</td>\n",
       "    </tr>\n",
       "    <tr>\n",
       "      <th>4</th>\n",
       "      <td>4</td>\n",
       "      <td>0.699358</td>\n",
       "      <td>0.407784</td>\n",
       "      <td>0.424106</td>\n",
       "      <td>0.82625</td>\n",
       "      <td>0.815</td>\n",
       "      <td>0.827757</td>\n",
       "      <td>0.819512</td>\n",
       "    </tr>\n",
       "    <tr>\n",
       "      <th>5</th>\n",
       "      <td>5</td>\n",
       "      <td>0.838874</td>\n",
       "      <td>0.398957</td>\n",
       "      <td>0.417987</td>\n",
       "      <td>0.82875</td>\n",
       "      <td>0.810</td>\n",
       "      <td>0.831902</td>\n",
       "      <td>0.811881</td>\n",
       "    </tr>\n",
       "    <tr>\n",
       "      <th>6</th>\n",
       "      <td>6</td>\n",
       "      <td>0.977558</td>\n",
       "      <td>0.394521</td>\n",
       "      <td>0.415353</td>\n",
       "      <td>0.82500</td>\n",
       "      <td>0.810</td>\n",
       "      <td>0.827160</td>\n",
       "      <td>0.811881</td>\n",
       "    </tr>\n",
       "    <tr>\n",
       "      <th>7</th>\n",
       "      <td>7</td>\n",
       "      <td>1.117097</td>\n",
       "      <td>0.392101</td>\n",
       "      <td>0.413456</td>\n",
       "      <td>0.82625</td>\n",
       "      <td>0.815</td>\n",
       "      <td>0.828183</td>\n",
       "      <td>0.815920</td>\n",
       "    </tr>\n",
       "    <tr>\n",
       "      <th>8</th>\n",
       "      <td>8</td>\n",
       "      <td>1.254955</td>\n",
       "      <td>0.390960</td>\n",
       "      <td>0.412999</td>\n",
       "      <td>0.82625</td>\n",
       "      <td>0.810</td>\n",
       "      <td>0.827329</td>\n",
       "      <td>0.811881</td>\n",
       "    </tr>\n",
       "    <tr>\n",
       "      <th>9</th>\n",
       "      <td>9</td>\n",
       "      <td>1.393645</td>\n",
       "      <td>0.389873</td>\n",
       "      <td>0.413786</td>\n",
       "      <td>0.82625</td>\n",
       "      <td>0.805</td>\n",
       "      <td>0.827329</td>\n",
       "      <td>0.807882</td>\n",
       "    </tr>\n",
       "    <tr>\n",
       "      <th>10</th>\n",
       "      <td>10</td>\n",
       "      <td>0.138312</td>\n",
       "      <td>0.389186</td>\n",
       "      <td>0.413790</td>\n",
       "      <td>0.83000</td>\n",
       "      <td>0.800</td>\n",
       "      <td>0.831266</td>\n",
       "      <td>0.803922</td>\n",
       "    </tr>\n",
       "    <tr>\n",
       "      <th>11</th>\n",
       "      <td>11</td>\n",
       "      <td>0.278998</td>\n",
       "      <td>0.388919</td>\n",
       "      <td>0.413244</td>\n",
       "      <td>0.82750</td>\n",
       "      <td>0.800</td>\n",
       "      <td>0.829208</td>\n",
       "      <td>0.803922</td>\n",
       "    </tr>\n",
       "    <tr>\n",
       "      <th>12</th>\n",
       "      <td>12</td>\n",
       "      <td>0.418019</td>\n",
       "      <td>0.388715</td>\n",
       "      <td>0.412322</td>\n",
       "      <td>0.82625</td>\n",
       "      <td>0.805</td>\n",
       "      <td>0.827329</td>\n",
       "      <td>0.807882</td>\n",
       "    </tr>\n",
       "    <tr>\n",
       "      <th>13</th>\n",
       "      <td>13</td>\n",
       "      <td>0.559544</td>\n",
       "      <td>0.388328</td>\n",
       "      <td>0.411415</td>\n",
       "      <td>0.82250</td>\n",
       "      <td>0.805</td>\n",
       "      <td>0.823821</td>\n",
       "      <td>0.807882</td>\n",
       "    </tr>\n",
       "    <tr>\n",
       "      <th>14</th>\n",
       "      <td>14</td>\n",
       "      <td>0.698784</td>\n",
       "      <td>0.387821</td>\n",
       "      <td>0.410329</td>\n",
       "      <td>0.83000</td>\n",
       "      <td>0.810</td>\n",
       "      <td>0.831683</td>\n",
       "      <td>0.811881</td>\n",
       "    </tr>\n",
       "    <tr>\n",
       "      <th>15</th>\n",
       "      <td>15</td>\n",
       "      <td>0.836951</td>\n",
       "      <td>0.386923</td>\n",
       "      <td>0.413409</td>\n",
       "      <td>0.82875</td>\n",
       "      <td>0.800</td>\n",
       "      <td>0.828964</td>\n",
       "      <td>0.803922</td>\n",
       "    </tr>\n",
       "    <tr>\n",
       "      <th>16</th>\n",
       "      <td>16</td>\n",
       "      <td>0.978853</td>\n",
       "      <td>0.387636</td>\n",
       "      <td>0.411841</td>\n",
       "      <td>0.82750</td>\n",
       "      <td>0.810</td>\n",
       "      <td>0.829208</td>\n",
       "      <td>0.811881</td>\n",
       "    </tr>\n",
       "    <tr>\n",
       "      <th>17</th>\n",
       "      <td>17</td>\n",
       "      <td>1.120299</td>\n",
       "      <td>0.386740</td>\n",
       "      <td>0.409427</td>\n",
       "      <td>0.82875</td>\n",
       "      <td>0.805</td>\n",
       "      <td>0.831488</td>\n",
       "      <td>0.805970</td>\n",
       "    </tr>\n",
       "    <tr>\n",
       "      <th>18</th>\n",
       "      <td>18</td>\n",
       "      <td>1.258740</td>\n",
       "      <td>0.387006</td>\n",
       "      <td>0.410172</td>\n",
       "      <td>0.82625</td>\n",
       "      <td>0.810</td>\n",
       "      <td>0.826899</td>\n",
       "      <td>0.811881</td>\n",
       "    </tr>\n",
       "    <tr>\n",
       "      <th>19</th>\n",
       "      <td>19</td>\n",
       "      <td>1.396930</td>\n",
       "      <td>0.386547</td>\n",
       "      <td>0.411185</td>\n",
       "      <td>0.82500</td>\n",
       "      <td>0.810</td>\n",
       "      <td>0.825871</td>\n",
       "      <td>0.811881</td>\n",
       "    </tr>\n",
       "    <tr>\n",
       "      <th>20</th>\n",
       "      <td>20</td>\n",
       "      <td>1.535138</td>\n",
       "      <td>0.386266</td>\n",
       "      <td>0.409288</td>\n",
       "      <td>0.83125</td>\n",
       "      <td>0.815</td>\n",
       "      <td>0.833948</td>\n",
       "      <td>0.815920</td>\n",
       "    </tr>\n",
       "    <tr>\n",
       "      <th>21</th>\n",
       "      <td>21</td>\n",
       "      <td>1.671947</td>\n",
       "      <td>0.386071</td>\n",
       "      <td>0.409190</td>\n",
       "      <td>0.82625</td>\n",
       "      <td>0.810</td>\n",
       "      <td>0.827329</td>\n",
       "      <td>0.811881</td>\n",
       "    </tr>\n",
       "    <tr>\n",
       "      <th>22</th>\n",
       "      <td>22</td>\n",
       "      <td>1.811505</td>\n",
       "      <td>0.385677</td>\n",
       "      <td>0.409723</td>\n",
       "      <td>0.82750</td>\n",
       "      <td>0.810</td>\n",
       "      <td>0.828784</td>\n",
       "      <td>0.811881</td>\n",
       "    </tr>\n",
       "    <tr>\n",
       "      <th>23</th>\n",
       "      <td>23</td>\n",
       "      <td>1.950079</td>\n",
       "      <td>0.385269</td>\n",
       "      <td>0.410611</td>\n",
       "      <td>0.82750</td>\n",
       "      <td>0.810</td>\n",
       "      <td>0.828358</td>\n",
       "      <td>0.811881</td>\n",
       "    </tr>\n",
       "    <tr>\n",
       "      <th>24</th>\n",
       "      <td>24</td>\n",
       "      <td>2.090209</td>\n",
       "      <td>0.385197</td>\n",
       "      <td>0.408863</td>\n",
       "      <td>0.83375</td>\n",
       "      <td>0.810</td>\n",
       "      <td>0.836005</td>\n",
       "      <td>0.811881</td>\n",
       "    </tr>\n",
       "    <tr>\n",
       "      <th>25</th>\n",
       "      <td>25</td>\n",
       "      <td>2.230232</td>\n",
       "      <td>0.384791</td>\n",
       "      <td>0.407576</td>\n",
       "      <td>0.82875</td>\n",
       "      <td>0.815</td>\n",
       "      <td>0.831488</td>\n",
       "      <td>0.815920</td>\n",
       "    </tr>\n",
       "    <tr>\n",
       "      <th>26</th>\n",
       "      <td>26</td>\n",
       "      <td>2.369486</td>\n",
       "      <td>0.384801</td>\n",
       "      <td>0.408176</td>\n",
       "      <td>0.82750</td>\n",
       "      <td>0.810</td>\n",
       "      <td>0.828784</td>\n",
       "      <td>0.811881</td>\n",
       "    </tr>\n",
       "    <tr>\n",
       "      <th>27</th>\n",
       "      <td>27</td>\n",
       "      <td>2.509331</td>\n",
       "      <td>0.383451</td>\n",
       "      <td>0.411751</td>\n",
       "      <td>0.83000</td>\n",
       "      <td>0.800</td>\n",
       "      <td>0.830846</td>\n",
       "      <td>0.803922</td>\n",
       "    </tr>\n",
       "    <tr>\n",
       "      <th>28</th>\n",
       "      <td>28</td>\n",
       "      <td>2.648255</td>\n",
       "      <td>0.384016</td>\n",
       "      <td>0.407240</td>\n",
       "      <td>0.83000</td>\n",
       "      <td>0.815</td>\n",
       "      <td>0.833741</td>\n",
       "      <td>0.815920</td>\n",
       "    </tr>\n",
       "    <tr>\n",
       "      <th>29</th>\n",
       "      <td>29</td>\n",
       "      <td>2.789176</td>\n",
       "      <td>0.383939</td>\n",
       "      <td>0.407294</td>\n",
       "      <td>0.82750</td>\n",
       "      <td>0.815</td>\n",
       "      <td>0.828784</td>\n",
       "      <td>0.815920</td>\n",
       "    </tr>\n",
       "  </tbody>\n",
       "</table>\n",
       "</div>"
      ],
      "text/plain": [
       "    epoch  total time  train loss  test loss  train Acc  test Acc  train F1   \n",
       "0       0    0.145590    0.657560   0.589808    0.65875     0.760  0.530120  \\\n",
       "1       1    0.284704    0.534642   0.506486    0.80500     0.780  0.808354   \n",
       "2       2    0.423804    0.463726   0.458417    0.81750     0.795  0.821951   \n",
       "3       3    0.561201    0.425976   0.434660    0.82375     0.820  0.826994   \n",
       "4       4    0.699358    0.407784   0.424106    0.82625     0.815  0.827757   \n",
       "5       5    0.838874    0.398957   0.417987    0.82875     0.810  0.831902   \n",
       "6       6    0.977558    0.394521   0.415353    0.82500     0.810  0.827160   \n",
       "7       7    1.117097    0.392101   0.413456    0.82625     0.815  0.828183   \n",
       "8       8    1.254955    0.390960   0.412999    0.82625     0.810  0.827329   \n",
       "9       9    1.393645    0.389873   0.413786    0.82625     0.805  0.827329   \n",
       "10     10    0.138312    0.389186   0.413790    0.83000     0.800  0.831266   \n",
       "11     11    0.278998    0.388919   0.413244    0.82750     0.800  0.829208   \n",
       "12     12    0.418019    0.388715   0.412322    0.82625     0.805  0.827329   \n",
       "13     13    0.559544    0.388328   0.411415    0.82250     0.805  0.823821   \n",
       "14     14    0.698784    0.387821   0.410329    0.83000     0.810  0.831683   \n",
       "15     15    0.836951    0.386923   0.413409    0.82875     0.800  0.828964   \n",
       "16     16    0.978853    0.387636   0.411841    0.82750     0.810  0.829208   \n",
       "17     17    1.120299    0.386740   0.409427    0.82875     0.805  0.831488   \n",
       "18     18    1.258740    0.387006   0.410172    0.82625     0.810  0.826899   \n",
       "19     19    1.396930    0.386547   0.411185    0.82500     0.810  0.825871   \n",
       "20     20    1.535138    0.386266   0.409288    0.83125     0.815  0.833948   \n",
       "21     21    1.671947    0.386071   0.409190    0.82625     0.810  0.827329   \n",
       "22     22    1.811505    0.385677   0.409723    0.82750     0.810  0.828784   \n",
       "23     23    1.950079    0.385269   0.410611    0.82750     0.810  0.828358   \n",
       "24     24    2.090209    0.385197   0.408863    0.83375     0.810  0.836005   \n",
       "25     25    2.230232    0.384791   0.407576    0.82875     0.815  0.831488   \n",
       "26     26    2.369486    0.384801   0.408176    0.82750     0.810  0.828784   \n",
       "27     27    2.509331    0.383451   0.411751    0.83000     0.800  0.830846   \n",
       "28     28    2.648255    0.384016   0.407240    0.83000     0.815  0.833741   \n",
       "29     29    2.789176    0.383939   0.407294    0.82750     0.815  0.828784   \n",
       "\n",
       "     test F1  \n",
       "0   0.762376  \n",
       "1   0.790476  \n",
       "2   0.803828  \n",
       "3   0.823529  \n",
       "4   0.819512  \n",
       "5   0.811881  \n",
       "6   0.811881  \n",
       "7   0.815920  \n",
       "8   0.811881  \n",
       "9   0.807882  \n",
       "10  0.803922  \n",
       "11  0.803922  \n",
       "12  0.807882  \n",
       "13  0.807882  \n",
       "14  0.811881  \n",
       "15  0.803922  \n",
       "16  0.811881  \n",
       "17  0.805970  \n",
       "18  0.811881  \n",
       "19  0.811881  \n",
       "20  0.815920  \n",
       "21  0.811881  \n",
       "22  0.811881  \n",
       "23  0.811881  \n",
       "24  0.811881  \n",
       "25  0.815920  \n",
       "26  0.811881  \n",
       "27  0.803922  \n",
       "28  0.815920  \n",
       "29  0.815920  "
      ]
     },
     "execution_count": 48,
     "metadata": {},
     "output_type": "execute_result"
    }
   ],
   "source": [
    "new_results_pd"
   ]
  },
  {
   "cell_type": "markdown",
   "metadata": {},
   "source": [
    "### 4\n",
    "\n",
    "Already done"
   ]
  },
  {
   "cell_type": "markdown",
   "metadata": {},
   "source": [
    "### 5"
   ]
  },
  {
   "cell_type": "code",
   "execution_count": 49,
   "metadata": {},
   "outputs": [
    {
     "name": "stdout",
     "output_type": "stream",
     "text": [
      "Procesing 1 layers\n"
     ]
    },
    {
     "data": {
      "application/vnd.jupyter.widget-view+json": {
       "model_id": "2b461523f16042da9fb6a786b1587e21",
       "version_major": 2,
       "version_minor": 0
      },
      "text/plain": [
       "Epoch:   0%|          | 0/100 [00:00<?, ?it/s]"
      ]
     },
     "metadata": {},
     "output_type": "display_data"
    },
    {
     "name": "stdout",
     "output_type": "stream",
     "text": [
      "Procesing 2 layers\n"
     ]
    },
    {
     "data": {
      "application/vnd.jupyter.widget-view+json": {
       "model_id": "2ed08836f509438ba02d7f614b3ee796",
       "version_major": 2,
       "version_minor": 0
      },
      "text/plain": [
       "Epoch:   0%|          | 0/100 [00:00<?, ?it/s]"
      ]
     },
     "metadata": {},
     "output_type": "display_data"
    },
    {
     "name": "stdout",
     "output_type": "stream",
     "text": [
      "Procesing 5 layers\n"
     ]
    },
    {
     "data": {
      "application/vnd.jupyter.widget-view+json": {
       "model_id": "0b46c4a27cf44c00a312d2860f6d1fa3",
       "version_major": 2,
       "version_minor": 0
      },
      "text/plain": [
       "Epoch:   0%|          | 0/100 [00:00<?, ?it/s]"
      ]
     },
     "metadata": {},
     "output_type": "display_data"
    },
    {
     "name": "stdout",
     "output_type": "stream",
     "text": [
      "Procesing 10 layers\n"
     ]
    },
    {
     "data": {
      "application/vnd.jupyter.widget-view+json": {
       "model_id": "57e936f1095e4cbca871f2f4888b4e09",
       "version_major": 2,
       "version_minor": 0
      },
      "text/plain": [
       "Epoch:   0%|          | 0/100 [00:00<?, ?it/s]"
      ]
     },
     "metadata": {},
     "output_type": "display_data"
    },
    {
     "name": "stdout",
     "output_type": "stream",
     "text": [
      "Procesing 15 layers\n"
     ]
    },
    {
     "data": {
      "application/vnd.jupyter.widget-view+json": {
       "model_id": "57ab844c33a0451a8ec25a7c2d528af7",
       "version_major": 2,
       "version_minor": 0
      },
      "text/plain": [
       "Epoch:   0%|          | 0/100 [00:00<?, ?it/s]"
      ]
     },
     "metadata": {},
     "output_type": "display_data"
    },
    {
     "name": "stdout",
     "output_type": "stream",
     "text": [
      "Procesing 20 layers\n"
     ]
    },
    {
     "data": {
      "application/vnd.jupyter.widget-view+json": {
       "model_id": "e897ba62f57a47708b8a4ca7916c3494",
       "version_major": 2,
       "version_minor": 0
      },
      "text/plain": [
       "Epoch:   0%|          | 0/100 [00:00<?, ?it/s]"
      ]
     },
     "metadata": {},
     "output_type": "display_data"
    }
   ],
   "source": [
    "X_train, y_train = make_moons(n_samples=800, noise=0.4)\n",
    "X_test, y_test = make_moons(n_samples=200, noise=0.4)\n",
    "train_dataset = TensorDataset(\n",
    "    torch.tensor(X_train, dtype=torch.float32),\n",
    "    torch.tensor(y_train, dtype=torch.long)\n",
    ")\n",
    "test_dataset = TensorDataset(\n",
    "    torch.tensor(X_test, dtype=torch.float32),\n",
    "    torch.tensor(y_test, dtype=torch.long)\n",
    ")\n",
    "training_loader = DataLoader(train_dataset, shuffle=True)\n",
    "testing_loader = DataLoader(test_dataset)\n",
    "\n",
    "hiddens = [1, 2, 5, 10, 15, 20]\n",
    "results_dict = {}\n",
    "for hide in hiddens:\n",
    "    print(f'Procesing {hide} layers')\n",
    "    layers = [nn.Linear(2, 30), nn.Tanh()]\n",
    "    for i in range(hide):\n",
    "        layers.extend([nn.Linear(30, 30), nn.ReLU()])\n",
    "    layers.append(nn.Linear(30, 2))\n",
    "    model = nn.Sequential(*layers)\n",
    "    loss_func = nn.CrossEntropyLoss()\n",
    "    results_dict[str(hide)] = train_simple_network(\n",
    "        model,\n",
    "        loss_func,\n",
    "        training_loader,\n",
    "        epochs=100,\n",
    "        test_loader=testing_loader,\n",
    "        checkpoint_file=None,\n",
    "        score_funcs={'Acc': accuracy_score, 'F1': f1_score},\n",
    "        device='cpu'\n",
    "    )"
   ]
  },
  {
   "cell_type": "code",
   "execution_count": 50,
   "metadata": {},
   "outputs": [],
   "source": [
    "accs = pd.DataFrame(index=list(range(100)))\n",
    "for res in results_dict:\n",
    "    accs[res + '_test Acc'] = results_dict[res]['test Acc']"
   ]
  },
  {
   "cell_type": "code",
   "execution_count": 51,
   "metadata": {},
   "outputs": [
    {
     "data": {
      "text/plain": [
       "<Axes: >"
      ]
     },
     "execution_count": 51,
     "metadata": {},
     "output_type": "execute_result"
    },
    {
     "data": {
      "image/png": "[encoded data removed]",
      "text/plain": [
       "<Figure size 640x480 with 1 Axes>"
      ]
     },
     "metadata": {},
     "output_type": "display_data"
    }
   ],
   "source": [
    "sns.lineplot(data=accs)"
   ]
  },
  {
   "cell_type": "code",
   "execution_count": 52,
   "metadata": {},
   "outputs": [
    {
     "data": {
      "text/html": [
       "<div>\n",
       "<style scoped>\n",
       "    .dataframe tbody tr th:only-of-type {\n",
       "        vertical-align: middle;\n",
       "    }\n",
       "\n",
       "    .dataframe tbody tr th {\n",
       "        vertical-align: top;\n",
       "    }\n",
       "\n",
       "    .dataframe thead th {\n",
       "        text-align: right;\n",
       "    }\n",
       "</style>\n",
       "<table border=\"1\" class=\"dataframe\">\n",
       "  <thead>\n",
       "    <tr style=\"text-align: right;\">\n",
       "      <th></th>\n",
       "      <th>1_test Acc</th>\n",
       "      <th>2_test Acc</th>\n",
       "      <th>5_test Acc</th>\n",
       "      <th>10_test Acc</th>\n",
       "      <th>15_test Acc</th>\n",
       "      <th>20_test Acc</th>\n",
       "    </tr>\n",
       "  </thead>\n",
       "  <tbody>\n",
       "    <tr>\n",
       "      <th>90</th>\n",
       "      <td>0.875</td>\n",
       "      <td>0.860</td>\n",
       "      <td>0.880</td>\n",
       "      <td>0.5</td>\n",
       "      <td>0.5</td>\n",
       "      <td>0.5</td>\n",
       "    </tr>\n",
       "    <tr>\n",
       "      <th>91</th>\n",
       "      <td>0.875</td>\n",
       "      <td>0.860</td>\n",
       "      <td>0.875</td>\n",
       "      <td>0.5</td>\n",
       "      <td>0.5</td>\n",
       "      <td>0.5</td>\n",
       "    </tr>\n",
       "    <tr>\n",
       "      <th>92</th>\n",
       "      <td>0.865</td>\n",
       "      <td>0.865</td>\n",
       "      <td>0.875</td>\n",
       "      <td>0.5</td>\n",
       "      <td>0.5</td>\n",
       "      <td>0.5</td>\n",
       "    </tr>\n",
       "    <tr>\n",
       "      <th>93</th>\n",
       "      <td>0.875</td>\n",
       "      <td>0.865</td>\n",
       "      <td>0.860</td>\n",
       "      <td>0.5</td>\n",
       "      <td>0.5</td>\n",
       "      <td>0.5</td>\n",
       "    </tr>\n",
       "    <tr>\n",
       "      <th>94</th>\n",
       "      <td>0.865</td>\n",
       "      <td>0.860</td>\n",
       "      <td>0.860</td>\n",
       "      <td>0.5</td>\n",
       "      <td>0.5</td>\n",
       "      <td>0.5</td>\n",
       "    </tr>\n",
       "    <tr>\n",
       "      <th>95</th>\n",
       "      <td>0.870</td>\n",
       "      <td>0.865</td>\n",
       "      <td>0.865</td>\n",
       "      <td>0.5</td>\n",
       "      <td>0.5</td>\n",
       "      <td>0.5</td>\n",
       "    </tr>\n",
       "    <tr>\n",
       "      <th>96</th>\n",
       "      <td>0.880</td>\n",
       "      <td>0.870</td>\n",
       "      <td>0.850</td>\n",
       "      <td>0.5</td>\n",
       "      <td>0.5</td>\n",
       "      <td>0.5</td>\n",
       "    </tr>\n",
       "    <tr>\n",
       "      <th>97</th>\n",
       "      <td>0.865</td>\n",
       "      <td>0.870</td>\n",
       "      <td>0.875</td>\n",
       "      <td>0.5</td>\n",
       "      <td>0.5</td>\n",
       "      <td>0.5</td>\n",
       "    </tr>\n",
       "    <tr>\n",
       "      <th>98</th>\n",
       "      <td>0.865</td>\n",
       "      <td>0.865</td>\n",
       "      <td>0.865</td>\n",
       "      <td>0.5</td>\n",
       "      <td>0.5</td>\n",
       "      <td>0.5</td>\n",
       "    </tr>\n",
       "    <tr>\n",
       "      <th>99</th>\n",
       "      <td>0.880</td>\n",
       "      <td>0.860</td>\n",
       "      <td>0.875</td>\n",
       "      <td>0.5</td>\n",
       "      <td>0.5</td>\n",
       "      <td>0.5</td>\n",
       "    </tr>\n",
       "  </tbody>\n",
       "</table>\n",
       "</div>"
      ],
      "text/plain": [
       "    1_test Acc  2_test Acc  5_test Acc  10_test Acc  15_test Acc  20_test Acc\n",
       "90       0.875       0.860       0.880          0.5          0.5          0.5\n",
       "91       0.875       0.860       0.875          0.5          0.5          0.5\n",
       "92       0.865       0.865       0.875          0.5          0.5          0.5\n",
       "93       0.875       0.865       0.860          0.5          0.5          0.5\n",
       "94       0.865       0.860       0.860          0.5          0.5          0.5\n",
       "95       0.870       0.865       0.865          0.5          0.5          0.5\n",
       "96       0.880       0.870       0.850          0.5          0.5          0.5\n",
       "97       0.865       0.870       0.875          0.5          0.5          0.5\n",
       "98       0.865       0.865       0.865          0.5          0.5          0.5\n",
       "99       0.880       0.860       0.875          0.5          0.5          0.5"
      ]
     },
     "execution_count": 52,
     "metadata": {},
     "output_type": "execute_result"
    }
   ],
   "source": [
    "accs.tail(10)"
   ]
  },
  {
   "cell_type": "markdown",
   "metadata": {},
   "source": [
    "Resultados interesaantes, en este caso agregar mas capas no mejora sustancialmente el resultado, de hecho no hay evidencia de que mejore en absoluto, da la impresion que se necesitan mas `epochs` para entrenar de forma confiable entre mas capas hayan."
   ]
  },
  {
   "cell_type": "markdown",
   "metadata": {},
   "source": [
    "### 6"
   ]
  },
  {
   "cell_type": "code",
   "execution_count": 53,
   "metadata": {},
   "outputs": [
    {
     "name": "stdout",
     "output_type": "stream",
     "text": [
      "Procesing 30 neurons\n"
     ]
    },
    {
     "data": {
      "application/vnd.jupyter.widget-view+json": {
       "model_id": "8ce8f2bd8c864d269b5886a7a1b273ee",
       "version_major": 2,
       "version_minor": 0
      },
      "text/plain": [
       "Epoch:   0%|          | 0/25 [00:00<?, ?it/s]"
      ]
     },
     "metadata": {},
     "output_type": "display_data"
    },
    {
     "name": "stdout",
     "output_type": "stream",
     "text": [
      "Procesing 50 neurons\n"
     ]
    },
    {
     "data": {
      "application/vnd.jupyter.widget-view+json": {
       "model_id": "2877d6280818483b81e533fd9819ec40",
       "version_major": 2,
       "version_minor": 0
      },
      "text/plain": [
       "Epoch:   0%|          | 0/25 [00:00<?, ?it/s]"
      ]
     },
     "metadata": {},
     "output_type": "display_data"
    },
    {
     "name": "stdout",
     "output_type": "stream",
     "text": [
      "Procesing 100 neurons\n"
     ]
    },
    {
     "data": {
      "application/vnd.jupyter.widget-view+json": {
       "model_id": "05aac4aa5ff44c89a3820472ce155585",
       "version_major": 2,
       "version_minor": 0
      },
      "text/plain": [
       "Epoch:   0%|          | 0/25 [00:00<?, ?it/s]"
      ]
     },
     "metadata": {},
     "output_type": "display_data"
    },
    {
     "name": "stdout",
     "output_type": "stream",
     "text": [
      "Procesing 512 neurons\n"
     ]
    },
    {
     "data": {
      "application/vnd.jupyter.widget-view+json": {
       "model_id": "bf7a3c33aee04f51a9320baf4c466a8a",
       "version_major": 2,
       "version_minor": 0
      },
      "text/plain": [
       "Epoch:   0%|          | 0/25 [00:00<?, ?it/s]"
      ]
     },
     "metadata": {},
     "output_type": "display_data"
    },
    {
     "name": "stdout",
     "output_type": "stream",
     "text": [
      "Procesing 1024 neurons\n"
     ]
    },
    {
     "data": {
      "application/vnd.jupyter.widget-view+json": {
       "model_id": "cba772e76754477db910f9e1a91564d3",
       "version_major": 2,
       "version_minor": 0
      },
      "text/plain": [
       "Epoch:   0%|          | 0/25 [00:00<?, ?it/s]"
      ]
     },
     "metadata": {},
     "output_type": "display_data"
    }
   ],
   "source": [
    "X_train, y_train = make_moons(n_samples=800, noise=0.4)\n",
    "X_test, y_test = make_moons(n_samples=200, noise=0.4)\n",
    "train_dataset = TensorDataset(\n",
    "    torch.tensor(X_train, dtype=torch.float32),\n",
    "    torch.tensor(y_train, dtype=torch.long)\n",
    ")\n",
    "test_dataset = TensorDataset(\n",
    "    torch.tensor(X_test, dtype=torch.float32),\n",
    "    torch.tensor(y_test, dtype=torch.long)\n",
    ")\n",
    "training_loader = DataLoader(train_dataset, shuffle=True)\n",
    "testing_loader = DataLoader(test_dataset)\n",
    "\n",
    "sizes = [30, 50, 100, 512, 1024]\n",
    "results_dict = {}\n",
    "for size in sizes:\n",
    "    print(f'Procesing {size} neurons')\n",
    "    model = nn.Sequential(\n",
    "        nn.Linear(2, size),\n",
    "        nn.Tanh(),\n",
    "        nn.Linear(size, size),\n",
    "        nn.Tanh(),\n",
    "        nn.Linear(size, 2)\n",
    "    )\n",
    "    loss_func = nn.CrossEntropyLoss()\n",
    "    results_dict[str(size)] = train_simple_network(\n",
    "        model,\n",
    "        loss_func,\n",
    "        training_loader,\n",
    "        epochs=25,\n",
    "        test_loader=testing_loader,\n",
    "        checkpoint_file=None,\n",
    "        score_funcs={'Acc': accuracy_score, 'F1': f1_score},\n",
    "        device='cpu'\n",
    "    )"
   ]
  },
  {
   "cell_type": "code",
   "execution_count": 54,
   "metadata": {},
   "outputs": [
    {
     "data": {
      "text/plain": [
       "<Axes: >"
      ]
     },
     "execution_count": 54,
     "metadata": {},
     "output_type": "execute_result"
    },
    {
     "data": {
      "image/png": "[encoded data removed]",
      "text/plain": [
       "<Figure size 640x480 with 1 Axes>"
      ]
     },
     "metadata": {},
     "output_type": "display_data"
    }
   ],
   "source": [
    "accs = pd.DataFrame(index=list(range(25)))\n",
    "for res in results_dict:\n",
    "    accs[res + '_test F1'] = results_dict[res]['test F1']\n",
    "\n",
    "sns.lineplot(data=accs)"
   ]
  },
  {
   "cell_type": "code",
   "execution_count": 55,
   "metadata": {},
   "outputs": [
    {
     "data": {
      "text/html": [
       "<div>\n",
       "<style scoped>\n",
       "    .dataframe tbody tr th:only-of-type {\n",
       "        vertical-align: middle;\n",
       "    }\n",
       "\n",
       "    .dataframe tbody tr th {\n",
       "        vertical-align: top;\n",
       "    }\n",
       "\n",
       "    .dataframe thead th {\n",
       "        text-align: right;\n",
       "    }\n",
       "</style>\n",
       "<table border=\"1\" class=\"dataframe\">\n",
       "  <thead>\n",
       "    <tr style=\"text-align: right;\">\n",
       "      <th></th>\n",
       "      <th>30_test F1</th>\n",
       "      <th>50_test F1</th>\n",
       "      <th>100_test F1</th>\n",
       "      <th>512_test F1</th>\n",
       "      <th>1024_test F1</th>\n",
       "    </tr>\n",
       "  </thead>\n",
       "  <tbody>\n",
       "    <tr>\n",
       "      <th>15</th>\n",
       "      <td>0.838384</td>\n",
       "      <td>0.821053</td>\n",
       "      <td>0.822917</td>\n",
       "      <td>0.850000</td>\n",
       "      <td>0.834225</td>\n",
       "    </tr>\n",
       "    <tr>\n",
       "      <th>16</th>\n",
       "      <td>0.835052</td>\n",
       "      <td>0.822917</td>\n",
       "      <td>0.822917</td>\n",
       "      <td>0.835052</td>\n",
       "      <td>0.851485</td>\n",
       "    </tr>\n",
       "    <tr>\n",
       "      <th>17</th>\n",
       "      <td>0.835052</td>\n",
       "      <td>0.818653</td>\n",
       "      <td>0.822917</td>\n",
       "      <td>0.842640</td>\n",
       "      <td>0.858639</td>\n",
       "    </tr>\n",
       "    <tr>\n",
       "      <th>18</th>\n",
       "      <td>0.836735</td>\n",
       "      <td>0.822917</td>\n",
       "      <td>0.830769</td>\n",
       "      <td>0.835052</td>\n",
       "      <td>0.871795</td>\n",
       "    </tr>\n",
       "    <tr>\n",
       "      <th>19</th>\n",
       "      <td>0.836735</td>\n",
       "      <td>0.818653</td>\n",
       "      <td>0.830769</td>\n",
       "      <td>0.854271</td>\n",
       "      <td>0.854271</td>\n",
       "    </tr>\n",
       "    <tr>\n",
       "      <th>20</th>\n",
       "      <td>0.835052</td>\n",
       "      <td>0.816754</td>\n",
       "      <td>0.832487</td>\n",
       "      <td>0.844221</td>\n",
       "      <td>0.847291</td>\n",
       "    </tr>\n",
       "    <tr>\n",
       "      <th>21</th>\n",
       "      <td>0.830769</td>\n",
       "      <td>0.824742</td>\n",
       "      <td>0.835052</td>\n",
       "      <td>0.833333</td>\n",
       "      <td>0.846561</td>\n",
       "    </tr>\n",
       "    <tr>\n",
       "      <th>22</th>\n",
       "      <td>0.835052</td>\n",
       "      <td>0.816754</td>\n",
       "      <td>0.835052</td>\n",
       "      <td>0.834225</td>\n",
       "      <td>0.847291</td>\n",
       "    </tr>\n",
       "    <tr>\n",
       "      <th>23</th>\n",
       "      <td>0.822917</td>\n",
       "      <td>0.830769</td>\n",
       "      <td>0.822917</td>\n",
       "      <td>0.834225</td>\n",
       "      <td>0.865979</td>\n",
       "    </tr>\n",
       "    <tr>\n",
       "      <th>24</th>\n",
       "      <td>0.829016</td>\n",
       "      <td>0.822917</td>\n",
       "      <td>0.830769</td>\n",
       "      <td>0.842105</td>\n",
       "      <td>0.840426</td>\n",
       "    </tr>\n",
       "  </tbody>\n",
       "</table>\n",
       "</div>"
      ],
      "text/plain": [
       "    30_test F1  50_test F1  100_test F1  512_test F1  1024_test F1\n",
       "15    0.838384    0.821053     0.822917     0.850000      0.834225\n",
       "16    0.835052    0.822917     0.822917     0.835052      0.851485\n",
       "17    0.835052    0.818653     0.822917     0.842640      0.858639\n",
       "18    0.836735    0.822917     0.830769     0.835052      0.871795\n",
       "19    0.836735    0.818653     0.830769     0.854271      0.854271\n",
       "20    0.835052    0.816754     0.832487     0.844221      0.847291\n",
       "21    0.830769    0.824742     0.835052     0.833333      0.846561\n",
       "22    0.835052    0.816754     0.835052     0.834225      0.847291\n",
       "23    0.822917    0.830769     0.822917     0.834225      0.865979\n",
       "24    0.829016    0.822917     0.830769     0.842105      0.840426"
      ]
     },
     "execution_count": 55,
     "metadata": {},
     "output_type": "execute_result"
    }
   ],
   "source": [
    "accs.tail(10)"
   ]
  },
  {
   "cell_type": "code",
   "execution_count": 56,
   "metadata": {},
   "outputs": [
    {
     "data": {
      "text/html": [
       "<div>\n",
       "<style scoped>\n",
       "    .dataframe tbody tr th:only-of-type {\n",
       "        vertical-align: middle;\n",
       "    }\n",
       "\n",
       "    .dataframe tbody tr th {\n",
       "        vertical-align: top;\n",
       "    }\n",
       "\n",
       "    .dataframe thead th {\n",
       "        text-align: right;\n",
       "    }\n",
       "</style>\n",
       "<table border=\"1\" class=\"dataframe\">\n",
       "  <thead>\n",
       "    <tr style=\"text-align: right;\">\n",
       "      <th></th>\n",
       "      <th>30_test F1</th>\n",
       "      <th>50_test F1</th>\n",
       "      <th>100_test F1</th>\n",
       "      <th>512_test F1</th>\n",
       "      <th>1024_test F1</th>\n",
       "    </tr>\n",
       "  </thead>\n",
       "  <tbody>\n",
       "    <tr>\n",
       "      <th>15</th>\n",
       "      <td>0.838384</td>\n",
       "      <td>0.821053</td>\n",
       "      <td>0.822917</td>\n",
       "      <td>0.850000</td>\n",
       "      <td>0.834225</td>\n",
       "    </tr>\n",
       "    <tr>\n",
       "      <th>16</th>\n",
       "      <td>0.835052</td>\n",
       "      <td>0.822917</td>\n",
       "      <td>0.822917</td>\n",
       "      <td>0.835052</td>\n",
       "      <td>0.851485</td>\n",
       "    </tr>\n",
       "    <tr>\n",
       "      <th>17</th>\n",
       "      <td>0.835052</td>\n",
       "      <td>0.818653</td>\n",
       "      <td>0.822917</td>\n",
       "      <td>0.842640</td>\n",
       "      <td>0.858639</td>\n",
       "    </tr>\n",
       "    <tr>\n",
       "      <th>18</th>\n",
       "      <td>0.836735</td>\n",
       "      <td>0.822917</td>\n",
       "      <td>0.830769</td>\n",
       "      <td>0.835052</td>\n",
       "      <td>0.871795</td>\n",
       "    </tr>\n",
       "    <tr>\n",
       "      <th>19</th>\n",
       "      <td>0.836735</td>\n",
       "      <td>0.818653</td>\n",
       "      <td>0.830769</td>\n",
       "      <td>0.854271</td>\n",
       "      <td>0.854271</td>\n",
       "    </tr>\n",
       "    <tr>\n",
       "      <th>20</th>\n",
       "      <td>0.835052</td>\n",
       "      <td>0.816754</td>\n",
       "      <td>0.832487</td>\n",
       "      <td>0.844221</td>\n",
       "      <td>0.847291</td>\n",
       "    </tr>\n",
       "    <tr>\n",
       "      <th>21</th>\n",
       "      <td>0.830769</td>\n",
       "      <td>0.824742</td>\n",
       "      <td>0.835052</td>\n",
       "      <td>0.833333</td>\n",
       "      <td>0.846561</td>\n",
       "    </tr>\n",
       "    <tr>\n",
       "      <th>22</th>\n",
       "      <td>0.835052</td>\n",
       "      <td>0.816754</td>\n",
       "      <td>0.835052</td>\n",
       "      <td>0.834225</td>\n",
       "      <td>0.847291</td>\n",
       "    </tr>\n",
       "    <tr>\n",
       "      <th>23</th>\n",
       "      <td>0.822917</td>\n",
       "      <td>0.830769</td>\n",
       "      <td>0.822917</td>\n",
       "      <td>0.834225</td>\n",
       "      <td>0.865979</td>\n",
       "    </tr>\n",
       "    <tr>\n",
       "      <th>24</th>\n",
       "      <td>0.829016</td>\n",
       "      <td>0.822917</td>\n",
       "      <td>0.830769</td>\n",
       "      <td>0.842105</td>\n",
       "      <td>0.840426</td>\n",
       "    </tr>\n",
       "  </tbody>\n",
       "</table>\n",
       "</div>"
      ],
      "text/plain": [
       "    30_test F1  50_test F1  100_test F1  512_test F1  1024_test F1\n",
       "15    0.838384    0.821053     0.822917     0.850000      0.834225\n",
       "16    0.835052    0.822917     0.822917     0.835052      0.851485\n",
       "17    0.835052    0.818653     0.822917     0.842640      0.858639\n",
       "18    0.836735    0.822917     0.830769     0.835052      0.871795\n",
       "19    0.836735    0.818653     0.830769     0.854271      0.854271\n",
       "20    0.835052    0.816754     0.832487     0.844221      0.847291\n",
       "21    0.830769    0.824742     0.835052     0.833333      0.846561\n",
       "22    0.835052    0.816754     0.835052     0.834225      0.847291\n",
       "23    0.822917    0.830769     0.822917     0.834225      0.865979\n",
       "24    0.829016    0.822917     0.830769     0.842105      0.840426"
      ]
     },
     "execution_count": 56,
     "metadata": {},
     "output_type": "execute_result"
    }
   ],
   "source": [
    "accs.tail(10)"
   ]
  },
  {
   "cell_type": "markdown",
   "metadata": {},
   "source": [
    "En este caso, agregar mas neuronas a la si dio resultado, por lo menos se mejoro un poco el resutado, habria que ver en la practica esto como afecta a la matriz de confusion."
   ]
  },
  {
   "cell_type": "markdown",
   "metadata": {},
   "source": [
    "### 8"
   ]
  },
  {
   "cell_type": "code",
   "execution_count": 57,
   "metadata": {},
   "outputs": [
    {
     "name": "stdout",
     "output_type": "stream",
     "text": [
      "Procesing 2 batch size\n"
     ]
    },
    {
     "data": {
      "application/vnd.jupyter.widget-view+json": {
       "model_id": "75c4d977c17d41c1a25e535e8481c3d9",
       "version_major": 2,
       "version_minor": 0
      },
      "text/plain": [
       "Epoch:   0%|          | 0/25 [00:00<?, ?it/s]"
      ]
     },
     "metadata": {},
     "output_type": "display_data"
    },
    {
     "name": "stdout",
     "output_type": "stream",
     "text": [
      "Procesing 4 batch size\n"
     ]
    },
    {
     "data": {
      "application/vnd.jupyter.widget-view+json": {
       "model_id": "bd05a1e1732e4f18b757ad91df71e52a",
       "version_major": 2,
       "version_minor": 0
      },
      "text/plain": [
       "Epoch:   0%|          | 0/25 [00:00<?, ?it/s]"
      ]
     },
     "metadata": {},
     "output_type": "display_data"
    },
    {
     "name": "stdout",
     "output_type": "stream",
     "text": [
      "Procesing 8 batch size\n"
     ]
    },
    {
     "data": {
      "application/vnd.jupyter.widget-view+json": {
       "model_id": "f147ecfe355742bd8e0f118fc4a9704a",
       "version_major": 2,
       "version_minor": 0
      },
      "text/plain": [
       "Epoch:   0%|          | 0/25 [00:00<?, ?it/s]"
      ]
     },
     "metadata": {},
     "output_type": "display_data"
    },
    {
     "name": "stdout",
     "output_type": "stream",
     "text": [
      "Procesing 16 batch size\n"
     ]
    },
    {
     "data": {
      "application/vnd.jupyter.widget-view+json": {
       "model_id": "80e906b3062d44d09f965b5982f42a7c",
       "version_major": 2,
       "version_minor": 0
      },
      "text/plain": [
       "Epoch:   0%|          | 0/25 [00:00<?, ?it/s]"
      ]
     },
     "metadata": {},
     "output_type": "display_data"
    },
    {
     "name": "stdout",
     "output_type": "stream",
     "text": [
      "Procesing 32 batch size\n"
     ]
    },
    {
     "data": {
      "application/vnd.jupyter.widget-view+json": {
       "model_id": "c1ee0e0f3eab4fd8a40e84a44b1bae23",
       "version_major": 2,
       "version_minor": 0
      },
      "text/plain": [
       "Epoch:   0%|          | 0/25 [00:00<?, ?it/s]"
      ]
     },
     "metadata": {},
     "output_type": "display_data"
    },
    {
     "name": "stdout",
     "output_type": "stream",
     "text": [
      "Procesing 64 batch size\n"
     ]
    },
    {
     "data": {
      "application/vnd.jupyter.widget-view+json": {
       "model_id": "f8bd41ff618f42a18af94849b627c6fc",
       "version_major": 2,
       "version_minor": 0
      },
      "text/plain": [
       "Epoch:   0%|          | 0/25 [00:00<?, ?it/s]"
      ]
     },
     "metadata": {},
     "output_type": "display_data"
    },
    {
     "name": "stdout",
     "output_type": "stream",
     "text": [
      "Procesing 128 batch size\n"
     ]
    },
    {
     "data": {
      "application/vnd.jupyter.widget-view+json": {
       "model_id": "514f400012d94df3ab015476b5c47cb1",
       "version_major": 2,
       "version_minor": 0
      },
      "text/plain": [
       "Epoch:   0%|          | 0/25 [00:00<?, ?it/s]"
      ]
     },
     "metadata": {},
     "output_type": "display_data"
    },
    {
     "name": "stdout",
     "output_type": "stream",
     "text": [
      "Procesing 256 batch size\n"
     ]
    },
    {
     "data": {
      "application/vnd.jupyter.widget-view+json": {
       "model_id": "3108fc265ec046529b188f447e32a105",
       "version_major": 2,
       "version_minor": 0
      },
      "text/plain": [
       "Epoch:   0%|          | 0/25 [00:00<?, ?it/s]"
      ]
     },
     "metadata": {},
     "output_type": "display_data"
    }
   ],
   "source": [
    "X_train, y_train = make_moons(n_samples=800, noise=0.4)\n",
    "X_test, y_test = make_moons(n_samples=200, noise=0.4)\n",
    "train_dataset = TensorDataset(\n",
    "    torch.tensor(X_train, dtype=torch.float32),\n",
    "    torch.tensor(y_train, dtype=torch.long)\n",
    ")\n",
    "test_dataset = TensorDataset(\n",
    "    torch.tensor(X_test, dtype=torch.float32),\n",
    "    torch.tensor(y_test, dtype=torch.long)\n",
    ")\n",
    "\n",
    "batch_sizes = [2, 4, 8, 16, 32, 64, 128, 256]\n",
    "results_dict = {}\n",
    "for batch_size in batch_sizes:\n",
    "    training_loader = DataLoader(train_dataset, batch_size=batch_size, shuffle=True)\n",
    "    testing_loader = DataLoader(test_dataset, batch_size=batch_size)\n",
    "    print(f'Procesing {batch_size} batch size')\n",
    "    model = nn.Sequential(\n",
    "        nn.Linear(2, 30),\n",
    "        nn.Tanh(),\n",
    "        nn.Linear(30, 30),\n",
    "        nn.Tanh(),\n",
    "        nn.Linear(30, 2)\n",
    "    )\n",
    "    loss_func = nn.CrossEntropyLoss()\n",
    "    results_dict[str(batch_size)] = train_simple_network(\n",
    "        model,\n",
    "        loss_func,\n",
    "        training_loader,\n",
    "        epochs=25,\n",
    "        test_loader=testing_loader,\n",
    "        checkpoint_file=None,\n",
    "        score_funcs={'Acc': accuracy_score, 'F1': f1_score},\n",
    "        device='cpu'\n",
    "    )"
   ]
  },
  {
   "cell_type": "code",
   "execution_count": 58,
   "metadata": {},
   "outputs": [
    {
     "data": {
      "text/plain": [
       "<Axes: >"
      ]
     },
     "execution_count": 58,
     "metadata": {},
     "output_type": "execute_result"
    },
    {
     "data": {
      "image/png": "[encoded data removed]",
      "text/plain": [
       "<Figure size 640x480 with 1 Axes>"
      ]
     },
     "metadata": {},
     "output_type": "display_data"
    }
   ],
   "source": [
    "accs = pd.DataFrame(index=list(range(25)))\n",
    "for res in results_dict:\n",
    "    accs[res + '_test Acc'] = results_dict[res]['test Acc']\n",
    "\n",
    "sns.lineplot(data=accs)"
   ]
  },
  {
   "cell_type": "markdown",
   "metadata": {},
   "source": [
    "Este resultado me parece muy util, realmente se entiende el *trade-off* que hay entre velocidad de entrenamiento (en cuanto a la cantidad de `epochs`) y la rapidez con la que se llega a un minimo local (entre menos cantidad de `epochs` para llegar mejor - eje $x$ son los `epochs`)"
   ]
  },
  {
   "cell_type": "markdown",
   "metadata": {},
   "source": [
    "### 7"
   ]
  },
  {
   "cell_type": "code",
   "execution_count": 4,
   "metadata": {
    "ExecuteTime": {
     "end_time": "2023-04-24T17:34:08.785056Z",
     "start_time": "2023-04-24T17:34:08.782355Z"
    },
    "tags": []
   },
   "outputs": [],
   "source": [
    "from sklearn.datasets import load_breast_cancer"
   ]
  },
  {
   "cell_type": "code",
   "execution_count": 5,
   "metadata": {
    "ExecuteTime": {
     "end_time": "2023-04-24T17:34:08.836626Z",
     "start_time": "2023-04-24T17:34:08.784876Z"
    },
    "tags": []
   },
   "outputs": [
    {
     "name": "stdout",
     "output_type": "stream",
     "text": [
      ".. _breast_cancer_dataset:\n",
      "\n",
      "Breast cancer wisconsin (diagnostic) dataset\n",
      "--------------------------------------------\n",
      "\n",
      "**Data Set Characteristics:**\n",
      "\n",
      "    :Number of Instances: 569\n",
      "\n",
      "    :Number of Attributes: 30 numeric, predictive attributes and the class\n",
      "\n",
      "    :Attribute Information:\n",
      "        - radius (mean of distances from center to points on the perimeter)\n",
      "        - texture (standard deviation of gray-scale values)\n",
      "        - perimeter\n",
      "        - area\n",
      "        - smoothness (local variation in radius lengths)\n",
      "        - compactness (perimeter^2 / area - 1.0)\n",
      "        - concavity (severity of concave portions of the contour)\n",
      "        - concave points (number of concave portions of the contour)\n",
      "        - symmetry\n",
      "        - fractal dimension (\"coastline approximation\" - 1)\n",
      "\n",
      "        The mean, standard error, and \"worst\" or largest (mean of the three\n",
      "        worst/largest values) of these features were computed for each image,\n",
      "        resulting in 30 features.  For instance, field 0 is Mean Radius, field\n",
      "        10 is Radius SE, field 20 is Worst Radius.\n",
      "\n",
      "        - class:\n",
      "                - WDBC-Malignant\n",
      "                - WDBC-Benign\n",
      "\n",
      "    :Summary Statistics:\n",
      "\n",
      "    ===================================== ====== ======\n",
      "                                           Min    Max\n",
      "    ===================================== ====== ======\n",
      "    radius (mean):                        6.981  28.11\n",
      "    texture (mean):                       9.71   39.28\n",
      "    perimeter (mean):                     43.79  188.5\n",
      "    area (mean):                          143.5  2501.0\n",
      "    smoothness (mean):                    0.053  0.163\n",
      "    compactness (mean):                   0.019  0.345\n",
      "    concavity (mean):                     0.0    0.427\n",
      "    concave points (mean):                0.0    0.201\n",
      "    symmetry (mean):                      0.106  0.304\n",
      "    fractal dimension (mean):             0.05   0.097\n",
      "    radius (standard error):              0.112  2.873\n",
      "    texture (standard error):             0.36   4.885\n",
      "    perimeter (standard error):           0.757  21.98\n",
      "    area (standard error):                6.802  542.2\n",
      "    smoothness (standard error):          0.002  0.031\n",
      "    compactness (standard error):         0.002  0.135\n",
      "    concavity (standard error):           0.0    0.396\n",
      "    concave points (standard error):      0.0    0.053\n",
      "    symmetry (standard error):            0.008  0.079\n",
      "    fractal dimension (standard error):   0.001  0.03\n",
      "    radius (worst):                       7.93   36.04\n",
      "    texture (worst):                      12.02  49.54\n",
      "    perimeter (worst):                    50.41  251.2\n",
      "    area (worst):                         185.2  4254.0\n",
      "    smoothness (worst):                   0.071  0.223\n",
      "    compactness (worst):                  0.027  1.058\n",
      "    concavity (worst):                    0.0    1.252\n",
      "    concave points (worst):               0.0    0.291\n",
      "    symmetry (worst):                     0.156  0.664\n",
      "    fractal dimension (worst):            0.055  0.208\n",
      "    ===================================== ====== ======\n",
      "\n",
      "    :Missing Attribute Values: None\n",
      "\n",
      "    :Class Distribution: 212 - Malignant, 357 - Benign\n",
      "\n",
      "    :Creator:  Dr. William H. Wolberg, W. Nick Street, Olvi L. Mangasarian\n",
      "\n",
      "    :Donor: Nick Street\n",
      "\n",
      "    :Date: November, 1995\n",
      "\n",
      "This is a copy of UCI ML Breast Cancer Wisconsin (Diagnostic) datasets.\n",
      "https://goo.gl/U2Uwz2\n",
      "\n",
      "Features are computed from a digitized image of a fine needle\n",
      "aspirate (FNA) of a breast mass.  They describe\n",
      "characteristics of the cell nuclei present in the image.\n",
      "\n",
      "Separating plane described above was obtained using\n",
      "Multisurface Method-Tree (MSM-T) [K. P. Bennett, \"Decision Tree\n",
      "Construction Via Linear Programming.\" Proceedings of the 4th\n",
      "Midwest Artificial Intelligence and Cognitive Science Society,\n",
      "pp. 97-101, 1992], a classification method which uses linear\n",
      "programming to construct a decision tree.  Relevant features\n",
      "were selected using an exhaustive search in the space of 1-4\n",
      "features and 1-3 separating planes.\n",
      "\n",
      "The actual linear program used to obtain the separating plane\n",
      "in the 3-dimensional space is that described in:\n",
      "[K. P. Bennett and O. L. Mangasarian: \"Robust Linear\n",
      "Programming Discrimination of Two Linearly Inseparable Sets\",\n",
      "Optimization Methods and Software 1, 1992, 23-34].\n",
      "\n",
      "This database is also available through the UW CS ftp server:\n",
      "\n",
      "ftp ftp.cs.wisc.edu\n",
      "cd math-prog/cpo-dataset/machine-learn/WDBC/\n",
      "\n",
      ".. topic:: References\n",
      "\n",
      "   - W.N. Street, W.H. Wolberg and O.L. Mangasarian. Nuclear feature extraction \n",
      "     for breast tumor diagnosis. IS&T/SPIE 1993 International Symposium on \n",
      "     Electronic Imaging: Science and Technology, volume 1905, pages 861-870,\n",
      "     San Jose, CA, 1993.\n",
      "   - O.L. Mangasarian, W.N. Street and W.H. Wolberg. Breast cancer diagnosis and \n",
      "     prognosis via linear programming. Operations Research, 43(4), pages 570-577, \n",
      "     July-August 1995.\n",
      "   - W.H. Wolberg, W.N. Street, and O.L. Mangasarian. Machine learning techniques\n",
      "     to diagnose breast cancer from fine-needle aspirates. Cancer Letters 77 (1994) \n",
      "     163-171.\n"
     ]
    }
   ],
   "source": [
    "data_dict = load_breast_cancer()\n",
    "print(data_dict['DESCR'])"
   ]
  },
  {
   "cell_type": "code",
   "execution_count": 6,
   "metadata": {
    "ExecuteTime": {
     "end_time": "2023-04-24T17:34:08.849333Z",
     "start_time": "2023-04-24T17:34:08.796216Z"
    },
    "tags": []
   },
   "outputs": [
    {
     "data": {
      "text/plain": [
       "dict_keys(['data', 'target', 'frame', 'target_names', 'DESCR', 'feature_names', 'filename', 'data_module'])"
      ]
     },
     "execution_count": 6,
     "metadata": {},
     "output_type": "execute_result"
    }
   ],
   "source": [
    "data_dict.keys()"
   ]
  },
  {
   "cell_type": "code",
   "execution_count": 7,
   "metadata": {
    "ExecuteTime": {
     "end_time": "2023-04-24T17:34:08.850005Z",
     "start_time": "2023-04-24T17:34:08.798060Z"
    },
    "tags": []
   },
   "outputs": [
    {
     "data": {
      "text/plain": [
       "(569, 30)"
      ]
     },
     "execution_count": 7,
     "metadata": {},
     "output_type": "execute_result"
    }
   ],
   "source": [
    "data_dict['data'].shape"
   ]
  },
  {
   "cell_type": "code",
   "execution_count": 8,
   "metadata": {
    "ExecuteTime": {
     "end_time": "2023-04-24T17:34:08.850160Z",
     "start_time": "2023-04-24T17:34:08.800094Z"
    },
    "tags": []
   },
   "outputs": [
    {
     "data": {
      "text/plain": [
       "(569,)"
      ]
     },
     "execution_count": 8,
     "metadata": {},
     "output_type": "execute_result"
    }
   ],
   "source": [
    "data_dict['target'].shape"
   ]
  },
  {
   "cell_type": "code",
   "execution_count": 41,
   "metadata": {
    "ExecuteTime": {
     "end_time": "2023-04-24T17:35:34.538649Z",
     "start_time": "2023-04-24T17:34:22.013697Z"
    },
    "tags": []
   },
   "outputs": [
    {
     "data": {
      "application/vnd.jupyter.widget-view+json": {
       "model_id": "94d30d952b6a49d3955e12fb80097b36",
       "version_major": 2,
       "version_minor": 0
      },
      "text/plain": [
       "Epoch:   0%|          | 0/25 [00:00<?, ?it/s]"
      ]
     },
     "metadata": {},
     "output_type": "display_data"
    },
    {
     "data": {
      "text/html": [
       "<div>\n",
       "<style scoped>\n",
       "    .dataframe tbody tr th:only-of-type {\n",
       "        vertical-align: middle;\n",
       "    }\n",
       "\n",
       "    .dataframe tbody tr th {\n",
       "        vertical-align: top;\n",
       "    }\n",
       "\n",
       "    .dataframe thead th {\n",
       "        text-align: right;\n",
       "    }\n",
       "</style>\n",
       "<table border=\"1\" class=\"dataframe\">\n",
       "  <thead>\n",
       "    <tr style=\"text-align: right;\">\n",
       "      <th></th>\n",
       "      <th>epoch</th>\n",
       "      <th>total time</th>\n",
       "      <th>train loss</th>\n",
       "      <th>test loss</th>\n",
       "      <th>train Acc</th>\n",
       "      <th>test Acc</th>\n",
       "    </tr>\n",
       "  </thead>\n",
       "  <tbody>\n",
       "    <tr>\n",
       "      <th>0</th>\n",
       "      <td>0</td>\n",
       "      <td>0.044440</td>\n",
       "      <td>0.687220</td>\n",
       "      <td>0.684077</td>\n",
       "      <td>0.630769</td>\n",
       "      <td>0.649123</td>\n",
       "    </tr>\n",
       "    <tr>\n",
       "      <th>1</th>\n",
       "      <td>1</td>\n",
       "      <td>0.099251</td>\n",
       "      <td>0.681930</td>\n",
       "      <td>0.679215</td>\n",
       "      <td>0.621978</td>\n",
       "      <td>0.649123</td>\n",
       "    </tr>\n",
       "    <tr>\n",
       "      <th>2</th>\n",
       "      <td>2</td>\n",
       "      <td>0.140179</td>\n",
       "      <td>0.676508</td>\n",
       "      <td>0.674196</td>\n",
       "      <td>0.621978</td>\n",
       "      <td>0.649123</td>\n",
       "    </tr>\n",
       "    <tr>\n",
       "      <th>3</th>\n",
       "      <td>3</td>\n",
       "      <td>0.177891</td>\n",
       "      <td>0.671958</td>\n",
       "      <td>0.669278</td>\n",
       "      <td>0.621978</td>\n",
       "      <td>0.649123</td>\n",
       "    </tr>\n",
       "    <tr>\n",
       "      <th>4</th>\n",
       "      <td>4</td>\n",
       "      <td>0.216506</td>\n",
       "      <td>0.666925</td>\n",
       "      <td>0.664568</td>\n",
       "      <td>0.621978</td>\n",
       "      <td>0.649123</td>\n",
       "    </tr>\n",
       "    <tr>\n",
       "      <th>5</th>\n",
       "      <td>5</td>\n",
       "      <td>0.276871</td>\n",
       "      <td>0.661939</td>\n",
       "      <td>0.659626</td>\n",
       "      <td>0.621978</td>\n",
       "      <td>0.649123</td>\n",
       "    </tr>\n",
       "    <tr>\n",
       "      <th>6</th>\n",
       "      <td>6</td>\n",
       "      <td>0.316422</td>\n",
       "      <td>0.659869</td>\n",
       "      <td>0.654749</td>\n",
       "      <td>0.621978</td>\n",
       "      <td>0.649123</td>\n",
       "    </tr>\n",
       "    <tr>\n",
       "      <th>7</th>\n",
       "      <td>7</td>\n",
       "      <td>0.353882</td>\n",
       "      <td>0.654143</td>\n",
       "      <td>0.650294</td>\n",
       "      <td>0.621978</td>\n",
       "      <td>0.649123</td>\n",
       "    </tr>\n",
       "    <tr>\n",
       "      <th>8</th>\n",
       "      <td>8</td>\n",
       "      <td>0.392464</td>\n",
       "      <td>0.650497</td>\n",
       "      <td>0.646245</td>\n",
       "      <td>0.621978</td>\n",
       "      <td>0.649123</td>\n",
       "    </tr>\n",
       "    <tr>\n",
       "      <th>9</th>\n",
       "      <td>9</td>\n",
       "      <td>0.429708</td>\n",
       "      <td>0.644259</td>\n",
       "      <td>0.642395</td>\n",
       "      <td>0.621978</td>\n",
       "      <td>0.649123</td>\n",
       "    </tr>\n",
       "    <tr>\n",
       "      <th>10</th>\n",
       "      <td>10</td>\n",
       "      <td>0.467335</td>\n",
       "      <td>0.641903</td>\n",
       "      <td>0.638866</td>\n",
       "      <td>0.621978</td>\n",
       "      <td>0.649123</td>\n",
       "    </tr>\n",
       "    <tr>\n",
       "      <th>11</th>\n",
       "      <td>11</td>\n",
       "      <td>0.504833</td>\n",
       "      <td>0.642429</td>\n",
       "      <td>0.635274</td>\n",
       "      <td>0.621978</td>\n",
       "      <td>0.649123</td>\n",
       "    </tr>\n",
       "    <tr>\n",
       "      <th>12</th>\n",
       "      <td>12</td>\n",
       "      <td>0.541049</td>\n",
       "      <td>0.631807</td>\n",
       "      <td>0.630843</td>\n",
       "      <td>0.621978</td>\n",
       "      <td>0.649123</td>\n",
       "    </tr>\n",
       "    <tr>\n",
       "      <th>13</th>\n",
       "      <td>13</td>\n",
       "      <td>0.578368</td>\n",
       "      <td>0.628674</td>\n",
       "      <td>0.626529</td>\n",
       "      <td>0.621978</td>\n",
       "      <td>0.649123</td>\n",
       "    </tr>\n",
       "    <tr>\n",
       "      <th>14</th>\n",
       "      <td>14</td>\n",
       "      <td>0.616364</td>\n",
       "      <td>0.626212</td>\n",
       "      <td>0.621619</td>\n",
       "      <td>0.621978</td>\n",
       "      <td>0.649123</td>\n",
       "    </tr>\n",
       "    <tr>\n",
       "      <th>15</th>\n",
       "      <td>15</td>\n",
       "      <td>0.653011</td>\n",
       "      <td>0.623272</td>\n",
       "      <td>0.615657</td>\n",
       "      <td>0.621978</td>\n",
       "      <td>0.649123</td>\n",
       "    </tr>\n",
       "    <tr>\n",
       "      <th>16</th>\n",
       "      <td>16</td>\n",
       "      <td>0.689156</td>\n",
       "      <td>0.615126</td>\n",
       "      <td>0.610026</td>\n",
       "      <td>0.621978</td>\n",
       "      <td>0.649123</td>\n",
       "    </tr>\n",
       "    <tr>\n",
       "      <th>17</th>\n",
       "      <td>17</td>\n",
       "      <td>0.727145</td>\n",
       "      <td>0.608199</td>\n",
       "      <td>0.605812</td>\n",
       "      <td>0.621978</td>\n",
       "      <td>0.649123</td>\n",
       "    </tr>\n",
       "    <tr>\n",
       "      <th>18</th>\n",
       "      <td>18</td>\n",
       "      <td>0.764790</td>\n",
       "      <td>0.613721</td>\n",
       "      <td>0.602441</td>\n",
       "      <td>0.621978</td>\n",
       "      <td>0.649123</td>\n",
       "    </tr>\n",
       "    <tr>\n",
       "      <th>19</th>\n",
       "      <td>19</td>\n",
       "      <td>0.800969</td>\n",
       "      <td>0.606025</td>\n",
       "      <td>0.596902</td>\n",
       "      <td>0.621978</td>\n",
       "      <td>0.649123</td>\n",
       "    </tr>\n",
       "    <tr>\n",
       "      <th>20</th>\n",
       "      <td>20</td>\n",
       "      <td>0.839034</td>\n",
       "      <td>0.599915</td>\n",
       "      <td>0.592867</td>\n",
       "      <td>0.624176</td>\n",
       "      <td>0.657895</td>\n",
       "    </tr>\n",
       "    <tr>\n",
       "      <th>21</th>\n",
       "      <td>21</td>\n",
       "      <td>0.876129</td>\n",
       "      <td>0.594341</td>\n",
       "      <td>0.585572</td>\n",
       "      <td>0.632967</td>\n",
       "      <td>0.657895</td>\n",
       "    </tr>\n",
       "    <tr>\n",
       "      <th>22</th>\n",
       "      <td>22</td>\n",
       "      <td>0.913684</td>\n",
       "      <td>0.584248</td>\n",
       "      <td>0.580754</td>\n",
       "      <td>0.635165</td>\n",
       "      <td>0.657895</td>\n",
       "    </tr>\n",
       "    <tr>\n",
       "      <th>23</th>\n",
       "      <td>23</td>\n",
       "      <td>0.955458</td>\n",
       "      <td>0.583364</td>\n",
       "      <td>0.575525</td>\n",
       "      <td>0.635165</td>\n",
       "      <td>0.657895</td>\n",
       "    </tr>\n",
       "    <tr>\n",
       "      <th>24</th>\n",
       "      <td>24</td>\n",
       "      <td>0.993287</td>\n",
       "      <td>0.579157</td>\n",
       "      <td>0.569541</td>\n",
       "      <td>0.635165</td>\n",
       "      <td>0.657895</td>\n",
       "    </tr>\n",
       "  </tbody>\n",
       "</table>\n",
       "</div>"
      ],
      "text/plain": [
       "    epoch  total time  train loss  test loss  train Acc  test Acc\n",
       "0       0    0.044440    0.687220   0.684077   0.630769  0.649123\n",
       "1       1    0.099251    0.681930   0.679215   0.621978  0.649123\n",
       "2       2    0.140179    0.676508   0.674196   0.621978  0.649123\n",
       "3       3    0.177891    0.671958   0.669278   0.621978  0.649123\n",
       "4       4    0.216506    0.666925   0.664568   0.621978  0.649123\n",
       "5       5    0.276871    0.661939   0.659626   0.621978  0.649123\n",
       "6       6    0.316422    0.659869   0.654749   0.621978  0.649123\n",
       "7       7    0.353882    0.654143   0.650294   0.621978  0.649123\n",
       "8       8    0.392464    0.650497   0.646245   0.621978  0.649123\n",
       "9       9    0.429708    0.644259   0.642395   0.621978  0.649123\n",
       "10     10    0.467335    0.641903   0.638866   0.621978  0.649123\n",
       "11     11    0.504833    0.642429   0.635274   0.621978  0.649123\n",
       "12     12    0.541049    0.631807   0.630843   0.621978  0.649123\n",
       "13     13    0.578368    0.628674   0.626529   0.621978  0.649123\n",
       "14     14    0.616364    0.626212   0.621619   0.621978  0.649123\n",
       "15     15    0.653011    0.623272   0.615657   0.621978  0.649123\n",
       "16     16    0.689156    0.615126   0.610026   0.621978  0.649123\n",
       "17     17    0.727145    0.608199   0.605812   0.621978  0.649123\n",
       "18     18    0.764790    0.613721   0.602441   0.621978  0.649123\n",
       "19     19    0.800969    0.606025   0.596902   0.621978  0.649123\n",
       "20     20    0.839034    0.599915   0.592867   0.624176  0.657895\n",
       "21     21    0.876129    0.594341   0.585572   0.632967  0.657895\n",
       "22     22    0.913684    0.584248   0.580754   0.635165  0.657895\n",
       "23     23    0.955458    0.583364   0.575525   0.635165  0.657895\n",
       "24     24    0.993287    0.579157   0.569541   0.635165  0.657895"
      ]
     },
     "execution_count": 41,
     "metadata": {},
     "output_type": "execute_result"
    }
   ],
   "source": [
    "breast_dataset = TensorDataset(\n",
    "    torch.tensor(data_dict['data'], dtype=torch.float32),\n",
    "    torch.tensor(data_dict['target'].reshape(-1, 1), dtype=torch.float32)\n",
    ")\n",
    "\n",
    "# split between train and validation\n",
    "train_size = int(len(breast_dataset)*0.8)\n",
    "test_size = len(breast_dataset) - train_size\n",
    "\n",
    "train_dataset, test_dataset = torch.utils.data.random_split(\n",
    "    breast_dataset, [train_size, test_size]\n",
    ")\n",
    "\n",
    "train_loader = DataLoader(train_dataset, shuffle=True, batch_size=32)\n",
    "test_loader = DataLoader(test_dataset, batch_size=32)\n",
    "\n",
    "model = nn.Sequential(\n",
    "    nn.Linear(30, 64),\n",
    "    nn.Tanh(),\n",
    "    nn.Linear(64, 128),\n",
    "    nn.Tanh(),\n",
    "    nn.Linear(128, 1024),\n",
    "    nn.Tanh(),\n",
    "    nn.Linear(1024, 1024),\n",
    "    nn.Tanh(),\n",
    "    nn.Linear(1024, 64),\n",
    "    nn.Tanh(),\n",
    "    nn.Linear(64, 1),\n",
    "    nn.Sigmoid()\n",
    ")\n",
    "loss_func = nn.BCELoss()\n",
    "results = train_simple_network(\n",
    "    model=model,\n",
    "    loss_func=loss_func,\n",
    "    train_loader=train_loader,\n",
    "    epochs=25,\n",
    "    test_loader=test_loader,\n",
    "    checkpoint_file=None,\n",
    "    device='cpu',\n",
    "    score_funcs={'Acc': accuracy_score}\n",
    ")\n",
    "\n",
    "results"
   ]
  }
 ],
 "metadata": {
  "kernelspec": {
   "display_name": "Python 3 (ipykernel)",
   "language": "python",
   "name": "python3"
  },
  "language_info": {
   "codemirror_mode": {
    "name": "ipython",
    "version": 3
   },
   "file_extension": ".py",
   "mimetype": "text/x-python",
   "name": "python",
   "nbconvert_exporter": "python",
   "pygments_lexer": "ipython3",
   "version": "3.9.6"
  }
 },
 "nbformat": 4,
 "nbformat_minor": 4
}
