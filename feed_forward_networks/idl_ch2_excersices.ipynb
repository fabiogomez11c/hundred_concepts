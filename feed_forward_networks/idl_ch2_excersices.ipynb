{
 "cells": [
  {
   "cell_type": "code",
   "execution_count": 40,
   "metadata": {},
   "outputs": [],
   "source": [
    "import torch\n",
    "import torch.nn as nn\n",
    "import torch.nn.functional as F\n",
    "import seaborn as sns\n",
    "from sklearn.datasets import make_moons\n",
    "from sklearn.metrics import accuracy_score, f1_score\n",
    "from torch.utils.data import DataLoader, Dataset, TensorDataset\n",
    "import matplotlib.pyplot as plt\n",
    "from tqdm.autonotebook import tqdm\n",
    "import time\n",
    "import numpy as np\n",
    "import pandas as pd\n",
    "from uuid import uuid4\n",
    "from typing import Dict, Union\n",
    "import os"
   ]
  },
  {
   "cell_type": "code",
   "execution_count": 2,
   "metadata": {},
   "outputs": [],
   "source": [
    "def moveTo(obj, device):\n",
    "    \"\"\"\n",
    "    obj: the python object ot move to a device, or to move its contents to a device\n",
    "    device: the compute device to move objects to\n",
    "    \"\"\"\n",
    "    if isinstance(obj, list):\n",
    "        return [moveTo(o, device) for o in obj]\n",
    "    elif isinstance(obj, tuple):\n",
    "        return tuple(moveTo(o, device) for o in obj)\n",
    "    elif isinstance(obj, set):\n",
    "        return set(moveTo(o, device) for o in obj)\n",
    "    elif isinstance(obj, dict):\n",
    "        to_ret = dict()\n",
    "        for k, v in obj.items():\n",
    "            to_ret[moveTo(k, device)] = moveTo(v, device)\n",
    "        return to_ret\n",
    "    elif hasattr(obj, \"to\"):\n",
    "        return obj.to(device)\n",
    "    else:\n",
    "        return obj"
   ]
  },
  {
   "cell_type": "code",
   "execution_count": 42,
   "metadata": {},
   "outputs": [],
   "source": [
    "def run_epoch(model, optimizer, data_loader, loss_func, device, results, score_funcs, prefix=\"\"):\n",
    "    # init empty variables\n",
    "    running_loss = []\n",
    "    y_true = []\n",
    "    y_pred = []\n",
    "    start = time.time()\n",
    "    # loop over the batchs\n",
    "    for inputs, labels in data_loader:\n",
    "        # move x, y to correct device\n",
    "        inputs = moveTo(inputs, device=device)\n",
    "        labels = moveTo(labels, device=device)\n",
    "\n",
    "        # estimate\n",
    "        y_hat = model(inputs)\n",
    "\n",
    "        # compute loss, backpropagate and apply gradients if needed\n",
    "        loss = loss_func(y_hat, labels)\n",
    "        if model.training:\n",
    "            loss.backward()\n",
    "            optimizer.step()\n",
    "            optimizer.zero_grad()\n",
    "        \n",
    "        # store the results\n",
    "        running_loss.append(loss.item())\n",
    "        if score_funcs is not None and len(score_funcs) > 1 and isinstance(labels, torch.Tensor):\n",
    "            labels = labels.detach().cpu().numpy()\n",
    "            y_hat = y_hat.detach().cpu().numpy()\n",
    "            y_true.extend(labels.tolist())\n",
    "            y_pred.extend(y_hat.tolist())\n",
    "        \n",
    "    end = time.time()\n",
    "\n",
    "    # clean results to compute metrics under sklearn standards\n",
    "    y_pred = np.asarray(y_pred)\n",
    "    if len(y_pred.shape) == 2 and y_pred.shape[1] > 1:\n",
    "        y_pred = np.argmax(y_pred, axis=1)\n",
    "    \n",
    "    results[prefix + ' loss'].append(np.mean(running_loss))\n",
    "    if score_funcs is not None:\n",
    "        for name, score_func in score_funcs.items():\n",
    "            try:\n",
    "                results[prefix + \" \" + name].append( score_func(y_true, y_pred) )\n",
    "            except:\n",
    "                results[prefix + \" \" + name].append(float(\"NaN\"))\n",
    "    return end-start #time spent on epoc\n",
    "\n",
    "def save_model(\n",
    "    model: nn.Module,\n",
    "    checkpoint_file: str,\n",
    "    optimizer: nn.Module,\n",
    "    true_epoch: int,\n",
    "    results: Dict,\n",
    "    model_file_name: str = None\n",
    "):\n",
    "    # check if the folder for models exists\n",
    "    folder_path = \"checkpoints\"\n",
    "    if not os.path.exists(folder_path):\n",
    "        os.makedirs(folder_path)\n",
    "\n",
    "    # save the model checkpoint\n",
    "    file_name = uuid4().hex + '_' + checkpoint_file\n",
    "    if model_file_name is not None:\n",
    "        file_name = model_file_name\n",
    "    torch.save({\n",
    "        'epoch': true_epoch,\n",
    "        'model_state_dict': model.state_dict(),\n",
    "        'optimizer_state_dict': optimizer.state_dict(),\n",
    "        'results' : results\n",
    "        }, os.path.join(folder_path, file_name))\n",
    "\n",
    "def train_simple_network(\n",
    "        model, \n",
    "        loss_func,\n",
    "        train_loader,\n",
    "        test_loader=None,\n",
    "        score_funcs=None,\n",
    "        device='cpu',\n",
    "        epochs=50,\n",
    "        checkpoint_file=None,\n",
    "        prev_results=None,\n",
    "        checkpoint_dict=None,\n",
    "        checkpoint_every_x=1\n",
    "    ):\n",
    "    # init tracking metrics\n",
    "    to_track = [\"epoch\", \"total time\", \"train loss\"]\n",
    "    if test_loader is not None:\n",
    "        to_track.append(\"test loss\")\n",
    "    if score_funcs is not None:\n",
    "        for eval_score in score_funcs:\n",
    "            to_track.append(\"train \" + eval_score )\n",
    "            if test_loader is not None:\n",
    "                to_track.append(\"test \" + eval_score )\n",
    "    total_train_time = 0\n",
    "    if prev_results is None:\n",
    "        results = {}\n",
    "        for item in to_track:\n",
    "            results[item] = []\n",
    "    else:\n",
    "        results = prev_results\n",
    "\n",
    "    # initialize optimizer\n",
    "    optimizer = torch.optim.SGD(model.parameters(), lr=0.001)\n",
    "    if checkpoint_dict is not None and 'optimizer_state_dict' in checkpoint_dict.keys():\n",
    "        optimizer.load_state_dict(checkpoint_dict['optimizer_state_dict'])\n",
    "\n",
    "    # start training loop\n",
    "    model.to(device)\n",
    "    for epoch in tqdm(range(epochs), desc=\"Epoch\"):\n",
    "        # pass the model throught a epoch\n",
    "        model = model.train()\n",
    "        total_train_time += run_epoch(\n",
    "            model, \n",
    "            optimizer, \n",
    "            train_loader, \n",
    "            loss_func, \n",
    "            device, \n",
    "            results, \n",
    "            score_funcs, \n",
    "            prefix=\"train\", \n",
    "        )\n",
    "    \n",
    "        # grab more results from the last epoch\n",
    "        results[\"total time\"].append( total_train_time )\n",
    "        results[\"epoch\"].append( epoch )\n",
    "\n",
    "        # test the model in validation\n",
    "        if test_loader is not None:\n",
    "            model = model.eval()\n",
    "            with torch.no_grad():\n",
    "                run_epoch(model, optimizer, test_loader, loss_func, device, results, score_funcs, prefix=\"test\")\n",
    "\n",
    "        # save the model checkpoint after the epoch\n",
    "        true_epoch = len(results['epoch']) - 1 # useful when model and optimizer loaded\n",
    "        if checkpoint_file is not None and (true_epoch % checkpoint_every_x) == 0:\n",
    "            save_model(\n",
    "                model=model,\n",
    "                checkpoint_file=checkpoint_file,\n",
    "                optimizer=optimizer,\n",
    "                true_epoch=true_epoch,\n",
    "                results=results\n",
    "            )\n",
    "    \n",
    "    # save the last model\n",
    "    if checkpoint_file is not None:\n",
    "        save_model(\n",
    "                model=model,\n",
    "                checkpoint_file=checkpoint_file,\n",
    "                optimizer=optimizer,\n",
    "                true_epoch=true_epoch,\n",
    "                results=results,\n",
    "                model_file_name='last.pt'\n",
    "            )\n",
    "\n",
    "    return pd.DataFrame.from_dict(results)"
   ]
  },
  {
   "cell_type": "markdown",
   "metadata": {},
   "source": [
    "### 1"
   ]
  },
  {
   "cell_type": "code",
   "execution_count": 4,
   "metadata": {},
   "outputs": [
    {
     "data": {
      "image/png": "[encoded data removed]",
      "text/plain": [
       "<Figure size 640x480 with 1 Axes>"
      ]
     },
     "metadata": {},
     "output_type": "display_data"
    }
   ],
   "source": [
    "# datos simulados para un problema de regresion\n",
    "X = np.linspace(0, 20 , num=200).reshape(-1, 1)\n",
    "y = X + np.sin(X)*2 + np.random.normal(size=X.shape).reshape(-1, 1)\n",
    "sns.scatterplot(x=X[:,0], y=y[:, 0])\n",
    "\n",
    "class Simple1DRegressionDataset(Dataset):\n",
    "    def __init__(self, X, y):\n",
    "        super(Simple1DRegressionDataset, self).__init__()\n",
    "        self.X = X\n",
    "        self.y = y\n",
    "\n",
    "    def __getitem__(self, index):\n",
    "        return (\n",
    "            torch.tensor(self.X[index, :], dtype=torch.float32),\n",
    "            torch.tensor(self.y[index], dtype=torch.float32)    \n",
    "        )\n",
    "    \n",
    "    def __len__(self):\n",
    "        return self.X.shape[0]\n",
    "\n",
    "training_loader = DataLoader(Simple1DRegressionDataset(X, y), shuffle=True)"
   ]
  },
  {
   "cell_type": "code",
   "execution_count": 5,
   "metadata": {},
   "outputs": [],
   "source": [
    "from sklearn.preprocessing import StandardScaler"
   ]
  },
  {
   "cell_type": "code",
   "execution_count": 6,
   "metadata": {},
   "outputs": [],
   "source": [
    "class StandardScale1DRegressionDataset(Dataset):\n",
    "    def __init__(self, X, y):\n",
    "        super(StandardScale1DRegressionDataset, self).__init__()\n",
    "        self.X = X\n",
    "        self.y = self.standard_scale(y)\n",
    "    \n",
    "    @staticmethod  # probably not a staticmethod in real life \n",
    "    def standard_scale(x):\n",
    "        scaler = StandardScaler()\n",
    "        scaler.fit(x)\n",
    "        return scaler.transform(x)\n",
    "\n",
    "    def __getitem__(self, index):\n",
    "        return (\n",
    "            torch.tensor(self.X[index, :], dtype=torch.float32),\n",
    "            torch.tensor(self.y[index], dtype=torch.float32)    \n",
    "        )\n",
    "    \n",
    "    def __len__(self):\n",
    "        return self.X.shape[0]\n",
    "\n",
    "standard_training_loader = DataLoader(StandardScale1DRegressionDataset(X, y), shuffle=True)"
   ]
  },
  {
   "cell_type": "code",
   "execution_count": 7,
   "metadata": {},
   "outputs": [
    {
     "data": {
      "application/vnd.jupyter.widget-view+json": {
       "model_id": "553c4a7702134b44851f0c50a3e1998f",
       "version_major": 2,
       "version_minor": 0
      },
      "text/plain": [
       "Epoch:   0%|          | 0/50 [00:00<?, ?it/s]"
      ]
     },
     "metadata": {},
     "output_type": "display_data"
    }
   ],
   "source": [
    "# without scaling\n",
    "in_features = 1\n",
    "out_features = 1\n",
    "model = nn.Linear(in_features, out_features)\n",
    "loss_func = nn.MSELoss()\n",
    "\n",
    "result = train_simple_network(\n",
    "    model,\n",
    "    loss_func,\n",
    "    training_loader,\n",
    ")"
   ]
  },
  {
   "cell_type": "code",
   "execution_count": 8,
   "metadata": {},
   "outputs": [
    {
     "data": {
      "application/vnd.jupyter.widget-view+json": {
       "model_id": "eccb19e81fb348138edadd11fd883641",
       "version_major": 2,
       "version_minor": 0
      },
      "text/plain": [
       "Epoch:   0%|          | 0/50 [00:00<?, ?it/s]"
      ]
     },
     "metadata": {},
     "output_type": "display_data"
    }
   ],
   "source": [
    "# with scaling\n",
    "in_features = 1\n",
    "out_features = 1\n",
    "model = nn.Linear(in_features, out_features)\n",
    "loss_func = nn.MSELoss()\n",
    "\n",
    "result_st = train_simple_network(\n",
    "    model,\n",
    "    loss_func,\n",
    "    standard_training_loader,\n",
    ")"
   ]
  },
  {
   "cell_type": "code",
   "execution_count": 9,
   "metadata": {},
   "outputs": [
    {
     "data": {
      "text/html": [
       "<div>\n",
       "<style scoped>\n",
       "    .dataframe tbody tr th:only-of-type {\n",
       "        vertical-align: middle;\n",
       "    }\n",
       "\n",
       "    .dataframe tbody tr th {\n",
       "        vertical-align: top;\n",
       "    }\n",
       "\n",
       "    .dataframe thead th {\n",
       "        text-align: right;\n",
       "    }\n",
       "</style>\n",
       "<table border=\"1\" class=\"dataframe\">\n",
       "  <thead>\n",
       "    <tr style=\"text-align: right;\">\n",
       "      <th></th>\n",
       "      <th>epoch</th>\n",
       "      <th>total time</th>\n",
       "      <th>train loss</th>\n",
       "    </tr>\n",
       "  </thead>\n",
       "  <tbody>\n",
       "    <tr>\n",
       "      <th>45</th>\n",
       "      <td>45</td>\n",
       "      <td>0.753546</td>\n",
       "      <td>3.504186</td>\n",
       "    </tr>\n",
       "    <tr>\n",
       "      <th>46</th>\n",
       "      <td>46</td>\n",
       "      <td>0.769354</td>\n",
       "      <td>3.408611</td>\n",
       "    </tr>\n",
       "    <tr>\n",
       "      <th>47</th>\n",
       "      <td>47</td>\n",
       "      <td>0.785876</td>\n",
       "      <td>3.438417</td>\n",
       "    </tr>\n",
       "    <tr>\n",
       "      <th>48</th>\n",
       "      <td>48</td>\n",
       "      <td>0.801542</td>\n",
       "      <td>3.581873</td>\n",
       "    </tr>\n",
       "    <tr>\n",
       "      <th>49</th>\n",
       "      <td>49</td>\n",
       "      <td>0.817082</td>\n",
       "      <td>3.699392</td>\n",
       "    </tr>\n",
       "  </tbody>\n",
       "</table>\n",
       "</div>"
      ],
      "text/plain": [
       "    epoch  total time  train loss\n",
       "45     45    0.753546    3.504186\n",
       "46     46    0.769354    3.408611\n",
       "47     47    0.785876    3.438417\n",
       "48     48    0.801542    3.581873\n",
       "49     49    0.817082    3.699392"
      ]
     },
     "execution_count": 9,
     "metadata": {},
     "output_type": "execute_result"
    }
   ],
   "source": [
    "result.tail()"
   ]
  },
  {
   "cell_type": "code",
   "execution_count": 10,
   "metadata": {},
   "outputs": [
    {
     "data": {
      "text/html": [
       "<div>\n",
       "<style scoped>\n",
       "    .dataframe tbody tr th:only-of-type {\n",
       "        vertical-align: middle;\n",
       "    }\n",
       "\n",
       "    .dataframe tbody tr th {\n",
       "        vertical-align: top;\n",
       "    }\n",
       "\n",
       "    .dataframe thead th {\n",
       "        text-align: right;\n",
       "    }\n",
       "</style>\n",
       "<table border=\"1\" class=\"dataframe\">\n",
       "  <thead>\n",
       "    <tr style=\"text-align: right;\">\n",
       "      <th></th>\n",
       "      <th>epoch</th>\n",
       "      <th>total time</th>\n",
       "      <th>train loss</th>\n",
       "    </tr>\n",
       "  </thead>\n",
       "  <tbody>\n",
       "    <tr>\n",
       "      <th>45</th>\n",
       "      <td>45</td>\n",
       "      <td>0.742807</td>\n",
       "      <td>0.102017</td>\n",
       "    </tr>\n",
       "    <tr>\n",
       "      <th>46</th>\n",
       "      <td>46</td>\n",
       "      <td>0.758658</td>\n",
       "      <td>0.102128</td>\n",
       "    </tr>\n",
       "    <tr>\n",
       "      <th>47</th>\n",
       "      <td>47</td>\n",
       "      <td>0.774211</td>\n",
       "      <td>0.103583</td>\n",
       "    </tr>\n",
       "    <tr>\n",
       "      <th>48</th>\n",
       "      <td>48</td>\n",
       "      <td>0.790290</td>\n",
       "      <td>0.096879</td>\n",
       "    </tr>\n",
       "    <tr>\n",
       "      <th>49</th>\n",
       "      <td>49</td>\n",
       "      <td>0.805595</td>\n",
       "      <td>0.095644</td>\n",
       "    </tr>\n",
       "  </tbody>\n",
       "</table>\n",
       "</div>"
      ],
      "text/plain": [
       "    epoch  total time  train loss\n",
       "45     45    0.742807    0.102017\n",
       "46     46    0.758658    0.102128\n",
       "47     47    0.774211    0.103583\n",
       "48     48    0.790290    0.096879\n",
       "49     49    0.805595    0.095644"
      ]
     },
     "execution_count": 10,
     "metadata": {},
     "output_type": "execute_result"
    }
   ],
   "source": [
    "result_st.tail()"
   ]
  },
  {
   "cell_type": "markdown",
   "metadata": {},
   "source": [
    "### 2"
   ]
  },
  {
   "cell_type": "code",
   "execution_count": 11,
   "metadata": {},
   "outputs": [
    {
     "data": {
      "text/plain": [
       "<Axes: >"
      ]
     },
     "execution_count": 11,
     "metadata": {},
     "output_type": "execute_result"
    },
    {
     "data": {
      "image/png": "[encoded data removed]",
      "text/plain": [
       "<Figure size 640x480 with 1 Axes>"
      ]
     },
     "metadata": {},
     "output_type": "display_data"
    }
   ],
   "source": [
    "X, y = make_moons(n_samples=1000, noise=0.05)\n",
    "sns.scatterplot(x=X[:, 0], y=X[:, 1], hue=y, style=y)"
   ]
  },
  {
   "cell_type": "code",
   "execution_count": 12,
   "metadata": {},
   "outputs": [],
   "source": [
    "from sklearn.metrics import accuracy_score, f1_score, roc_auc_score"
   ]
  },
  {
   "cell_type": "code",
   "execution_count": 39,
   "metadata": {},
   "outputs": [
    {
     "data": {
      "application/vnd.jupyter.widget-view+json": {
       "model_id": "4b11c4ae8dd74ef0bc05ac332855c38e",
       "version_major": 2,
       "version_minor": 0
      },
      "text/plain": [
       "Epoch:   0%|          | 0/10 [00:00<?, ?it/s]"
      ]
     },
     "metadata": {},
     "output_type": "display_data"
    }
   ],
   "source": [
    "X_train, y_train = make_moons(n_samples=800, noise=0.4)\n",
    "X_test, y_test = make_moons(n_samples=200, noise=0.4)\n",
    "train_dataset = TensorDataset(\n",
    "    torch.tensor(X_train, dtype=torch.float32),\n",
    "    torch.tensor(y_train, dtype=torch.long)\n",
    ")\n",
    "test_dataset = TensorDataset(\n",
    "    torch.tensor(X_test, dtype=torch.float32),\n",
    "    torch.tensor(y_test, dtype=torch.long)\n",
    ")\n",
    "training_loader = DataLoader(train_dataset, shuffle=True)\n",
    "testing_loader = DataLoader(test_dataset)\n",
    "model = nn.Sequential(\n",
    "    nn.Linear(2, 30),\n",
    "    nn.Tanh(),\n",
    "    nn.Linear(30, 30),\n",
    "    nn.Tanh(),\n",
    "    nn.Linear(30, 2)\n",
    ")\n",
    "loss_func = nn.CrossEntropyLoss()\n",
    "result_pd = train_simple_network(\n",
    "    model,\n",
    "    loss_func,\n",
    "    training_loader,\n",
    "    epochs=10,\n",
    "    test_loader=testing_loader,\n",
    "    checkpoint_file='model.pt',\n",
    "    score_funcs={'Acc': accuracy_score, 'F1': f1_score, 'ROC_AUC': roc_auc_score},\n",
    "    checkpoint_every_x = 5\n",
    ")"
   ]
  },
  {
   "cell_type": "code",
   "execution_count": 14,
   "metadata": {},
   "outputs": [
    {
     "data": {
      "text/html": [
       "<div>\n",
       "<style scoped>\n",
       "    .dataframe tbody tr th:only-of-type {\n",
       "        vertical-align: middle;\n",
       "    }\n",
       "\n",
       "    .dataframe tbody tr th {\n",
       "        vertical-align: top;\n",
       "    }\n",
       "\n",
       "    .dataframe thead th {\n",
       "        text-align: right;\n",
       "    }\n",
       "</style>\n",
       "<table border=\"1\" class=\"dataframe\">\n",
       "  <thead>\n",
       "    <tr style=\"text-align: right;\">\n",
       "      <th></th>\n",
       "      <th>epoch</th>\n",
       "      <th>total time</th>\n",
       "      <th>train loss</th>\n",
       "      <th>test loss</th>\n",
       "      <th>train Acc</th>\n",
       "      <th>test Acc</th>\n",
       "      <th>train F1</th>\n",
       "      <th>test F1</th>\n",
       "      <th>train ROC_AUC</th>\n",
       "      <th>test ROC_AUC</th>\n",
       "    </tr>\n",
       "  </thead>\n",
       "  <tbody>\n",
       "    <tr>\n",
       "      <th>0</th>\n",
       "      <td>0</td>\n",
       "      <td>0.116467</td>\n",
       "      <td>0.586062</td>\n",
       "      <td>0.528355</td>\n",
       "      <td>0.71250</td>\n",
       "      <td>0.755</td>\n",
       "      <td>0.748908</td>\n",
       "      <td>0.767773</td>\n",
       "      <td>0.71250</td>\n",
       "      <td>0.755</td>\n",
       "    </tr>\n",
       "    <tr>\n",
       "      <th>1</th>\n",
       "      <td>1</td>\n",
       "      <td>0.223906</td>\n",
       "      <td>0.484702</td>\n",
       "      <td>0.469289</td>\n",
       "      <td>0.78250</td>\n",
       "      <td>0.795</td>\n",
       "      <td>0.793349</td>\n",
       "      <td>0.798030</td>\n",
       "      <td>0.78250</td>\n",
       "      <td>0.795</td>\n",
       "    </tr>\n",
       "    <tr>\n",
       "      <th>2</th>\n",
       "      <td>2</td>\n",
       "      <td>0.332773</td>\n",
       "      <td>0.446298</td>\n",
       "      <td>0.443657</td>\n",
       "      <td>0.79875</td>\n",
       "      <td>0.800</td>\n",
       "      <td>0.801968</td>\n",
       "      <td>0.800000</td>\n",
       "      <td>0.79875</td>\n",
       "      <td>0.800</td>\n",
       "    </tr>\n",
       "    <tr>\n",
       "      <th>3</th>\n",
       "      <td>3</td>\n",
       "      <td>0.444498</td>\n",
       "      <td>0.429104</td>\n",
       "      <td>0.428910</td>\n",
       "      <td>0.80750</td>\n",
       "      <td>0.800</td>\n",
       "      <td>0.809406</td>\n",
       "      <td>0.800000</td>\n",
       "      <td>0.80750</td>\n",
       "      <td>0.800</td>\n",
       "    </tr>\n",
       "    <tr>\n",
       "      <th>4</th>\n",
       "      <td>4</td>\n",
       "      <td>0.557334</td>\n",
       "      <td>0.419120</td>\n",
       "      <td>0.419327</td>\n",
       "      <td>0.81250</td>\n",
       "      <td>0.800</td>\n",
       "      <td>0.814815</td>\n",
       "      <td>0.797980</td>\n",
       "      <td>0.81250</td>\n",
       "      <td>0.800</td>\n",
       "    </tr>\n",
       "  </tbody>\n",
       "</table>\n",
       "</div>"
      ],
      "text/plain": [
       "   epoch  total time  train loss  test loss  train Acc  test Acc  train F1   \n",
       "0      0    0.116467    0.586062   0.528355    0.71250     0.755  0.748908  \\\n",
       "1      1    0.223906    0.484702   0.469289    0.78250     0.795  0.793349   \n",
       "2      2    0.332773    0.446298   0.443657    0.79875     0.800  0.801968   \n",
       "3      3    0.444498    0.429104   0.428910    0.80750     0.800  0.809406   \n",
       "4      4    0.557334    0.419120   0.419327    0.81250     0.800  0.814815   \n",
       "\n",
       "    test F1  train ROC_AUC  test ROC_AUC  \n",
       "0  0.767773        0.71250         0.755  \n",
       "1  0.798030        0.78250         0.795  \n",
       "2  0.800000        0.79875         0.800  \n",
       "3  0.800000        0.80750         0.800  \n",
       "4  0.797980        0.81250         0.800  "
      ]
     },
     "execution_count": 14,
     "metadata": {},
     "output_type": "execute_result"
    }
   ],
   "source": [
    "result_pd"
   ]
  },
  {
   "attachments": {},
   "cell_type": "markdown",
   "metadata": {},
   "source": [
    "### 3"
   ]
  },
  {
   "cell_type": "code",
   "execution_count": 15,
   "metadata": {},
   "outputs": [],
   "source": [
    "def resume_simple_network(\n",
    "    checkpoint_file: str, \n",
    "    model: torch.nn.Module, \n",
    "    loss_func: nn.Module,\n",
    "    train_loader: DataLoader,\n",
    "    test_loader: Union[DataLoader, None],\n",
    "    score_funcs: Dict,\n",
    "    device: str = 'cpu',\n",
    "    epochs: int = 50\n",
    "):\n",
    "    # loading information\n",
    "    checkpoint_dict = torch.load(checkpoint_file, map_location='cpu')\n",
    "    model.load_state_dict(checkpoint_dict['model_state_dict'])\n",
    "    # get the remainder epochs\n",
    "    rem_epochs = epochs - checkpoint_dict['epoch'] - 1\n",
    "    if rem_epochs < 1:\n",
    "        raise ValueError(f\"Total number of epochs already done {checkpoint_dict['epoch'] + 1}\")\n",
    "    \n",
    "\n",
    "    results = train_simple_network(\n",
    "        model=model,\n",
    "        loss_func=loss_func,\n",
    "        train_loader=train_loader,\n",
    "        test_loader=test_loader,\n",
    "        score_funcs=score_funcs,\n",
    "        device=device,\n",
    "        epochs=rem_epochs,\n",
    "        checkpoint_file=checkpoint_file,\n",
    "        prev_results=checkpoint_dict['results']\n",
    "    )\n",
    "\n",
    "    results['epoch'] = np.arange(0, len(results))\n",
    "\n",
    "    return results"
   ]
  },
  {
   "cell_type": "code",
   "execution_count": 16,
   "metadata": {},
   "outputs": [
    {
     "data": {
      "application/vnd.jupyter.widget-view+json": {
       "model_id": "704ca63a8be2413d9db790b923408b2d",
       "version_major": 2,
       "version_minor": 0
      },
      "text/plain": [
       "Epoch:   0%|          | 0/25 [00:00<?, ?it/s]"
      ]
     },
     "metadata": {},
     "output_type": "display_data"
    }
   ],
   "source": [
    "new_results_pd = resume_simple_network(\n",
    "    checkpoint_file='model.pt',\n",
    "    model=model,\n",
    "    loss_func=loss_func,\n",
    "    train_loader=training_loader,\n",
    "    test_loader=testing_loader,\n",
    "    score_funcs={'Acc': accuracy_score, 'F1': f1_score, 'ROC_AUC': roc_auc_score},\n",
    "    device='cpu',\n",
    "    epochs=30\n",
    ")"
   ]
  },
  {
   "cell_type": "code",
   "execution_count": 17,
   "metadata": {},
   "outputs": [
    {
     "data": {
      "text/html": [
       "<div>\n",
       "<style scoped>\n",
       "    .dataframe tbody tr th:only-of-type {\n",
       "        vertical-align: middle;\n",
       "    }\n",
       "\n",
       "    .dataframe tbody tr th {\n",
       "        vertical-align: top;\n",
       "    }\n",
       "\n",
       "    .dataframe thead th {\n",
       "        text-align: right;\n",
       "    }\n",
       "</style>\n",
       "<table border=\"1\" class=\"dataframe\">\n",
       "  <thead>\n",
       "    <tr style=\"text-align: right;\">\n",
       "      <th></th>\n",
       "      <th>epoch</th>\n",
       "      <th>total time</th>\n",
       "      <th>train loss</th>\n",
       "      <th>test loss</th>\n",
       "      <th>train Acc</th>\n",
       "      <th>test Acc</th>\n",
       "      <th>train F1</th>\n",
       "      <th>test F1</th>\n",
       "      <th>train ROC_AUC</th>\n",
       "      <th>test ROC_AUC</th>\n",
       "    </tr>\n",
       "  </thead>\n",
       "  <tbody>\n",
       "    <tr>\n",
       "      <th>0</th>\n",
       "      <td>0</td>\n",
       "      <td>0.116467</td>\n",
       "      <td>0.586062</td>\n",
       "      <td>0.528355</td>\n",
       "      <td>0.71250</td>\n",
       "      <td>0.755</td>\n",
       "      <td>0.748908</td>\n",
       "      <td>0.767773</td>\n",
       "      <td>0.71250</td>\n",
       "      <td>0.755</td>\n",
       "    </tr>\n",
       "    <tr>\n",
       "      <th>1</th>\n",
       "      <td>1</td>\n",
       "      <td>0.223906</td>\n",
       "      <td>0.484702</td>\n",
       "      <td>0.469289</td>\n",
       "      <td>0.78250</td>\n",
       "      <td>0.795</td>\n",
       "      <td>0.793349</td>\n",
       "      <td>0.798030</td>\n",
       "      <td>0.78250</td>\n",
       "      <td>0.795</td>\n",
       "    </tr>\n",
       "    <tr>\n",
       "      <th>2</th>\n",
       "      <td>2</td>\n",
       "      <td>0.332773</td>\n",
       "      <td>0.446298</td>\n",
       "      <td>0.443657</td>\n",
       "      <td>0.79875</td>\n",
       "      <td>0.800</td>\n",
       "      <td>0.801968</td>\n",
       "      <td>0.800000</td>\n",
       "      <td>0.79875</td>\n",
       "      <td>0.800</td>\n",
       "    </tr>\n",
       "    <tr>\n",
       "      <th>3</th>\n",
       "      <td>3</td>\n",
       "      <td>0.444498</td>\n",
       "      <td>0.429104</td>\n",
       "      <td>0.428910</td>\n",
       "      <td>0.80750</td>\n",
       "      <td>0.800</td>\n",
       "      <td>0.809406</td>\n",
       "      <td>0.800000</td>\n",
       "      <td>0.80750</td>\n",
       "      <td>0.800</td>\n",
       "    </tr>\n",
       "    <tr>\n",
       "      <th>4</th>\n",
       "      <td>4</td>\n",
       "      <td>0.557334</td>\n",
       "      <td>0.419120</td>\n",
       "      <td>0.419327</td>\n",
       "      <td>0.81250</td>\n",
       "      <td>0.800</td>\n",
       "      <td>0.814815</td>\n",
       "      <td>0.797980</td>\n",
       "      <td>0.81250</td>\n",
       "      <td>0.800</td>\n",
       "    </tr>\n",
       "    <tr>\n",
       "      <th>5</th>\n",
       "      <td>5</td>\n",
       "      <td>0.117976</td>\n",
       "      <td>0.412995</td>\n",
       "      <td>0.412683</td>\n",
       "      <td>0.81500</td>\n",
       "      <td>0.805</td>\n",
       "      <td>0.815461</td>\n",
       "      <td>0.802030</td>\n",
       "      <td>0.81500</td>\n",
       "      <td>0.805</td>\n",
       "    </tr>\n",
       "    <tr>\n",
       "      <th>6</th>\n",
       "      <td>6</td>\n",
       "      <td>0.227397</td>\n",
       "      <td>0.408931</td>\n",
       "      <td>0.407716</td>\n",
       "      <td>0.82250</td>\n",
       "      <td>0.810</td>\n",
       "      <td>0.823383</td>\n",
       "      <td>0.806122</td>\n",
       "      <td>0.82250</td>\n",
       "      <td>0.810</td>\n",
       "    </tr>\n",
       "    <tr>\n",
       "      <th>7</th>\n",
       "      <td>7</td>\n",
       "      <td>0.337862</td>\n",
       "      <td>0.406008</td>\n",
       "      <td>0.403694</td>\n",
       "      <td>0.82375</td>\n",
       "      <td>0.820</td>\n",
       "      <td>0.824408</td>\n",
       "      <td>0.820000</td>\n",
       "      <td>0.82375</td>\n",
       "      <td>0.820</td>\n",
       "    </tr>\n",
       "    <tr>\n",
       "      <th>8</th>\n",
       "      <td>8</td>\n",
       "      <td>0.448473</td>\n",
       "      <td>0.404048</td>\n",
       "      <td>0.400596</td>\n",
       "      <td>0.83000</td>\n",
       "      <td>0.825</td>\n",
       "      <td>0.830424</td>\n",
       "      <td>0.825871</td>\n",
       "      <td>0.83000</td>\n",
       "      <td>0.825</td>\n",
       "    </tr>\n",
       "    <tr>\n",
       "      <th>9</th>\n",
       "      <td>9</td>\n",
       "      <td>0.556702</td>\n",
       "      <td>0.402502</td>\n",
       "      <td>0.398317</td>\n",
       "      <td>0.82750</td>\n",
       "      <td>0.815</td>\n",
       "      <td>0.828358</td>\n",
       "      <td>0.814070</td>\n",
       "      <td>0.82750</td>\n",
       "      <td>0.815</td>\n",
       "    </tr>\n",
       "    <tr>\n",
       "      <th>10</th>\n",
       "      <td>10</td>\n",
       "      <td>0.667590</td>\n",
       "      <td>0.401426</td>\n",
       "      <td>0.396361</td>\n",
       "      <td>0.82875</td>\n",
       "      <td>0.820</td>\n",
       "      <td>0.828964</td>\n",
       "      <td>0.820000</td>\n",
       "      <td>0.82875</td>\n",
       "      <td>0.820</td>\n",
       "    </tr>\n",
       "    <tr>\n",
       "      <th>11</th>\n",
       "      <td>11</td>\n",
       "      <td>0.776585</td>\n",
       "      <td>0.400508</td>\n",
       "      <td>0.394907</td>\n",
       "      <td>0.82875</td>\n",
       "      <td>0.820</td>\n",
       "      <td>0.829390</td>\n",
       "      <td>0.820000</td>\n",
       "      <td>0.82875</td>\n",
       "      <td>0.820</td>\n",
       "    </tr>\n",
       "    <tr>\n",
       "      <th>12</th>\n",
       "      <td>12</td>\n",
       "      <td>0.885006</td>\n",
       "      <td>0.400043</td>\n",
       "      <td>0.393770</td>\n",
       "      <td>0.82625</td>\n",
       "      <td>0.830</td>\n",
       "      <td>0.826899</td>\n",
       "      <td>0.831683</td>\n",
       "      <td>0.82625</td>\n",
       "      <td>0.830</td>\n",
       "    </tr>\n",
       "    <tr>\n",
       "      <th>13</th>\n",
       "      <td>13</td>\n",
       "      <td>0.995516</td>\n",
       "      <td>0.399598</td>\n",
       "      <td>0.393067</td>\n",
       "      <td>0.83375</td>\n",
       "      <td>0.830</td>\n",
       "      <td>0.835600</td>\n",
       "      <td>0.828283</td>\n",
       "      <td>0.83375</td>\n",
       "      <td>0.830</td>\n",
       "    </tr>\n",
       "    <tr>\n",
       "      <th>14</th>\n",
       "      <td>14</td>\n",
       "      <td>1.105451</td>\n",
       "      <td>0.399467</td>\n",
       "      <td>0.392216</td>\n",
       "      <td>0.83250</td>\n",
       "      <td>0.835</td>\n",
       "      <td>0.833333</td>\n",
       "      <td>0.834171</td>\n",
       "      <td>0.83250</td>\n",
       "      <td>0.835</td>\n",
       "    </tr>\n",
       "    <tr>\n",
       "      <th>15</th>\n",
       "      <td>15</td>\n",
       "      <td>1.213612</td>\n",
       "      <td>0.398962</td>\n",
       "      <td>0.391806</td>\n",
       "      <td>0.83000</td>\n",
       "      <td>0.830</td>\n",
       "      <td>0.831266</td>\n",
       "      <td>0.828283</td>\n",
       "      <td>0.83000</td>\n",
       "      <td>0.830</td>\n",
       "    </tr>\n",
       "    <tr>\n",
       "      <th>16</th>\n",
       "      <td>16</td>\n",
       "      <td>1.323301</td>\n",
       "      <td>0.398711</td>\n",
       "      <td>0.391444</td>\n",
       "      <td>0.83250</td>\n",
       "      <td>0.830</td>\n",
       "      <td>0.832918</td>\n",
       "      <td>0.828283</td>\n",
       "      <td>0.83250</td>\n",
       "      <td>0.830</td>\n",
       "    </tr>\n",
       "    <tr>\n",
       "      <th>17</th>\n",
       "      <td>17</td>\n",
       "      <td>1.431479</td>\n",
       "      <td>0.398756</td>\n",
       "      <td>0.390951</td>\n",
       "      <td>0.83000</td>\n",
       "      <td>0.840</td>\n",
       "      <td>0.830846</td>\n",
       "      <td>0.840000</td>\n",
       "      <td>0.83000</td>\n",
       "      <td>0.840</td>\n",
       "    </tr>\n",
       "    <tr>\n",
       "      <th>18</th>\n",
       "      <td>18</td>\n",
       "      <td>1.541159</td>\n",
       "      <td>0.398541</td>\n",
       "      <td>0.390729</td>\n",
       "      <td>0.83250</td>\n",
       "      <td>0.840</td>\n",
       "      <td>0.833333</td>\n",
       "      <td>0.840000</td>\n",
       "      <td>0.83250</td>\n",
       "      <td>0.840</td>\n",
       "    </tr>\n",
       "    <tr>\n",
       "      <th>19</th>\n",
       "      <td>19</td>\n",
       "      <td>1.649491</td>\n",
       "      <td>0.398400</td>\n",
       "      <td>0.390388</td>\n",
       "      <td>0.83250</td>\n",
       "      <td>0.840</td>\n",
       "      <td>0.833747</td>\n",
       "      <td>0.840000</td>\n",
       "      <td>0.83250</td>\n",
       "      <td>0.840</td>\n",
       "    </tr>\n",
       "    <tr>\n",
       "      <th>20</th>\n",
       "      <td>20</td>\n",
       "      <td>1.760745</td>\n",
       "      <td>0.398118</td>\n",
       "      <td>0.390374</td>\n",
       "      <td>0.83500</td>\n",
       "      <td>0.840</td>\n",
       "      <td>0.835000</td>\n",
       "      <td>0.840000</td>\n",
       "      <td>0.83500</td>\n",
       "      <td>0.840</td>\n",
       "    </tr>\n",
       "    <tr>\n",
       "      <th>21</th>\n",
       "      <td>21</td>\n",
       "      <td>1.874144</td>\n",
       "      <td>0.398097</td>\n",
       "      <td>0.390240</td>\n",
       "      <td>0.83125</td>\n",
       "      <td>0.835</td>\n",
       "      <td>0.832298</td>\n",
       "      <td>0.835821</td>\n",
       "      <td>0.83125</td>\n",
       "      <td>0.835</td>\n",
       "    </tr>\n",
       "    <tr>\n",
       "      <th>22</th>\n",
       "      <td>22</td>\n",
       "      <td>1.985631</td>\n",
       "      <td>0.397672</td>\n",
       "      <td>0.390587</td>\n",
       "      <td>0.83500</td>\n",
       "      <td>0.835</td>\n",
       "      <td>0.834586</td>\n",
       "      <td>0.837438</td>\n",
       "      <td>0.83500</td>\n",
       "      <td>0.835</td>\n",
       "    </tr>\n",
       "    <tr>\n",
       "      <th>23</th>\n",
       "      <td>23</td>\n",
       "      <td>2.096931</td>\n",
       "      <td>0.397742</td>\n",
       "      <td>0.389698</td>\n",
       "      <td>0.83875</td>\n",
       "      <td>0.840</td>\n",
       "      <td>0.840149</td>\n",
       "      <td>0.840000</td>\n",
       "      <td>0.83875</td>\n",
       "      <td>0.840</td>\n",
       "    </tr>\n",
       "    <tr>\n",
       "      <th>24</th>\n",
       "      <td>24</td>\n",
       "      <td>2.206986</td>\n",
       "      <td>0.397521</td>\n",
       "      <td>0.389604</td>\n",
       "      <td>0.83500</td>\n",
       "      <td>0.840</td>\n",
       "      <td>0.835411</td>\n",
       "      <td>0.840000</td>\n",
       "      <td>0.83500</td>\n",
       "      <td>0.840</td>\n",
       "    </tr>\n",
       "    <tr>\n",
       "      <th>25</th>\n",
       "      <td>25</td>\n",
       "      <td>2.315293</td>\n",
       "      <td>0.397659</td>\n",
       "      <td>0.389399</td>\n",
       "      <td>0.83375</td>\n",
       "      <td>0.840</td>\n",
       "      <td>0.834783</td>\n",
       "      <td>0.840000</td>\n",
       "      <td>0.83375</td>\n",
       "      <td>0.840</td>\n",
       "    </tr>\n",
       "    <tr>\n",
       "      <th>26</th>\n",
       "      <td>26</td>\n",
       "      <td>2.423923</td>\n",
       "      <td>0.397307</td>\n",
       "      <td>0.389720</td>\n",
       "      <td>0.83875</td>\n",
       "      <td>0.835</td>\n",
       "      <td>0.838951</td>\n",
       "      <td>0.835821</td>\n",
       "      <td>0.83875</td>\n",
       "      <td>0.835</td>\n",
       "    </tr>\n",
       "    <tr>\n",
       "      <th>27</th>\n",
       "      <td>27</td>\n",
       "      <td>2.539708</td>\n",
       "      <td>0.397112</td>\n",
       "      <td>0.390026</td>\n",
       "      <td>0.83375</td>\n",
       "      <td>0.835</td>\n",
       "      <td>0.833958</td>\n",
       "      <td>0.837438</td>\n",
       "      <td>0.83375</td>\n",
       "      <td>0.835</td>\n",
       "    </tr>\n",
       "    <tr>\n",
       "      <th>28</th>\n",
       "      <td>28</td>\n",
       "      <td>2.647247</td>\n",
       "      <td>0.397278</td>\n",
       "      <td>0.389294</td>\n",
       "      <td>0.83625</td>\n",
       "      <td>0.840</td>\n",
       "      <td>0.838471</td>\n",
       "      <td>0.840000</td>\n",
       "      <td>0.83625</td>\n",
       "      <td>0.840</td>\n",
       "    </tr>\n",
       "    <tr>\n",
       "      <th>29</th>\n",
       "      <td>29</td>\n",
       "      <td>2.756201</td>\n",
       "      <td>0.396869</td>\n",
       "      <td>0.389487</td>\n",
       "      <td>0.83500</td>\n",
       "      <td>0.840</td>\n",
       "      <td>0.833753</td>\n",
       "      <td>0.840000</td>\n",
       "      <td>0.83500</td>\n",
       "      <td>0.840</td>\n",
       "    </tr>\n",
       "  </tbody>\n",
       "</table>\n",
       "</div>"
      ],
      "text/plain": [
       "    epoch  total time  train loss  test loss  train Acc  test Acc  train F1   \n",
       "0       0    0.116467    0.586062   0.528355    0.71250     0.755  0.748908  \\\n",
       "1       1    0.223906    0.484702   0.469289    0.78250     0.795  0.793349   \n",
       "2       2    0.332773    0.446298   0.443657    0.79875     0.800  0.801968   \n",
       "3       3    0.444498    0.429104   0.428910    0.80750     0.800  0.809406   \n",
       "4       4    0.557334    0.419120   0.419327    0.81250     0.800  0.814815   \n",
       "5       5    0.117976    0.412995   0.412683    0.81500     0.805  0.815461   \n",
       "6       6    0.227397    0.408931   0.407716    0.82250     0.810  0.823383   \n",
       "7       7    0.337862    0.406008   0.403694    0.82375     0.820  0.824408   \n",
       "8       8    0.448473    0.404048   0.400596    0.83000     0.825  0.830424   \n",
       "9       9    0.556702    0.402502   0.398317    0.82750     0.815  0.828358   \n",
       "10     10    0.667590    0.401426   0.396361    0.82875     0.820  0.828964   \n",
       "11     11    0.776585    0.400508   0.394907    0.82875     0.820  0.829390   \n",
       "12     12    0.885006    0.400043   0.393770    0.82625     0.830  0.826899   \n",
       "13     13    0.995516    0.399598   0.393067    0.83375     0.830  0.835600   \n",
       "14     14    1.105451    0.399467   0.392216    0.83250     0.835  0.833333   \n",
       "15     15    1.213612    0.398962   0.391806    0.83000     0.830  0.831266   \n",
       "16     16    1.323301    0.398711   0.391444    0.83250     0.830  0.832918   \n",
       "17     17    1.431479    0.398756   0.390951    0.83000     0.840  0.830846   \n",
       "18     18    1.541159    0.398541   0.390729    0.83250     0.840  0.833333   \n",
       "19     19    1.649491    0.398400   0.390388    0.83250     0.840  0.833747   \n",
       "20     20    1.760745    0.398118   0.390374    0.83500     0.840  0.835000   \n",
       "21     21    1.874144    0.398097   0.390240    0.83125     0.835  0.832298   \n",
       "22     22    1.985631    0.397672   0.390587    0.83500     0.835  0.834586   \n",
       "23     23    2.096931    0.397742   0.389698    0.83875     0.840  0.840149   \n",
       "24     24    2.206986    0.397521   0.389604    0.83500     0.840  0.835411   \n",
       "25     25    2.315293    0.397659   0.389399    0.83375     0.840  0.834783   \n",
       "26     26    2.423923    0.397307   0.389720    0.83875     0.835  0.838951   \n",
       "27     27    2.539708    0.397112   0.390026    0.83375     0.835  0.833958   \n",
       "28     28    2.647247    0.397278   0.389294    0.83625     0.840  0.838471   \n",
       "29     29    2.756201    0.396869   0.389487    0.83500     0.840  0.833753   \n",
       "\n",
       "     test F1  train ROC_AUC  test ROC_AUC  \n",
       "0   0.767773        0.71250         0.755  \n",
       "1   0.798030        0.78250         0.795  \n",
       "2   0.800000        0.79875         0.800  \n",
       "3   0.800000        0.80750         0.800  \n",
       "4   0.797980        0.81250         0.800  \n",
       "5   0.802030        0.81500         0.805  \n",
       "6   0.806122        0.82250         0.810  \n",
       "7   0.820000        0.82375         0.820  \n",
       "8   0.825871        0.83000         0.825  \n",
       "9   0.814070        0.82750         0.815  \n",
       "10  0.820000        0.82875         0.820  \n",
       "11  0.820000        0.82875         0.820  \n",
       "12  0.831683        0.82625         0.830  \n",
       "13  0.828283        0.83375         0.830  \n",
       "14  0.834171        0.83250         0.835  \n",
       "15  0.828283        0.83000         0.830  \n",
       "16  0.828283        0.83250         0.830  \n",
       "17  0.840000        0.83000         0.840  \n",
       "18  0.840000        0.83250         0.840  \n",
       "19  0.840000        0.83250         0.840  \n",
       "20  0.840000        0.83500         0.840  \n",
       "21  0.835821        0.83125         0.835  \n",
       "22  0.837438        0.83500         0.835  \n",
       "23  0.840000        0.83875         0.840  \n",
       "24  0.840000        0.83500         0.840  \n",
       "25  0.840000        0.83375         0.840  \n",
       "26  0.835821        0.83875         0.835  \n",
       "27  0.837438        0.83375         0.835  \n",
       "28  0.840000        0.83625         0.840  \n",
       "29  0.840000        0.83500         0.840  "
      ]
     },
     "execution_count": 17,
     "metadata": {},
     "output_type": "execute_result"
    }
   ],
   "source": [
    "new_results_pd"
   ]
  },
  {
   "attachments": {},
   "cell_type": "markdown",
   "metadata": {},
   "source": [
    "### 5"
   ]
  },
  {
   "cell_type": "code",
   "execution_count": 74,
   "metadata": {},
   "outputs": [
    {
     "name": "stdout",
     "output_type": "stream",
     "text": [
      "Procesing 1 layers\n"
     ]
    },
    {
     "data": {
      "application/vnd.jupyter.widget-view+json": {
       "model_id": "e693bb3cbf554abf850d5fe5abcc9779",
       "version_major": 2,
       "version_minor": 0
      },
      "text/plain": [
       "Epoch:   0%|          | 0/100 [00:00<?, ?it/s]"
      ]
     },
     "metadata": {},
     "output_type": "display_data"
    },
    {
     "name": "stdout",
     "output_type": "stream",
     "text": [
      "Procesing 2 layers\n"
     ]
    },
    {
     "data": {
      "application/vnd.jupyter.widget-view+json": {
       "model_id": "43a8ac861bad4279bd26e9eda97a66a5",
       "version_major": 2,
       "version_minor": 0
      },
      "text/plain": [
       "Epoch:   0%|          | 0/100 [00:00<?, ?it/s]"
      ]
     },
     "metadata": {},
     "output_type": "display_data"
    },
    {
     "name": "stdout",
     "output_type": "stream",
     "text": [
      "Procesing 5 layers\n"
     ]
    },
    {
     "data": {
      "application/vnd.jupyter.widget-view+json": {
       "model_id": "ae0195b6c5e84f5eb5a9bd0ee9ef1e9e",
       "version_major": 2,
       "version_minor": 0
      },
      "text/plain": [
       "Epoch:   0%|          | 0/100 [00:00<?, ?it/s]"
      ]
     },
     "metadata": {},
     "output_type": "display_data"
    },
    {
     "name": "stdout",
     "output_type": "stream",
     "text": [
      "Procesing 10 layers\n"
     ]
    },
    {
     "data": {
      "application/vnd.jupyter.widget-view+json": {
       "model_id": "8a690bc8bded41789de43cf143e8d24a",
       "version_major": 2,
       "version_minor": 0
      },
      "text/plain": [
       "Epoch:   0%|          | 0/100 [00:00<?, ?it/s]"
      ]
     },
     "metadata": {},
     "output_type": "display_data"
    },
    {
     "name": "stdout",
     "output_type": "stream",
     "text": [
      "Procesing 15 layers\n"
     ]
    },
    {
     "data": {
      "application/vnd.jupyter.widget-view+json": {
       "model_id": "9ce187056b414fc2947cc5f726cff102",
       "version_major": 2,
       "version_minor": 0
      },
      "text/plain": [
       "Epoch:   0%|          | 0/100 [00:00<?, ?it/s]"
      ]
     },
     "metadata": {},
     "output_type": "display_data"
    },
    {
     "name": "stdout",
     "output_type": "stream",
     "text": [
      "Procesing 20 layers\n"
     ]
    },
    {
     "data": {
      "application/vnd.jupyter.widget-view+json": {
       "model_id": "43c4a9f38ebb43ebad1698f521322018",
       "version_major": 2,
       "version_minor": 0
      },
      "text/plain": [
       "Epoch:   0%|          | 0/100 [00:00<?, ?it/s]"
      ]
     },
     "metadata": {},
     "output_type": "display_data"
    }
   ],
   "source": [
    "X_train, y_train = make_moons(n_samples=800, noise=0.4)\n",
    "X_test, y_test = make_moons(n_samples=200, noise=0.4)\n",
    "train_dataset = TensorDataset(\n",
    "    torch.tensor(X_train, dtype=torch.float32),\n",
    "    torch.tensor(y_train, dtype=torch.long)\n",
    ")\n",
    "test_dataset = TensorDataset(\n",
    "    torch.tensor(X_test, dtype=torch.float32),\n",
    "    torch.tensor(y_test, dtype=torch.long)\n",
    ")\n",
    "training_loader = DataLoader(train_dataset, shuffle=True)\n",
    "testing_loader = DataLoader(test_dataset)\n",
    "\n",
    "hiddens = [1, 2, 5, 10, 15, 20]\n",
    "results_dict = {}\n",
    "for hide in hiddens:\n",
    "    print(f'Procesing {hide} layers')\n",
    "    layers = [nn.Linear(2, 30), nn.Tanh()]\n",
    "    for i in range(hide):\n",
    "        layers.extend([nn.Linear(30, 30), nn.ReLU()])\n",
    "    layers.append(nn.Linear(30, 2))\n",
    "    model = nn.Sequential(*layers)\n",
    "    loss_func = nn.CrossEntropyLoss()\n",
    "    results_dict[str(hide)] = train_simple_network(\n",
    "        model,\n",
    "        loss_func,\n",
    "        training_loader,\n",
    "        epochs=100,\n",
    "        test_loader=testing_loader,\n",
    "        checkpoint_file=None,\n",
    "        score_funcs={'Acc': accuracy_score, 'F1': f1_score, 'ROC_AUC': roc_auc_score},\n",
    "        device='cpu'\n",
    "    )"
   ]
  },
  {
   "cell_type": "code",
   "execution_count": 75,
   "metadata": {},
   "outputs": [],
   "source": [
    "accs = pd.DataFrame(index=list(range(100)))\n",
    "for res in results_dict:\n",
    "    accs[res + '_test Acc'] = results_dict[res]['test Acc']"
   ]
  },
  {
   "cell_type": "code",
   "execution_count": 76,
   "metadata": {},
   "outputs": [
    {
     "data": {
      "text/plain": [
       "<Axes: >"
      ]
     },
     "execution_count": 76,
     "metadata": {},
     "output_type": "execute_result"
    },
    {
     "data": {
      "image/png": "[encoded data removed]",
      "text/plain": [
       "<Figure size 640x480 with 1 Axes>"
      ]
     },
     "metadata": {},
     "output_type": "display_data"
    }
   ],
   "source": [
    "sns.lineplot(data=accs)"
   ]
  },
  {
   "cell_type": "code",
   "execution_count": 77,
   "metadata": {},
   "outputs": [
    {
     "data": {
      "text/html": [
       "<div>\n",
       "<style scoped>\n",
       "    .dataframe tbody tr th:only-of-type {\n",
       "        vertical-align: middle;\n",
       "    }\n",
       "\n",
       "    .dataframe tbody tr th {\n",
       "        vertical-align: top;\n",
       "    }\n",
       "\n",
       "    .dataframe thead th {\n",
       "        text-align: right;\n",
       "    }\n",
       "</style>\n",
       "<table border=\"1\" class=\"dataframe\">\n",
       "  <thead>\n",
       "    <tr style=\"text-align: right;\">\n",
       "      <th></th>\n",
       "      <th>1_test Acc</th>\n",
       "      <th>2_test Acc</th>\n",
       "      <th>5_test Acc</th>\n",
       "      <th>10_test Acc</th>\n",
       "      <th>15_test Acc</th>\n",
       "      <th>20_test Acc</th>\n",
       "    </tr>\n",
       "  </thead>\n",
       "  <tbody>\n",
       "    <tr>\n",
       "      <th>90</th>\n",
       "      <td>0.825</td>\n",
       "      <td>0.850</td>\n",
       "      <td>0.865</td>\n",
       "      <td>0.5</td>\n",
       "      <td>0.5</td>\n",
       "      <td>0.5</td>\n",
       "    </tr>\n",
       "    <tr>\n",
       "      <th>91</th>\n",
       "      <td>0.835</td>\n",
       "      <td>0.845</td>\n",
       "      <td>0.860</td>\n",
       "      <td>0.5</td>\n",
       "      <td>0.5</td>\n",
       "      <td>0.5</td>\n",
       "    </tr>\n",
       "    <tr>\n",
       "      <th>92</th>\n",
       "      <td>0.840</td>\n",
       "      <td>0.845</td>\n",
       "      <td>0.845</td>\n",
       "      <td>0.5</td>\n",
       "      <td>0.5</td>\n",
       "      <td>0.5</td>\n",
       "    </tr>\n",
       "    <tr>\n",
       "      <th>93</th>\n",
       "      <td>0.840</td>\n",
       "      <td>0.840</td>\n",
       "      <td>0.865</td>\n",
       "      <td>0.5</td>\n",
       "      <td>0.5</td>\n",
       "      <td>0.5</td>\n",
       "    </tr>\n",
       "    <tr>\n",
       "      <th>94</th>\n",
       "      <td>0.845</td>\n",
       "      <td>0.855</td>\n",
       "      <td>0.845</td>\n",
       "      <td>0.5</td>\n",
       "      <td>0.5</td>\n",
       "      <td>0.5</td>\n",
       "    </tr>\n",
       "    <tr>\n",
       "      <th>95</th>\n",
       "      <td>0.845</td>\n",
       "      <td>0.855</td>\n",
       "      <td>0.860</td>\n",
       "      <td>0.5</td>\n",
       "      <td>0.5</td>\n",
       "      <td>0.5</td>\n",
       "    </tr>\n",
       "    <tr>\n",
       "      <th>96</th>\n",
       "      <td>0.840</td>\n",
       "      <td>0.845</td>\n",
       "      <td>0.865</td>\n",
       "      <td>0.5</td>\n",
       "      <td>0.5</td>\n",
       "      <td>0.5</td>\n",
       "    </tr>\n",
       "    <tr>\n",
       "      <th>97</th>\n",
       "      <td>0.845</td>\n",
       "      <td>0.850</td>\n",
       "      <td>0.850</td>\n",
       "      <td>0.5</td>\n",
       "      <td>0.5</td>\n",
       "      <td>0.5</td>\n",
       "    </tr>\n",
       "    <tr>\n",
       "      <th>98</th>\n",
       "      <td>0.845</td>\n",
       "      <td>0.825</td>\n",
       "      <td>0.840</td>\n",
       "      <td>0.5</td>\n",
       "      <td>0.5</td>\n",
       "      <td>0.5</td>\n",
       "    </tr>\n",
       "    <tr>\n",
       "      <th>99</th>\n",
       "      <td>0.845</td>\n",
       "      <td>0.860</td>\n",
       "      <td>0.865</td>\n",
       "      <td>0.5</td>\n",
       "      <td>0.5</td>\n",
       "      <td>0.5</td>\n",
       "    </tr>\n",
       "  </tbody>\n",
       "</table>\n",
       "</div>"
      ],
      "text/plain": [
       "    1_test Acc  2_test Acc  5_test Acc  10_test Acc  15_test Acc  20_test Acc\n",
       "90       0.825       0.850       0.865          0.5          0.5          0.5\n",
       "91       0.835       0.845       0.860          0.5          0.5          0.5\n",
       "92       0.840       0.845       0.845          0.5          0.5          0.5\n",
       "93       0.840       0.840       0.865          0.5          0.5          0.5\n",
       "94       0.845       0.855       0.845          0.5          0.5          0.5\n",
       "95       0.845       0.855       0.860          0.5          0.5          0.5\n",
       "96       0.840       0.845       0.865          0.5          0.5          0.5\n",
       "97       0.845       0.850       0.850          0.5          0.5          0.5\n",
       "98       0.845       0.825       0.840          0.5          0.5          0.5\n",
       "99       0.845       0.860       0.865          0.5          0.5          0.5"
      ]
     },
     "execution_count": 77,
     "metadata": {},
     "output_type": "execute_result"
    }
   ],
   "source": [
    "accs.tail(10)"
   ]
  },
  {
   "attachments": {},
   "cell_type": "markdown",
   "metadata": {},
   "source": [
    "### 6"
   ]
  },
  {
   "cell_type": "code",
   "execution_count": 78,
   "metadata": {},
   "outputs": [
    {
     "name": "stdout",
     "output_type": "stream",
     "text": [
      "Procesing 30 layers\n"
     ]
    },
    {
     "data": {
      "application/vnd.jupyter.widget-view+json": {
       "model_id": "9e0bb50635d64857bfeda378da993bd2",
       "version_major": 2,
       "version_minor": 0
      },
      "text/plain": [
       "Epoch:   0%|          | 0/25 [00:00<?, ?it/s]"
      ]
     },
     "metadata": {},
     "output_type": "display_data"
    },
    {
     "name": "stdout",
     "output_type": "stream",
     "text": [
      "Procesing 50 layers\n"
     ]
    },
    {
     "data": {
      "application/vnd.jupyter.widget-view+json": {
       "model_id": "93665f7cd6b9490f80935e0735d7f5b1",
       "version_major": 2,
       "version_minor": 0
      },
      "text/plain": [
       "Epoch:   0%|          | 0/25 [00:00<?, ?it/s]"
      ]
     },
     "metadata": {},
     "output_type": "display_data"
    },
    {
     "name": "stdout",
     "output_type": "stream",
     "text": [
      "Procesing 100 layers\n"
     ]
    },
    {
     "data": {
      "application/vnd.jupyter.widget-view+json": {
       "model_id": "0e29c7b2e72a416d9a01b43bce08473c",
       "version_major": 2,
       "version_minor": 0
      },
      "text/plain": [
       "Epoch:   0%|          | 0/25 [00:00<?, ?it/s]"
      ]
     },
     "metadata": {},
     "output_type": "display_data"
    },
    {
     "name": "stdout",
     "output_type": "stream",
     "text": [
      "Procesing 512 layers\n"
     ]
    },
    {
     "data": {
      "application/vnd.jupyter.widget-view+json": {
       "model_id": "eb096b91f9494f7394353f7826630ac0",
       "version_major": 2,
       "version_minor": 0
      },
      "text/plain": [
       "Epoch:   0%|          | 0/25 [00:00<?, ?it/s]"
      ]
     },
     "metadata": {},
     "output_type": "display_data"
    },
    {
     "name": "stdout",
     "output_type": "stream",
     "text": [
      "Procesing 1024 layers\n"
     ]
    },
    {
     "data": {
      "application/vnd.jupyter.widget-view+json": {
       "model_id": "d11ad554486a4c3f9906f26a28b0e932",
       "version_major": 2,
       "version_minor": 0
      },
      "text/plain": [
       "Epoch:   0%|          | 0/25 [00:00<?, ?it/s]"
      ]
     },
     "metadata": {},
     "output_type": "display_data"
    }
   ],
   "source": [
    "X_train, y_train = make_moons(n_samples=800, noise=0.4)\n",
    "X_test, y_test = make_moons(n_samples=200, noise=0.4)\n",
    "train_dataset = TensorDataset(\n",
    "    torch.tensor(X_train, dtype=torch.float32),\n",
    "    torch.tensor(y_train, dtype=torch.long)\n",
    ")\n",
    "test_dataset = TensorDataset(\n",
    "    torch.tensor(X_test, dtype=torch.float32),\n",
    "    torch.tensor(y_test, dtype=torch.long)\n",
    ")\n",
    "training_loader = DataLoader(train_dataset, shuffle=True)\n",
    "testing_loader = DataLoader(test_dataset)\n",
    "\n",
    "sizes = [30, 50, 100, 512, 1024]\n",
    "results_dict = {}\n",
    "for size in sizes:\n",
    "    print(f'Procesing {size} neurons')\n",
    "    model = nn.Sequential(\n",
    "        nn.Linear(2, size),\n",
    "        nn.Tanh(),\n",
    "        nn.Linear(size, size),\n",
    "        nn.Tanh(),\n",
    "        nn.Linear(size, 2)\n",
    "    )\n",
    "    loss_func = nn.CrossEntropyLoss()\n",
    "    results_dict[str(size)] = train_simple_network(\n",
    "        model,\n",
    "        loss_func,\n",
    "        training_loader,\n",
    "        epochs=25,\n",
    "        test_loader=testing_loader,\n",
    "        checkpoint_file=None,\n",
    "        score_funcs={'Acc': accuracy_score, 'F1': f1_score, 'ROC_AUC': roc_auc_score},\n",
    "        device='cpu'\n",
    "    )"
   ]
  },
  {
   "cell_type": "code",
   "execution_count": 88,
   "metadata": {},
   "outputs": [
    {
     "data": {
      "text/plain": [
       "<Axes: >"
      ]
     },
     "execution_count": 88,
     "metadata": {},
     "output_type": "execute_result"
    },
    {
     "data": {
      "image/png": "[encoded data removed]",
      "text/plain": [
       "<Figure size 640x480 with 1 Axes>"
      ]
     },
     "metadata": {},
     "output_type": "display_data"
    }
   ],
   "source": [
    "accs = pd.DataFrame(index=list(range(25)))\n",
    "for res in results_dict:\n",
    "    accs[res + '_test F1'] = results_dict[res]['test F1']\n",
    "\n",
    "sns.lineplot(data=accs)"
   ]
  },
  {
   "cell_type": "code",
   "execution_count": 89,
   "metadata": {},
   "outputs": [
    {
     "data": {
      "text/html": [
       "<div>\n",
       "<style scoped>\n",
       "    .dataframe tbody tr th:only-of-type {\n",
       "        vertical-align: middle;\n",
       "    }\n",
       "\n",
       "    .dataframe tbody tr th {\n",
       "        vertical-align: top;\n",
       "    }\n",
       "\n",
       "    .dataframe thead th {\n",
       "        text-align: right;\n",
       "    }\n",
       "</style>\n",
       "<table border=\"1\" class=\"dataframe\">\n",
       "  <thead>\n",
       "    <tr style=\"text-align: right;\">\n",
       "      <th></th>\n",
       "      <th>30_test F1</th>\n",
       "      <th>50_test F1</th>\n",
       "      <th>100_test F1</th>\n",
       "      <th>512_test F1</th>\n",
       "      <th>1024_test F1</th>\n",
       "    </tr>\n",
       "  </thead>\n",
       "  <tbody>\n",
       "    <tr>\n",
       "      <th>15</th>\n",
       "      <td>0.825871</td>\n",
       "      <td>0.847619</td>\n",
       "      <td>0.831683</td>\n",
       "      <td>0.830000</td>\n",
       "      <td>0.833333</td>\n",
       "    </tr>\n",
       "    <tr>\n",
       "      <th>16</th>\n",
       "      <td>0.823529</td>\n",
       "      <td>0.840000</td>\n",
       "      <td>0.840580</td>\n",
       "      <td>0.837438</td>\n",
       "      <td>0.851282</td>\n",
       "    </tr>\n",
       "    <tr>\n",
       "      <th>17</th>\n",
       "      <td>0.823529</td>\n",
       "      <td>0.836538</td>\n",
       "      <td>0.829268</td>\n",
       "      <td>0.835821</td>\n",
       "      <td>0.839378</td>\n",
       "    </tr>\n",
       "    <tr>\n",
       "      <th>18</th>\n",
       "      <td>0.823529</td>\n",
       "      <td>0.831683</td>\n",
       "      <td>0.835821</td>\n",
       "      <td>0.845070</td>\n",
       "      <td>0.869159</td>\n",
       "    </tr>\n",
       "    <tr>\n",
       "      <th>19</th>\n",
       "      <td>0.823529</td>\n",
       "      <td>0.839024</td>\n",
       "      <td>0.827586</td>\n",
       "      <td>0.841584</td>\n",
       "      <td>0.852632</td>\n",
       "    </tr>\n",
       "    <tr>\n",
       "      <th>20</th>\n",
       "      <td>0.823529</td>\n",
       "      <td>0.840580</td>\n",
       "      <td>0.840580</td>\n",
       "      <td>0.849057</td>\n",
       "      <td>0.862745</td>\n",
       "    </tr>\n",
       "    <tr>\n",
       "      <th>21</th>\n",
       "      <td>0.827586</td>\n",
       "      <td>0.840580</td>\n",
       "      <td>0.842105</td>\n",
       "      <td>0.840000</td>\n",
       "      <td>0.858447</td>\n",
       "    </tr>\n",
       "    <tr>\n",
       "      <th>22</th>\n",
       "      <td>0.823529</td>\n",
       "      <td>0.840580</td>\n",
       "      <td>0.847619</td>\n",
       "      <td>0.848780</td>\n",
       "      <td>0.872038</td>\n",
       "    </tr>\n",
       "    <tr>\n",
       "      <th>23</th>\n",
       "      <td>0.830000</td>\n",
       "      <td>0.831683</td>\n",
       "      <td>0.827586</td>\n",
       "      <td>0.842640</td>\n",
       "      <td>0.870813</td>\n",
       "    </tr>\n",
       "    <tr>\n",
       "      <th>24</th>\n",
       "      <td>0.823529</td>\n",
       "      <td>0.842105</td>\n",
       "      <td>0.831683</td>\n",
       "      <td>0.841584</td>\n",
       "      <td>0.873786</td>\n",
       "    </tr>\n",
       "  </tbody>\n",
       "</table>\n",
       "</div>"
      ],
      "text/plain": [
       "    30_test F1  50_test F1  100_test F1  512_test F1  1024_test F1\n",
       "15    0.825871    0.847619     0.831683     0.830000      0.833333\n",
       "16    0.823529    0.840000     0.840580     0.837438      0.851282\n",
       "17    0.823529    0.836538     0.829268     0.835821      0.839378\n",
       "18    0.823529    0.831683     0.835821     0.845070      0.869159\n",
       "19    0.823529    0.839024     0.827586     0.841584      0.852632\n",
       "20    0.823529    0.840580     0.840580     0.849057      0.862745\n",
       "21    0.827586    0.840580     0.842105     0.840000      0.858447\n",
       "22    0.823529    0.840580     0.847619     0.848780      0.872038\n",
       "23    0.830000    0.831683     0.827586     0.842640      0.870813\n",
       "24    0.823529    0.842105     0.831683     0.841584      0.873786"
      ]
     },
     "execution_count": 89,
     "metadata": {},
     "output_type": "execute_result"
    }
   ],
   "source": [
    "accs.tail(10)"
   ]
  },
  {
   "cell_type": "code",
   "execution_count": 87,
   "metadata": {},
   "outputs": [
    {
     "data": {
      "text/html": [
       "<div>\n",
       "<style scoped>\n",
       "    .dataframe tbody tr th:only-of-type {\n",
       "        vertical-align: middle;\n",
       "    }\n",
       "\n",
       "    .dataframe tbody tr th {\n",
       "        vertical-align: top;\n",
       "    }\n",
       "\n",
       "    .dataframe thead th {\n",
       "        text-align: right;\n",
       "    }\n",
       "</style>\n",
       "<table border=\"1\" class=\"dataframe\">\n",
       "  <thead>\n",
       "    <tr style=\"text-align: right;\">\n",
       "      <th></th>\n",
       "      <th>30_test ROC_AUC</th>\n",
       "      <th>50_test ROC_AUC</th>\n",
       "      <th>100_test ROC_AUC</th>\n",
       "      <th>512_test ROC_AUC</th>\n",
       "      <th>1024_test ROC_AUC</th>\n",
       "    </tr>\n",
       "  </thead>\n",
       "  <tbody>\n",
       "    <tr>\n",
       "      <th>15</th>\n",
       "      <td>0.825</td>\n",
       "      <td>0.840</td>\n",
       "      <td>0.830</td>\n",
       "      <td>0.830</td>\n",
       "      <td>0.840</td>\n",
       "    </tr>\n",
       "    <tr>\n",
       "      <th>16</th>\n",
       "      <td>0.820</td>\n",
       "      <td>0.840</td>\n",
       "      <td>0.835</td>\n",
       "      <td>0.835</td>\n",
       "      <td>0.855</td>\n",
       "    </tr>\n",
       "    <tr>\n",
       "      <th>17</th>\n",
       "      <td>0.820</td>\n",
       "      <td>0.830</td>\n",
       "      <td>0.825</td>\n",
       "      <td>0.835</td>\n",
       "      <td>0.845</td>\n",
       "    </tr>\n",
       "    <tr>\n",
       "      <th>18</th>\n",
       "      <td>0.820</td>\n",
       "      <td>0.830</td>\n",
       "      <td>0.835</td>\n",
       "      <td>0.835</td>\n",
       "      <td>0.860</td>\n",
       "    </tr>\n",
       "    <tr>\n",
       "      <th>19</th>\n",
       "      <td>0.820</td>\n",
       "      <td>0.835</td>\n",
       "      <td>0.825</td>\n",
       "      <td>0.840</td>\n",
       "      <td>0.860</td>\n",
       "    </tr>\n",
       "    <tr>\n",
       "      <th>20</th>\n",
       "      <td>0.820</td>\n",
       "      <td>0.835</td>\n",
       "      <td>0.835</td>\n",
       "      <td>0.840</td>\n",
       "      <td>0.860</td>\n",
       "    </tr>\n",
       "    <tr>\n",
       "      <th>21</th>\n",
       "      <td>0.825</td>\n",
       "      <td>0.835</td>\n",
       "      <td>0.835</td>\n",
       "      <td>0.840</td>\n",
       "      <td>0.845</td>\n",
       "    </tr>\n",
       "    <tr>\n",
       "      <th>22</th>\n",
       "      <td>0.820</td>\n",
       "      <td>0.835</td>\n",
       "      <td>0.840</td>\n",
       "      <td>0.845</td>\n",
       "      <td>0.865</td>\n",
       "    </tr>\n",
       "    <tr>\n",
       "      <th>23</th>\n",
       "      <td>0.830</td>\n",
       "      <td>0.830</td>\n",
       "      <td>0.825</td>\n",
       "      <td>0.845</td>\n",
       "      <td>0.865</td>\n",
       "    </tr>\n",
       "    <tr>\n",
       "      <th>24</th>\n",
       "      <td>0.820</td>\n",
       "      <td>0.835</td>\n",
       "      <td>0.830</td>\n",
       "      <td>0.840</td>\n",
       "      <td>0.870</td>\n",
       "    </tr>\n",
       "  </tbody>\n",
       "</table>\n",
       "</div>"
      ],
      "text/plain": [
       "    30_test ROC_AUC  50_test ROC_AUC  100_test ROC_AUC  512_test ROC_AUC   \n",
       "15            0.825            0.840             0.830             0.830  \\\n",
       "16            0.820            0.840             0.835             0.835   \n",
       "17            0.820            0.830             0.825             0.835   \n",
       "18            0.820            0.830             0.835             0.835   \n",
       "19            0.820            0.835             0.825             0.840   \n",
       "20            0.820            0.835             0.835             0.840   \n",
       "21            0.825            0.835             0.835             0.840   \n",
       "22            0.820            0.835             0.840             0.845   \n",
       "23            0.830            0.830             0.825             0.845   \n",
       "24            0.820            0.835             0.830             0.840   \n",
       "\n",
       "    1024_test ROC_AUC  \n",
       "15              0.840  \n",
       "16              0.855  \n",
       "17              0.845  \n",
       "18              0.860  \n",
       "19              0.860  \n",
       "20              0.860  \n",
       "21              0.845  \n",
       "22              0.865  \n",
       "23              0.865  \n",
       "24              0.870  "
      ]
     },
     "execution_count": 87,
     "metadata": {},
     "output_type": "execute_result"
    }
   ],
   "source": [
    "accs.tail(10)"
   ]
  },
  {
   "attachments": {},
   "cell_type": "markdown",
   "metadata": {},
   "source": [
    "# todo\n",
    "\n",
    "tengo malo el calculo del ROC_AUC o algo esta pasando, porque esta dando el mismo resultado que el accuracy."
   ]
  },
  {
   "attachments": {},
   "cell_type": "markdown",
   "metadata": {},
   "source": [
    "### 8"
   ]
  },
  {
   "cell_type": "code",
   "execution_count": 92,
   "metadata": {},
   "outputs": [
    {
     "name": "stdout",
     "output_type": "stream",
     "text": [
      "Procesing 2 batch size\n"
     ]
    },
    {
     "data": {
      "application/vnd.jupyter.widget-view+json": {
       "model_id": "f880989bd74c41009e6fab12e6aac2a5",
       "version_major": 2,
       "version_minor": 0
      },
      "text/plain": [
       "Epoch:   0%|          | 0/25 [00:00<?, ?it/s]"
      ]
     },
     "metadata": {},
     "output_type": "display_data"
    },
    {
     "name": "stdout",
     "output_type": "stream",
     "text": [
      "Procesing 4 batch size\n"
     ]
    },
    {
     "data": {
      "application/vnd.jupyter.widget-view+json": {
       "model_id": "12750e558d2244f79b7a4cb734d3ea04",
       "version_major": 2,
       "version_minor": 0
      },
      "text/plain": [
       "Epoch:   0%|          | 0/25 [00:00<?, ?it/s]"
      ]
     },
     "metadata": {},
     "output_type": "display_data"
    },
    {
     "name": "stdout",
     "output_type": "stream",
     "text": [
      "Procesing 8 batch size\n"
     ]
    },
    {
     "data": {
      "application/vnd.jupyter.widget-view+json": {
       "model_id": "051d2a2db196413f894e1c7a1649bbb4",
       "version_major": 2,
       "version_minor": 0
      },
      "text/plain": [
       "Epoch:   0%|          | 0/25 [00:00<?, ?it/s]"
      ]
     },
     "metadata": {},
     "output_type": "display_data"
    },
    {
     "name": "stdout",
     "output_type": "stream",
     "text": [
      "Procesing 16 batch size\n"
     ]
    },
    {
     "data": {
      "application/vnd.jupyter.widget-view+json": {
       "model_id": "b920a8314fd94edcb5a3d9b0d39df349",
       "version_major": 2,
       "version_minor": 0
      },
      "text/plain": [
       "Epoch:   0%|          | 0/25 [00:00<?, ?it/s]"
      ]
     },
     "metadata": {},
     "output_type": "display_data"
    },
    {
     "name": "stdout",
     "output_type": "stream",
     "text": [
      "Procesing 32 batch size\n"
     ]
    },
    {
     "data": {
      "application/vnd.jupyter.widget-view+json": {
       "model_id": "5fb10aef1b314314b309361acdc1e76a",
       "version_major": 2,
       "version_minor": 0
      },
      "text/plain": [
       "Epoch:   0%|          | 0/25 [00:00<?, ?it/s]"
      ]
     },
     "metadata": {},
     "output_type": "display_data"
    },
    {
     "name": "stdout",
     "output_type": "stream",
     "text": [
      "Procesing 64 batch size\n"
     ]
    },
    {
     "data": {
      "application/vnd.jupyter.widget-view+json": {
       "model_id": "ee701c74f11f48d5ab56ab148a0a309b",
       "version_major": 2,
       "version_minor": 0
      },
      "text/plain": [
       "Epoch:   0%|          | 0/25 [00:00<?, ?it/s]"
      ]
     },
     "metadata": {},
     "output_type": "display_data"
    },
    {
     "name": "stdout",
     "output_type": "stream",
     "text": [
      "Procesing 128 batch size\n"
     ]
    },
    {
     "data": {
      "application/vnd.jupyter.widget-view+json": {
       "model_id": "798c9e66eeeb4a4b91788b874b9f5342",
       "version_major": 2,
       "version_minor": 0
      },
      "text/plain": [
       "Epoch:   0%|          | 0/25 [00:00<?, ?it/s]"
      ]
     },
     "metadata": {},
     "output_type": "display_data"
    },
    {
     "name": "stdout",
     "output_type": "stream",
     "text": [
      "Procesing 256 batch size\n"
     ]
    },
    {
     "data": {
      "application/vnd.jupyter.widget-view+json": {
       "model_id": "200f7462c63e44d88642c3465a3539bf",
       "version_major": 2,
       "version_minor": 0
      },
      "text/plain": [
       "Epoch:   0%|          | 0/25 [00:00<?, ?it/s]"
      ]
     },
     "metadata": {},
     "output_type": "display_data"
    }
   ],
   "source": [
    "X_train, y_train = make_moons(n_samples=800, noise=0.4)\n",
    "X_test, y_test = make_moons(n_samples=200, noise=0.4)\n",
    "train_dataset = TensorDataset(\n",
    "    torch.tensor(X_train, dtype=torch.float32),\n",
    "    torch.tensor(y_train, dtype=torch.long)\n",
    ")\n",
    "test_dataset = TensorDataset(\n",
    "    torch.tensor(X_test, dtype=torch.float32),\n",
    "    torch.tensor(y_test, dtype=torch.long)\n",
    ")\n",
    "\n",
    "batch_sizes = [2, 4, 8, 16, 32, 64, 128, 256]\n",
    "results_dict = {}\n",
    "for batch_size in batch_sizes:\n",
    "    training_loader = DataLoader(train_dataset, batch_size=batch_size, shuffle=True)\n",
    "    testing_loader = DataLoader(test_dataset, batch_size=batch_size)\n",
    "    print(f'Procesing {batch_size} batch size')\n",
    "    model = nn.Sequential(\n",
    "        nn.Linear(2, 30),\n",
    "        nn.Tanh(),\n",
    "        nn.Linear(30, 30),\n",
    "        nn.Tanh(),\n",
    "        nn.Linear(30, 2)\n",
    "    )\n",
    "    loss_func = nn.CrossEntropyLoss()\n",
    "    results_dict[str(batch_size)] = train_simple_network(\n",
    "        model,\n",
    "        loss_func,\n",
    "        training_loader,\n",
    "        epochs=25,\n",
    "        test_loader=testing_loader,\n",
    "        checkpoint_file=None,\n",
    "        score_funcs={'Acc': accuracy_score, 'F1': f1_score, 'ROC_AUC': roc_auc_score},\n",
    "        device='cpu'\n",
    "    )"
   ]
  },
  {
   "cell_type": "code",
   "execution_count": 93,
   "metadata": {},
   "outputs": [
    {
     "data": {
      "text/plain": [
       "<Axes: >"
      ]
     },
     "execution_count": 93,
     "metadata": {},
     "output_type": "execute_result"
    },
    {
     "data": {
      "image/png": "[encoded data removed]",
      "text/plain": [
       "<Figure size 640x480 with 1 Axes>"
      ]
     },
     "metadata": {},
     "output_type": "display_data"
    }
   ],
   "source": [
    "accs = pd.DataFrame(index=list(range(25)))\n",
    "for res in results_dict:\n",
    "    accs[res + '_test Acc'] = results_dict[res]['test Acc']\n",
    "\n",
    "sns.lineplot(data=accs)"
   ]
  }
 ],
 "metadata": {
  "kernelspec": {
   "display_name": "Python 3 (ipykernel)",
   "language": "python",
   "name": "python3"
  },
  "language_info": {
   "codemirror_mode": {
    "name": "ipython",
    "version": 3
   },
   "file_extension": ".py",
   "mimetype": "text/x-python",
   "name": "python",
   "nbconvert_exporter": "python",
   "pygments_lexer": "ipython3",
   "version": "3.9.6"
  }
 },
 "nbformat": 4,
 "nbformat_minor": 4
}
