{
 "cells": [
  {
   "cell_type": "code",
   "execution_count": 53,
   "metadata": {},
   "outputs": [],
   "source": [
    "import torch\n",
    "import torch.nn as nn\n",
    "import torch.nn.functional as F\n",
    "import seaborn as sns\n",
    "from sklearn.datasets import make_moons\n",
    "from sklearn.metrics import accuracy_score, f1_score\n",
    "from torch.utils.data import DataLoader, Dataset\n",
    "import matplotlib.pyplot as plt\n",
    "from tqdm.autonotebook import tqdm\n",
    "import time\n",
    "import numpy as np\n",
    "import pandas as pd"
   ]
  },
  {
   "cell_type": "code",
   "execution_count": 54,
   "metadata": {},
   "outputs": [],
   "source": [
    "def moveTo(obj, device):\n",
    "    \"\"\"\n",
    "    obj: the python object ot move to a device, or to move its contents to a device\n",
    "    device: the compute device to move objects to\n",
    "    \"\"\"\n",
    "    if isinstance(obj, list):\n",
    "        return [moveTo(o, device) for o in obj]\n",
    "    elif isinstance(obj, tuple):\n",
    "        return tuple(moveTo(o, device) for o in obj)\n",
    "    elif isinstance(obj, set):\n",
    "        return set(moveTo(o, device) for o in obj)\n",
    "    elif isinstance(obj, dict):\n",
    "        to_ret = dict()\n",
    "        for k, v in obj.items():\n",
    "            to_ret[moveTo(k, device)] = moveTo(v, device)\n",
    "        return to_ret\n",
    "    elif hasattr(obj, \"to\"):\n",
    "        return obj.to(device)\n",
    "    else:\n",
    "        return obj"
   ]
  },
  {
   "cell_type": "code",
   "execution_count": 55,
   "metadata": {},
   "outputs": [],
   "source": [
    "def run_epoch(model, optimizer, data_loader, loss_func, device, results, score_funcs, prefix=\"\"):\n",
    "    # init empty variables\n",
    "    running_loss = []\n",
    "    y_true = []\n",
    "    y_pred = []\n",
    "    start = time.time()\n",
    "    # loop over the batchs\n",
    "    for inputs, labels in data_loader:\n",
    "        # move x, y to correct device\n",
    "        inputs = moveTo(inputs, device=device)\n",
    "        labels = moveTo(labels, device=device)\n",
    "\n",
    "        # estimate\n",
    "        y_hat = model(inputs)\n",
    "\n",
    "        # compute loss, backpropagate and apply gradients if needed\n",
    "        loss = loss_func(y_hat, labels)\n",
    "        if model.training:\n",
    "            loss.backward()\n",
    "            optimizer.step()\n",
    "            optimizer.zero_grad()\n",
    "        \n",
    "        # store the results\n",
    "        running_loss.append(loss.item())\n",
    "        if score_funcs is not None and len(score_funcs) > 1 and isinstance(labels, torch.Tensor):\n",
    "            labels = labels.detach().cpu().numpy()\n",
    "            y_hat = y_hat.detach().cpu().numpy()\n",
    "            y_true.extend(labels.tolist())\n",
    "            y_pred.extend(y_hat.tolist())\n",
    "        \n",
    "    end = time.time()\n",
    "\n",
    "    # clean results to compute metrics under sklearn standards\n",
    "    y_pred = np.asarray(y_pred)\n",
    "    if len(y_pred.shape) == 2 and y_pred.shape[1] > 1:\n",
    "        y_pred = np.argmax(y_pred, axis=1)\n",
    "    \n",
    "    results[prefix + ' loss'].append(np.mean(running_loss))\n",
    "    if score_funcs is not None:\n",
    "        for name, score_func in score_funcs.items():\n",
    "            try:\n",
    "                results[prefix + \" \" + name].append( score_func(y_true, y_pred) )\n",
    "            except:\n",
    "                results[prefix + \" \" + name].append(float(\"NaN\"))\n",
    "    return end-start #time spent on epoc\n",
    "\n",
    "def train_simple_network(\n",
    "        model, loss_func, train_loader, test_loader=None, score_funcs=None, device='cpu', epochs=50, checkpoint_file=None\n",
    "    ):\n",
    "    # init tracking metrics\n",
    "    to_track = [\"epoch\", \"total time\", \"train loss\"]\n",
    "    if test_loader is not None:\n",
    "        to_track.append(\"test loss\")\n",
    "    if score_funcs is not None:\n",
    "        for eval_score in score_funcs:\n",
    "            to_track.append(\"train \" + eval_score )\n",
    "            if test_loader is not None:\n",
    "                to_track.append(\"test \" + eval_score )\n",
    "    total_train_time = 0\n",
    "    results = {}\n",
    "    for item in to_track:\n",
    "        results[item] = []\n",
    "\n",
    "    # initialize optimizer\n",
    "    optimizer = torch.optim.SGD(model.parameters(), lr=0.001)\n",
    "\n",
    "    # start training loop\n",
    "    model.to(device)\n",
    "    for epoch in tqdm(range(epochs), desc=\"Epoch\"):\n",
    "        # pass the model throught a epoch\n",
    "        model = model.train()\n",
    "        total_train_time += run_epoch(\n",
    "            model, \n",
    "            optimizer, \n",
    "            train_loader, \n",
    "            loss_func, \n",
    "            device, \n",
    "            results, \n",
    "            score_funcs, \n",
    "            prefix=\"train\", \n",
    "        )\n",
    "    \n",
    "        # grab more results from the last epoch\n",
    "        results[\"total time\"].append( total_train_time )\n",
    "        results[\"epoch\"].append( epoch )\n",
    "\n",
    "        # test the model in validation\n",
    "        if test_loader is not None:\n",
    "            model = model.eval()\n",
    "            with torch.no_grad():\n",
    "                run_epoch(model, optimizer, test_loader, loss_func, device, results, score_funcs, prefix=\"test\")\n",
    "\n",
    "    # save the model checkpoint\n",
    "    if checkpoint_file is not None:\n",
    "        torch.save({\n",
    "            'epoch': epoch,\n",
    "            'model_state_dict': model.state_dict(),\n",
    "            'optimizer_state_dict': optimizer.state_dict(),\n",
    "            'results' : results\n",
    "            }, checkpoint_file)\n",
    "\n",
    "    return pd.DataFrame.from_dict(results)"
   ]
  },
  {
   "attachments": {},
   "cell_type": "markdown",
   "metadata": {},
   "source": [
    "### 1"
   ]
  },
  {
   "cell_type": "code",
   "execution_count": 56,
   "metadata": {},
   "outputs": [
    {
     "data": {
      "image/png": "[encoded data removed]",
      "text/plain": [
       "<Figure size 640x480 with 1 Axes>"
      ]
     },
     "metadata": {},
     "output_type": "display_data"
    }
   ],
   "source": [
    "# datos simulados para un problema de regresion\n",
    "X = np.linspace(0, 20 , num=200).reshape(-1, 1)\n",
    "y = X + np.sin(X)*2 + np.random.normal(size=X.shape).reshape(-1, 1)\n",
    "sns.scatterplot(x=X[:,0], y=y[:, 0])\n",
    "\n",
    "class Simple1DRegressionDataset(Dataset):\n",
    "    def __init__(self, X, y):\n",
    "        super(Simple1DRegressionDataset, self).__init__()\n",
    "        self.X = X\n",
    "        self.y = y\n",
    "\n",
    "    def __getitem__(self, index):\n",
    "        return (\n",
    "            torch.tensor(self.X[index, :], dtype=torch.float32),\n",
    "            torch.tensor(self.y[index], dtype=torch.float32)    \n",
    "        )\n",
    "    \n",
    "    def __len__(self):\n",
    "        return self.X.shape[0]\n",
    "\n",
    "training_loader = DataLoader(Simple1DRegressionDataset(X, y), shuffle=True)"
   ]
  },
  {
   "cell_type": "code",
   "execution_count": 57,
   "metadata": {},
   "outputs": [],
   "source": [
    "from sklearn.preprocessing import StandardScaler\n",
    "from sklearn.metrics import mean_squared_error"
   ]
  },
  {
   "cell_type": "code",
   "execution_count": 58,
   "metadata": {},
   "outputs": [],
   "source": [
    "class StandardScale1DRegressionDataset(Dataset):\n",
    "    def __init__(self, X, y):\n",
    "        super(StandardScale1DRegressionDataset, self).__init__()\n",
    "        self.X = X\n",
    "        self.y = self.standard_scale(y)\n",
    "    \n",
    "    @staticmethod  # probably not a staticmethod in real life \n",
    "    def standard_scale(x):\n",
    "        scaler = StandardScaler()\n",
    "        scaler.fit(x)\n",
    "        return scaler.transform(x)\n",
    "\n",
    "    def __getitem__(self, index):\n",
    "        return (\n",
    "            torch.tensor(self.X[index, :], dtype=torch.float32),\n",
    "            torch.tensor(self.y[index], dtype=torch.float32)    \n",
    "        )\n",
    "    \n",
    "    def __len__(self):\n",
    "        return self.X.shape[0]\n",
    "\n",
    "standard_training_loader = DataLoader(StandardScale1DRegressionDataset(X, y), shuffle=True)"
   ]
  },
  {
   "cell_type": "code",
   "execution_count": 59,
   "metadata": {},
   "outputs": [
    {
     "data": {
      "application/vnd.jupyter.widget-view+json": {
       "model_id": "44b5353c6062496491d5ab50882bde18",
       "version_major": 2,
       "version_minor": 0
      },
      "text/plain": [
       "Epoch:   0%|          | 0/50 [00:00<?, ?it/s]"
      ]
     },
     "metadata": {},
     "output_type": "display_data"
    }
   ],
   "source": [
    "# without scaling\n",
    "in_features = 1\n",
    "out_features = 1\n",
    "model = nn.Linear(in_features, out_features)\n",
    "loss_func = nn.MSELoss()\n",
    "\n",
    "result = train_simple_network(\n",
    "    model,\n",
    "    loss_func,\n",
    "    training_loader,\n",
    ")"
   ]
  },
  {
   "cell_type": "code",
   "execution_count": null,
   "metadata": {},
   "outputs": [],
   "source": []
  }
 ],
 "metadata": {
  "kernelspec": {
   "display_name": "hundred_concepts-iMWKXiWN",
   "language": "python",
   "name": "python3"
  },
  "language_info": {
   "codemirror_mode": {
    "name": "ipython",
    "version": 3
   },
   "file_extension": ".py",
   "mimetype": "text/x-python",
   "name": "python",
   "nbconvert_exporter": "python",
   "pygments_lexer": "ipython3",
   "version": "3.9.6"
  },
  "orig_nbformat": 4
 },
 "nbformat": 4,
 "nbformat_minor": 2
}
