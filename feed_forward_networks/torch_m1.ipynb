{
  "cells": [
    {
      "attachments": {},
      "cell_type": "markdown",
      "metadata": {},
      "source": [
        "#### Pytorch, NN\n",
        "\n",
        "Inside Deep Learning, Raff, 2022"
      ]
    },
    {
      "cell_type": "code",
      "execution_count": 68,
      "metadata": {
        "id": "B4C2vfDcfKu_"
      },
      "outputs": [],
      "source": [
        "import torch\n",
        "import numpy as np\n",
        "import seaborn as sns\n",
        "import timeit\n",
        "import matplotlib.pyplot as plt"
      ]
    },
    {
      "cell_type": "code",
      "execution_count": 69,
      "metadata": {
        "id": "yAB5cC4sfR9e"
      },
      "outputs": [],
      "source": [
        "torch_scalar = torch.tensor(3.14)\n",
        "torch_vector = torch.tensor([1, 2, 3, 4])\n",
        "torch_matrix = torch.tensor([\n",
        "    [1, 2],\n",
        "    [3, 4],\n",
        "    [5, 6],\n",
        "    [7, 8],\n",
        "])\n",
        "torch_tensor3d = torch.tensor([\n",
        "    [\n",
        "        [1, 2, 3],\n",
        "        [4, 5, 6],\n",
        "    ],\n",
        "    [\n",
        "        [7, 8, 9],\n",
        "        [10, 11, 12]\n",
        "    ],\n",
        "])"
      ]
    },
    {
      "cell_type": "code",
      "execution_count": 70,
      "metadata": {
        "colab": {
          "base_uri": "https://localhost:8080/"
        },
        "id": "Cpa0UMwYfSH3",
        "outputId": "aea3c455-68ce-468a-9ae9-5aae549fed25"
      },
      "outputs": [
        {
          "name": "stdout",
          "output_type": "stream",
          "text": [
            "torch.Size([])\n",
            "torch.Size([4])\n",
            "torch.Size([4, 2])\n",
            "torch.Size([2, 2, 3])\n"
          ]
        }
      ],
      "source": [
        "print(torch_scalar.shape)\n",
        "print(torch_vector.shape)\n",
        "print(torch_matrix.shape)\n",
        "print(torch_tensor3d.shape)"
      ]
    },
    {
      "cell_type": "code",
      "execution_count": 71,
      "metadata": {
        "colab": {
          "base_uri": "https://localhost:8080/"
        },
        "id": "5keJo25PfSgF",
        "outputId": "688c7221-d472-4d56-81e4-903aed13c29e"
      },
      "outputs": [
        {
          "name": "stdout",
          "output_type": "stream",
          "text": [
            "[[0.43519935 0.41034225 0.8479865  0.48031467]\n",
            " [0.8486224  0.0481709  0.9214057  0.30254498]\n",
            " [0.2105827  0.19351986 0.98613286 0.86944485]\n",
            " [0.03485484 0.14607485 0.1007104  0.8579945 ]]\n"
          ]
        }
      ],
      "source": [
        "x_np = np.random.random([4, 4]).astype(np.float32)\n",
        "print(x_np)"
      ]
    },
    {
      "cell_type": "code",
      "execution_count": 72,
      "metadata": {
        "colab": {
          "base_uri": "https://localhost:8080/"
        },
        "id": "_jaS-yNzj27Z",
        "outputId": "7bb85499-c13f-4bf3-b4ff-d1f7ce2fa600"
      },
      "outputs": [
        {
          "name": "stdout",
          "output_type": "stream",
          "text": [
            "tensor([[0.4352, 0.4103, 0.8480, 0.4803],\n",
            "        [0.8486, 0.0482, 0.9214, 0.3025],\n",
            "        [0.2106, 0.1935, 0.9861, 0.8694],\n",
            "        [0.0349, 0.1461, 0.1007, 0.8580]])\n"
          ]
        }
      ],
      "source": [
        "x_pt = torch.tensor(x_np, dtype=torch.float32)\n",
        "print(x_pt)"
      ]
    },
    {
      "cell_type": "code",
      "execution_count": 73,
      "metadata": {
        "colab": {
          "base_uri": "https://localhost:8080/"
        },
        "id": "vHyUvQBmj3BG",
        "outputId": "7371603c-ac8d-4570-d275-526145609075"
      },
      "outputs": [
        {
          "name": "stdout",
          "output_type": "stream",
          "text": [
            "tensor([[False, False,  True, False],\n",
            "        [ True, False,  True, False],\n",
            "        [False, False,  True,  True],\n",
            "        [False, False, False,  True]])\n",
            "torch.bool\n"
          ]
        }
      ],
      "source": [
        "b_pt = x_pt > 0.5\n",
        "print(b_pt)\n",
        "print(b_pt.dtype)"
      ]
    },
    {
      "cell_type": "code",
      "execution_count": 74,
      "metadata": {
        "colab": {
          "base_uri": "https://localhost:8080/"
        },
        "id": "ossEXllvj3Fs",
        "outputId": "fae2cc16-d97e-4e7f-9aaf-4c11b9829639"
      },
      "outputs": [
        {
          "data": {
            "text/plain": [
              "tensor(7.6939)"
            ]
          },
          "execution_count": 74,
          "metadata": {},
          "output_type": "execute_result"
        }
      ],
      "source": [
        "torch.sum(x_pt)"
      ]
    },
    {
      "cell_type": "code",
      "execution_count": 75,
      "metadata": {
        "colab": {
          "base_uri": "https://localhost:8080/"
        },
        "id": "w21EjuDVk_wD",
        "outputId": "8ce63fdc-ec57-4be2-aab2-01f2854a2179"
      },
      "outputs": [
        {
          "data": {
            "text/plain": [
              "array([[0.43519935, 0.8486224 , 0.2105827 , 0.03485484],\n",
              "       [0.41034225, 0.0481709 , 0.19351986, 0.14607485],\n",
              "       [0.8479865 , 0.9214057 , 0.98613286, 0.1007104 ],\n",
              "       [0.48031467, 0.30254498, 0.86944485, 0.8579945 ]], dtype=float32)"
            ]
          },
          "execution_count": 75,
          "metadata": {},
          "output_type": "execute_result"
        }
      ],
      "source": [
        "np.transpose(x_np)"
      ]
    },
    {
      "cell_type": "code",
      "execution_count": 76,
      "metadata": {
        "colab": {
          "base_uri": "https://localhost:8080/"
        },
        "id": "7IJZI2lUk_1w",
        "outputId": "8e2c8f4a-1a9d-4456-a9b7-311cd070fd5f"
      },
      "outputs": [
        {
          "data": {
            "text/plain": [
              "tensor([[0.4352, 0.8486, 0.2106, 0.0349],\n",
              "        [0.4103, 0.0482, 0.1935, 0.1461],\n",
              "        [0.8480, 0.9214, 0.9861, 0.1007],\n",
              "        [0.4803, 0.3025, 0.8694, 0.8580]])"
            ]
          },
          "execution_count": 76,
          "metadata": {},
          "output_type": "execute_result"
        }
      ],
      "source": [
        "torch.transpose(x_pt, 0, 1)"
      ]
    },
    {
      "attachments": {},
      "cell_type": "markdown",
      "metadata": {},
      "source": [
        "### MAC M1 GPU on Pytorch"
      ]
    },
    {
      "cell_type": "code",
      "execution_count": 77,
      "metadata": {
        "id": "kLkNwpg2k_7F"
      },
      "outputs": [
        {
          "name": "stdout",
          "output_type": "stream",
          "text": [
            "GPU time: 1.18 s\n"
          ]
        }
      ],
      "source": [
        "\n",
        "x = torch.rand(2**11, 2**11)\n",
        "time_cpu = timeit.timeit(\"x@x\", globals=globals(), number=100)\n",
        "print(f\"GPU time: {time_cpu:.2f} s\")"
      ]
    },
    {
      "cell_type": "code",
      "execution_count": 78,
      "metadata": {
        "colab": {
          "base_uri": "https://localhost:8080/"
        },
        "id": "XsULjK2rlAAJ",
        "outputId": "bf70995e-76b8-4f36-f951-cce5e36ea880"
      },
      "outputs": [
        {
          "name": "stdout",
          "output_type": "stream",
          "text": [
            "True\n",
            "True\n"
          ]
        }
      ],
      "source": [
        "print(torch.backends.mps.is_available())\n",
        "print(torch.backends.mps.is_built())"
      ]
    },
    {
      "cell_type": "code",
      "execution_count": 79,
      "metadata": {
        "id": "C0nmtYPgfSPu"
      },
      "outputs": [
        {
          "name": "stdout",
          "output_type": "stream",
          "text": [
            "GPU time: 0.01 s\n"
          ]
        }
      ],
      "source": [
        "device = torch.device(\"mps\") # PyTorch uses Apple’s Metal Performance Shaders (MPS)\n",
        "x = x.to(device)\n",
        "time_gpu = timeit.timeit(\"x@x\", globals=globals(), number=100)\n",
        "print(f\"GPU time: {time_gpu:.2f} s\")"
      ]
    },
    {
      "attachments": {},
      "cell_type": "markdown",
      "metadata": {
        "id": "WzwyeN7B3Z_B"
      },
      "source": [
        "El autor menciona que cuando tenemos una lista o un diccionario que contiene tensores, debemos pasar esos *tensores* a la GPU:"
      ]
    },
    {
      "cell_type": "code",
      "execution_count": 80,
      "metadata": {},
      "outputs": [],
      "source": [
        "def moveTo(obj, device):\n",
        "    \"\"\"\n",
        "    obj: the python object ot move to a device, or to move its contents to a device\n",
        "    device: the compute device to move objects to\n",
        "    \"\"\"\n",
        "    if isinstance(obj, list):\n",
        "        return [moveTo(o, device) for o in obj]\n",
        "    elif isinstance(obj, tuple):\n",
        "        return tuple(moveTo(o, device) for o in obj)\n",
        "    elif isinstance(obj, set):\n",
        "        return set(moveTo(o, device) for o in obj)\n",
        "    elif isinstance(obj, dict):\n",
        "        to_ret = dict()\n",
        "        for k, v in obj.items():\n",
        "            to_ret[moveTo(k, device)] = moveTo(v, device)\n",
        "        return to_ret\n",
        "    elif hasattr(obj, \"to\"):\n",
        "        return obj.to(device)\n",
        "    else:\n",
        "        return obj"
      ]
    },
    {
      "cell_type": "code",
      "execution_count": 81,
      "metadata": {},
      "outputs": [
        {
          "name": "stdout",
          "output_type": "stream",
          "text": [
            "[tensor(1), tensor(2)]\n",
            "[tensor(1, device='mps:0'), tensor(2, device='mps:0')]\n"
          ]
        }
      ],
      "source": [
        "some_tensors = [torch.tensor(1), torch.tensor(2)]\n",
        "print(some_tensors)\n",
        "print(moveTo(some_tensors, device))"
      ]
    },
    {
      "attachments": {},
      "cell_type": "markdown",
      "metadata": {},
      "source": [
        "#### Automatic differentiation\n",
        "\n",
        "Esta es una de las ventajas de Pytorch, calcula las derivadas (gradientes) automaticamente."
      ]
    },
    {
      "cell_type": "code",
      "execution_count": 82,
      "metadata": {},
      "outputs": [
        {
          "data": {
            "text/plain": [
              "<Axes: >"
            ]
          },
          "execution_count": 82,
          "metadata": {},
          "output_type": "execute_result"
        },
        {
          "data": {
            "image/png": "[encoded data removed]",
            "text/plain": [
              "<Figure size 640x480 with 1 Axes>"
            ]
          },
          "metadata": {},
          "output_type": "display_data"
        }
      ],
      "source": [
        "def f(x):\n",
        "    return torch.pow((x-2.0), 2)\n",
        "\n",
        "x_axis_vals = np.linspace(-7, 9 , 1000)\n",
        "y_axis_vals = f(torch.tensor(x_axis_vals)).numpy()\n",
        "\n",
        "sns.lineplot(x=x_axis_vals, y=y_axis_vals, label='$f(x) = (x-2)^2$')"
      ]
    },
    {
      "cell_type": "code",
      "execution_count": 83,
      "metadata": {},
      "outputs": [
        {
          "data": {
            "text/plain": [
              "<Axes: >"
            ]
          },
          "execution_count": 83,
          "metadata": {},
          "output_type": "execute_result"
        },
        {
          "data": {
            "image/png": "[encoded data removed]",
            "text/plain": [
              "<Figure size 640x480 with 1 Axes>"
            ]
          },
          "metadata": {},
          "output_type": "display_data"
        }
      ],
      "source": [
        "def fP(x):\n",
        "    return 2*x - 4\n",
        "\n",
        "y_axis_vals_p = fP(torch.tensor(x_axis_vals)).numpy()\n",
        "\n",
        "sns.lineplot(x=x_axis_vals, y=[0.0]*len(x_axis_vals), label=\"0\", color=\"black\")\n",
        "sns.lineplot(x=x_axis_vals, y=y_axis_vals, label='Function to Minimize $f(x) = (x - 2)^2$')\n",
        "sns.lineplot(x=x_axis_vals, y=y_axis_vals_p, label=\"Gradient of the function $f'(x) = 2x - 4\")"
      ]
    },
    {
      "attachments": {},
      "cell_type": "markdown",
      "metadata": {},
      "source": [
        "El signo del gradiente nos dice hacia donde se debe mover la variable para acercanos mas al minimo! Adicionalmente $|f'(x)|$ nos dice que tan lejos estamos del minimo y que tan rapido se debe mover la variable."
      ]
    },
    {
      "cell_type": "code",
      "execution_count": 84,
      "metadata": {},
      "outputs": [
        {
          "name": "stdout",
          "output_type": "stream",
          "text": [
            "None\n"
          ]
        }
      ],
      "source": [
        "# ahora se hara un ejemplo utilizando torch para ir calculando los gradientes\n",
        "x = torch.tensor([-3.5], requires_grad=True)\n",
        "print(x.grad) # deberia imprimir None ya que por ahora no estoy usando esta variable en nada"
      ]
    },
    {
      "cell_type": "code",
      "execution_count": 85,
      "metadata": {},
      "outputs": [
        {
          "name": "stdout",
          "output_type": "stream",
          "text": [
            "tensor([30.2500], grad_fn=<PowBackward0>)\n"
          ]
        }
      ],
      "source": [
        "# calculo una funcion y ya se ve que se menciona una funcion de gradientes\n",
        "value = f(x)\n",
        "print(value)"
      ]
    },
    {
      "cell_type": "code",
      "execution_count": 86,
      "metadata": {},
      "outputs": [
        {
          "name": "stdout",
          "output_type": "stream",
          "text": [
            "tensor([-11.])\n"
          ]
        }
      ],
      "source": [
        "# a medida que se van acumulando funciones pytorch va guardando\n",
        "# la funcion gradiente y una vez ya lleguemos a un escalar\n",
        "# se puede usar backpropagation para calcular los gradientes\n",
        "# de cada nodo\n",
        "value.backward()\n",
        "print(x.grad)"
      ]
    },
    {
      "cell_type": "code",
      "execution_count": 87,
      "metadata": {},
      "outputs": [
        {
          "name": "stdout",
          "output_type": "stream",
          "text": [
            "tensor(2.0000)\n"
          ]
        }
      ],
      "source": [
        "# ahora se hara un ejemplo completo de como se puede usar el gradiente\n",
        "# sugiere revisar el 2-norm entre el actual valor de x y el valor pasado\n",
        "# y cuando este valor sea muy bajo, se detiene el proceso.\n",
        "\n",
        "# este proceso es un poco raro para mi, puesto que no se fija en el valor actual\n",
        "# de la funcion.\n",
        "\n",
        "x = torch.tensor(-3.5, requires_grad=True)\n",
        "\n",
        "x_cur = x.clone()\n",
        "x_prev = x_cur*100 # para que entre al while\n",
        "\n",
        "epsilon = 1e-5\n",
        "eta = 0.1 # basicamente es el learning rate\n",
        "\n",
        "while torch.linalg.norm(x_cur - x_prev) > epsilon:\n",
        "    x_prev = x_cur.clone()\n",
        "    value = f(x)\n",
        "    value.backward()\n",
        "    x.data = x.data - eta*x.grad\n",
        "\n",
        "    x.grad.zero_() # esto es para que no se acumulen los gradientes\n",
        "\n",
        "    x_cur = x.data # esto es para que se guarde el valor actual de x sin los gradientes\n",
        "\n",
        "print(x_cur)"
      ]
    },
    {
      "cell_type": "code",
      "execution_count": 88,
      "metadata": {},
      "outputs": [
        {
          "name": "stdout",
          "output_type": "stream",
          "text": [
            "tensor([2.0000])\n"
          ]
        }
      ],
      "source": [
        "# es bien interesante que los tensores se pueden convertir a\n",
        "# un objeto especial nn.Parameter, esto nos habilita para crear\n",
        "# un optimizer que se encargue de actualizar los parametros\n",
        "# buscando el minimo de una funcion\n",
        "x_param = torch.nn.Parameter(torch.tensor([-3.5], requires_grad=True))\n",
        "optimizer = torch.optim.SGD([x_param], lr=eta)\n",
        "\n",
        "for epoch in range(100):\n",
        "    optimizer.zero_grad()\n",
        "    loss_incurred = f(x_param)\n",
        "    loss_incurred.backward()\n",
        "    optimizer.step()\n",
        "print(x_param.data)"
      ]
    },
    {
      "cell_type": "code",
      "execution_count": 89,
      "metadata": {},
      "outputs": [
        {
          "name": "stderr",
          "output_type": "stream",
          "text": [
            "/Users/fabio/.local/share/virtualenvs/hundred_concepts-iMWKXiWN/lib/python3.9/site-packages/sklearn/datasets/_openml.py:968: FutureWarning: The default value of `parser` will change from `'liac-arff'` to `'auto'` in 1.4. You can set `parser='auto'` to silence this warning. Therefore, an `ImportError` will be raised from 1.4 if the dataset is dense and pandas is not installed. Note that the pandas parser may return different data types. See the Notes Section in fetch_openml's API doc for details.\n",
            "  warn(\n"
          ]
        },
        {
          "name": "stdout",
          "output_type": "stream",
          "text": [
            "(70000, 784)\n"
          ]
        }
      ],
      "source": [
        "from torch.utils.data import Dataset\n",
        "from sklearn.datasets import fetch_openml\n",
        "\n",
        "X, y = fetch_openml('mnist_784', version=1, return_X_y=True)\n",
        "print(X.shape)"
      ]
    },
    {
      "cell_type": "code",
      "execution_count": 112,
      "metadata": {},
      "outputs": [],
      "source": [
        "class SimpleDataset(Dataset):\n",
        "    def __init__(self, X, y):\n",
        "        super(SimpleDataset, self).__init__()\n",
        "        self.X = X\n",
        "        self.y = y\n",
        "    \n",
        "    def __getitem__(self, index):\n",
        "        inputs = torch.tensor(self.X.values[index, :], dtype=torch.float32)\n",
        "        targets = torch.tensor(int(self.y.values[index]), dtype=torch.int64)\n",
        "        return inputs, targets\n",
        "    \n",
        "    def __len__(self):\n",
        "        return self.X.shape[0]\n",
        "\n",
        "dataset = SimpleDataset(X, y)"
      ]
    },
    {
      "cell_type": "code",
      "execution_count": 114,
      "metadata": {},
      "outputs": [
        {
          "name": "stdout",
          "output_type": "stream",
          "text": [
            "Length of dataset: 70000\n",
            "Features:  torch.Size([784])\n",
            "Label of index 0: tensor(5)\n"
          ]
        },
        {
          "data": {
            "image/png": "[encoded data removed]",
            "text/plain": [
              "<Figure size 640x480 with 1 Axes>"
            ]
          },
          "metadata": {},
          "output_type": "display_data"
        }
      ],
      "source": [
        "print('Length of dataset:', len(dataset))\n",
        "example, label = dataset[0]\n",
        "print('Features: ', example.shape)\n",
        "print('Label of index 0:', label)\n",
        "\n",
        "plt.imshow(example.reshape(28, 28), cmap='gray')\n",
        "plt.show()"
      ]
    },
    {
      "cell_type": "code",
      "execution_count": 115,
      "metadata": {},
      "outputs": [
        {
          "name": "stdout",
          "output_type": "stream",
          "text": [
            "Length of train dataset: 56000\n",
            "Length of test dataset: 14000\n"
          ]
        }
      ],
      "source": [
        "# ahora se hara un ejemplo de como dividir entre train y test\n",
        "train_size = int(len(dataset)*0.8)\n",
        "test_size = len(dataset) - train_size\n",
        "\n",
        "train_dataset, test_dataset = torch.utils.data.random_split(\n",
        "    dataset, [train_size, test_size]\n",
        ")\n",
        "\n",
        "print('Length of train dataset:', len(train_dataset))\n",
        "print('Length of test dataset:', len(test_dataset))"
      ]
    },
    {
      "cell_type": "code",
      "execution_count": null,
      "metadata": {},
      "outputs": [],
      "source": []
    },
    {
      "cell_type": "code",
      "execution_count": null,
      "metadata": {},
      "outputs": [],
      "source": []
    },
    {
      "cell_type": "code",
      "execution_count": null,
      "metadata": {},
      "outputs": [],
      "source": []
    }
  ],
  "metadata": {
    "accelerator": "GPU",
    "colab": {
      "provenance": []
    },
    "gpuClass": "standard",
    "kernelspec": {
      "display_name": "Python 3",
      "name": "python3"
    },
    "language_info": {
      "codemirror_mode": {
        "name": "ipython",
        "version": 3
      },
      "file_extension": ".py",
      "mimetype": "text/x-python",
      "name": "python",
      "nbconvert_exporter": "python",
      "pygments_lexer": "ipython3",
      "version": "3.9.6"
    }
  },
  "nbformat": 4,
  "nbformat_minor": 0
}
