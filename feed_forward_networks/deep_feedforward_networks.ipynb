{
 "cells": [
  {
   "attachments": {},
   "cell_type": "markdown",
   "metadata": {
    "slideshow": {
     "slide_type": "slide"
    }
   },
   "source": [
    "## Deep Feedforward Networks\n",
    "\n",
    "Deep Learning book, Goodfellow et al., 2016"
   ]
  },
  {
   "cell_type": "code",
   "execution_count": 1,
   "metadata": {
    "slideshow": {
     "slide_type": "fragment"
    },
    "tags": []
   },
   "outputs": [],
   "source": [
    "import numpy as np\n",
    "import matplotlib.pyplot as plt\n",
    "import torch\n",
    "\n",
    "%matplotlib inline"
   ]
  },
  {
   "cell_type": "markdown",
   "metadata": {
    "slideshow": {
     "slide_type": "slide"
    }
   },
   "source": [
    "#### Feedforward and XOR"
   ]
  },
  {
   "cell_type": "markdown",
   "metadata": {
    "slideshow": {
     "slide_type": "fragment"
    }
   },
   "source": [
    "El autor sugiere revisar el ejemplo XOR, donde hay 4 posibles escenarios, es decir:\n",
    "\n",
    "$$\n",
    "X = \\left \\{ [0, 0], [1, 0], [0, 1], [1, 1] \\right \\}\n",
    "$$\n",
    "\n",
    "Entonces tenemos una funcion que es la verdadera $f^{*}$ y otra que es una aproximacion $f$, un intento por ser similar a la verdadera. Hay muchas formas de medir la diferencia o similitud entre ambas, un MSE loss esta dado de la siguiente forma:\n",
    "\n",
    "$$\n",
    "J(\\theta) = \\frac{1}{4}\\sum^{}_{x \\in X} \\left [ f^*(x) - f(x; \\theta) \\right ]^2\n",
    "$$"
   ]
  },
  {
   "cell_type": "code",
   "execution_count": 2,
   "metadata": {
    "slideshow": {
     "slide_type": "slide"
    }
   },
   "outputs": [],
   "source": [
    "# basicamente son dos funciones que pueden ser\n",
    "\n",
    "def true_fn(x):\n",
    "    return 'Im true'\n",
    "\n",
    "def estimated_fn(x, theta):\n",
    "    return 'Im trying to be true'"
   ]
  },
  {
   "cell_type": "markdown",
   "metadata": {
    "slideshow": {
     "slide_type": "fragment"
    }
   },
   "source": [
    "Si ```true_fn``` es lineal, seria muy facil lograr estimarla, simplemente buscando unos parametros $\\theta$ que minimicen $J(\\theta)$. Pero que pasa cuando no conocemos ```true_fn```, y si es no lineal? Como se puede aproximar a esta funcion?\n",
    "Aqui es importante saber que $f(x; \\theta)$ puede ser bastante compleja, teniendo varias funciones dentro de si misma, algo como $f(x; w, W) = f^2(f^1(x;w);W)$, es decir, $f$ tiene dos capas internas $f^1$ y $f^2$. Donde cada capa puede ser lineal o no lineal.\n",
    "Una solucion a el problema XOR esta dada por la siguiente funcion compuesta por dor funciones:\n",
    "\n",
    "$$\n",
    "f(x; W, c, w, b) = w^T max \\left \\{ 0, W^Tx + c \\right \\} + b\n",
    "$$\n",
    "\n",
    "Notese que $\\theta$ esta compuesto por los parametros $W, c, w, b$. Y aqui tenemos que la primera funcion es $h = f^1(x) = max \\left \\{ 0, W^Tx + c \\right \\}$ y la segunda es $f^2(h) = w^T h + b$. La funcion $max$ agrega no linealidad a nuestra ecuacion."
   ]
  },
  {
   "cell_type": "code",
   "execution_count": 3,
   "metadata": {
    "slideshow": {
     "slide_type": "slide"
    }
   },
   "outputs": [
    {
     "name": "stdout",
     "output_type": "stream",
     "text": [
      "XW + c\n",
      "[[ 0 -1]\n",
      " [ 1  0]\n",
      " [ 1  0]\n",
      " [ 2  1]]\n",
      "-----\n",
      "h\n",
      "[[0 0]\n",
      " [1 0]\n",
      " [1 0]\n",
      " [2 1]]\n",
      "-----\n",
      "y\n",
      "[0 1 1 0]\n"
     ]
    }
   ],
   "source": [
    "# entonces la solucion al XOR estaria dada por lo siguiente\n",
    "\n",
    "W = np.array(\n",
    "    [\n",
    "        [1, 1],\n",
    "        [1, 1]\n",
    "    ]\n",
    ")\n",
    "c = np.array([0, -1])\n",
    "w = np.array([1, -2])\n",
    "X = np.array([\n",
    "    [0, 0],\n",
    "    [0, 1],\n",
    "    [1, 0], \n",
    "    [1, 1]\n",
    "])\n",
    "\n",
    "XW_c= X@W + c\n",
    "print('XW + c')\n",
    "print(XW_c)\n",
    "print('-----')\n",
    "\n",
    "h = np.where(XW_c > 0 , XW_c, 0)\n",
    "print('h')\n",
    "print(h)\n",
    "print('-----')\n",
    "\n",
    "y = h@w # en este caso b = 0\n",
    "print('y')\n",
    "print(y) # este es el resultado correcto"
   ]
  },
  {
   "cell_type": "markdown",
   "metadata": {
    "slideshow": {
     "slide_type": "slide"
    },
    "tags": []
   },
   "source": [
    "#### Learning Conditional Distributions with Maximum Likelihood"
   ]
  },
  {
   "cell_type": "markdown",
   "metadata": {
    "slideshow": {
     "slide_type": "fragment"
    }
   },
   "source": [
    "El autor sostiene que muchas de las redes neuronales que hoy en dia se entrenan, hacen uso del Maximum Likelihood para estimar la similitud entre la verdadera distribucion y la distribucion del modelo. Consecuentemente se puede usar *cross entropy* para maximizar la verosimilitud:\n",
    "\n",
    "$$\n",
    "J(\\theta) = -E_{X,Y \\sim \\hat{p_{data}}} \\left \\| log p_{model}(y | x) \\right \\|\n",
    "$$\n",
    "\n",
    "Si se revisa la ecuacion para el *cross entropy* para datos discretos tenemos que:\n",
    "\n",
    "$$\n",
    "H(P,Q) = -\\sum^{}_{x \\in X} p(x) log q(x)\n",
    "$$\n",
    "\n",
    "Entonces se puede plantear lo siguiente:"
   ]
  },
  {
   "cell_type": "code",
   "execution_count": 4,
   "metadata": {
    "slideshow": {
     "slide_type": "fragment"
    }
   },
   "outputs": [],
   "source": [
    "# tenemos los datos sinteticos que provienen de la siguiente funcion verdadera\n",
    "def true_fn(x):\n",
    "    if (-1)**x < 0:\n",
    "        return 0\n",
    "    else:\n",
    "        return 1"
   ]
  },
  {
   "cell_type": "code",
   "execution_count": 5,
   "metadata": {
    "slideshow": {
     "slide_type": "slide"
    }
   },
   "outputs": [
    {
     "data": {
      "image/png": "[encoded data removed]",
      "text/plain": [
       "<Figure size 640x480 with 1 Axes>"
      ]
     },
     "metadata": {},
     "output_type": "display_data"
    }
   ],
   "source": [
    "# los valores de X\n",
    "X = np.random.randint(1, 100, 100)\n",
    "# los valores de y\n",
    "y = np.array(list(map(true_fn, X)))\n",
    "# la grafica\n",
    "plt.scatter(X, y, color='blue', label='true')\n",
    "plt.xlabel('$X$')\n",
    "plt.ylabel('$y$')\n",
    "plt.legend()\n",
    "plt.show()"
   ]
  },
  {
   "cell_type": "markdown",
   "metadata": {
    "slideshow": {
     "slide_type": "slide"
    }
   },
   "source": [
    "Claramente estamos ante una funcion no lineal (en la practica no sabemos cual es la funcion verdadera, sino que sentido tendria el Deep Learning)."
   ]
  },
  {
   "cell_type": "code",
   "execution_count": 6,
   "metadata": {
    "slideshow": {
     "slide_type": "slide"
    }
   },
   "outputs": [],
   "source": [
    "# definicion de una funcion que \"intenta\" aproximarse a la verdadera funcion\n",
    "def estimated_fn(x):\n",
    "    if x > 30:\n",
    "        return 0.99\n",
    "    else:\n",
    "        return 0.01"
   ]
  },
  {
   "cell_type": "code",
   "execution_count": 7,
   "metadata": {
    "slideshow": {
     "slide_type": "fragment"
    }
   },
   "outputs": [
    {
     "data": {
      "image/png": "[encoded data removed]",
      "text/plain": [
       "<Figure size 640x480 with 1 Axes>"
      ]
     },
     "metadata": {},
     "output_type": "display_data"
    }
   ],
   "source": [
    "# obtengo valores estimados\n",
    "y_hat = np.array(list(map(estimated_fn, X)))\n",
    "# grafica contra los valores verdaderos\n",
    "plt.scatter(X, y, color='blue', label='true', s=10)\n",
    "plt.scatter(X, y_hat, color='red', label='estimated', marker='x', s=10)\n",
    "plt.xlabel('$X$')\n",
    "plt.ylabel('$y$')\n",
    "plt.legend()\n",
    "plt.show()"
   ]
  },
  {
   "cell_type": "code",
   "execution_count": 8,
   "metadata": {
    "slideshow": {
     "slide_type": "slide"
    }
   },
   "outputs": [
    {
     "name": "stdout",
     "output_type": "stream",
     "text": [
      "226.16590624194504\n"
     ]
    }
   ],
   "source": [
    "# y se puede obtener el cross entropy de la siguiente forma\n",
    "def cross_entropy(y_true, y_estimated):\n",
    "    return -np.sum(y_true*np.log(y_estimated) + ((1 - y_true)*np.log(1 - y_estimated)))\n",
    "\n",
    "print(cross_entropy(y, y_hat))"
   ]
  },
  {
   "cell_type": "markdown",
   "metadata": {
    "slideshow": {
     "slide_type": "slide"
    }
   },
   "source": [
    "Cabe notar que los modelos estimados no pueden arrojar probabilidades estimadas de $0$ o $1$ porque tendriamos un problema a la hora de calcular el *cross entropy* (logaritmos de ceros y unos), por esta razon es que las funciones de activacion esta estructuradas para evitar este problema, por ejemplo la *logistic regression*."
   ]
  },
  {
   "cell_type": "markdown",
   "metadata": {
    "slideshow": {
     "slide_type": "fragment"
    }
   },
   "source": [
    "Es muy importante entender el papel de los gradientes cuando un algoritmo debe aprender.\n",
    "\n",
    "<img alt=\"title\" height=\"400\" src=\"https://upload.wikimedia.org/wikipedia/commons/thumb/8/88/Logistic-curve.svg/2880px-Logistic-curve.svg.png\" width=\"600\"/>\n",
    "\n",
    "Cuando los gradientes son bajos se puede decir que el algoritmo aprende muy poco, un ejemplo de como puede pasar esto es con la funcion *sigmoid*, cuando el valor de $x$ en $f(x)$ (siendo $f$ una funcion sigmoid) es muy grande o muy bajo, los gradientes de la funcion seran bajos."
   ]
  },
  {
   "cell_type": "code",
   "execution_count": 9,
   "metadata": {
    "slideshow": {
     "slide_type": "slide"
    }
   },
   "outputs": [
    {
     "name": "stdout",
     "output_type": "stream",
     "text": [
      "Un incremento del 100% partiendo desde x = 0 a x = 1: 0.5 -> 0.7310585786300049\n",
      "Un incremento del 100% partiendo desde x = 10 a x = 20: 0.9999546021312976 -> 0.9999999979388463\n"
     ]
    }
   ],
   "source": [
    "def sigmoid(x):\n",
    "    return 1 / (1 + np.exp(-x))\n",
    "\n",
    "print('Un incremento del 100% partiendo desde x = 0 a x = 1:', sigmoid(0), '->' ,sigmoid(1))\n",
    "print('Un incremento del 100% partiendo desde x = 10 a x = 20:', sigmoid(10), '->' ,sigmoid(20))"
   ]
  },
  {
   "cell_type": "markdown",
   "metadata": {
    "slideshow": {
     "slide_type": "fragment"
    }
   },
   "source": [
    "Entonces, al tener un gradiente tan bajo, los cambios en los parametros producto de este gradiente seran muy bajos y por ende no habra mucho efecto en la funcion de costos. Al final el aprendizaje sera nulo o mas lento.\n",
    "\n",
    "Segun el autor, la parte de la ecuacion $log q(x)$ en *cross entropy* ayuda a compensar el efecto que puede dar el ```exp``` en muchas funciones de activacion."
   ]
  },
  {
   "cell_type": "markdown",
   "metadata": {
    "slideshow": {
     "slide_type": "fragment"
    }
   },
   "source": [
    "Por otro lado, cuando usamos el MSE o MAE no tenemos los beneficios que presenta el *cross entropy* y se puede caer facilmente en problemas de bajos gradientes. Por esto, es muy usual ver el *cross entropy* incluso cuando no es necesario estimar por completo $p(y|x)$."
   ]
  },
  {
   "cell_type": "markdown",
   "metadata": {},
   "source": [
    "#### Sigmoid units for Bernoulli output distributions"
   ]
  },
  {
   "cell_type": "markdown",
   "metadata": {},
   "source": [
    "Supongamos que tenemos una variable binaria $y$, para predecirla estariamos enfrentando un problema de clasificacion, donde se busca predecir la probabilidad de exito ($1$) o fracaso ($0$). La cuestion es definir una distribucion Bernoulli para los $y$ que dependa de $x$, es decir $p(y|x$).\n",
    "\n",
    "Entonces el output de la red debe estar acotado en el intervalo $[0, 1]$. Un ejemplo podria ser una funcion de esta forma:\n",
    "\n",
    "$$\n",
    "P(y = 1|x) = max \\left \\{ 0, min \\left \\{ 1, w^Th + b \\right \\} \\right \\}\n",
    "$$\n",
    "\n",
    "Que tendria la siguiente forma:"
   ]
  },
  {
   "cell_type": "code",
   "execution_count": 10,
   "metadata": {
    "tags": []
   },
   "outputs": [
    {
     "data": {
      "image/png": "[encoded data removed]",
      "text/plain": [
       "<Figure size 640x480 with 1 Axes>"
      ]
     },
     "metadata": {},
     "output_type": "display_data"
    }
   ],
   "source": [
    "def estimated_fn(h):\n",
    "    # suponemos fijos a w = 1 y b = 1\n",
    "    sub_r = np.where(h + 1 > 1, 1, h + 1)\n",
    "    return sub_r if sub_r > 0 else 0\n",
    "x = np.linspace(-1.5, 0.5, 1000)\n",
    "y_hats = np.array(list(map(estimated_fn,x)))\n",
    "plt.plot(x, y_hats)\n",
    "plt.show()"
   ]
  },
  {
   "cell_type": "markdown",
   "metadata": {},
   "source": [
    "Aqui el problema estaria en que una vez que tengamos valores muy bajos o muy altos en la funcion, el gradiente seria $0$, entonces nuestro algoritmo aprendizaje no tendria **guia** para saber hacia donde deben cambiar los parametros.\n",
    "\n",
    "Podria traducirse que si por alguna razon el pronostico es $0$ y el valor real es $1$, el gradiente no nos dice como cambiar los parametros para acercarnos a un pronostico de $1$:"
   ]
  },
  {
   "cell_type": "code",
   "execution_count": 11,
   "metadata": {
    "tags": []
   },
   "outputs": [
    {
     "name": "stdout",
     "output_type": "stream",
     "text": [
      "La variacion del y es:  0\n"
     ]
    }
   ],
   "source": [
    "# calculo empirico de un gradiente\n",
    "y1 = estimated_fn(-1.25)\n",
    "y2 = estimated_fn(-1.24)\n",
    "\n",
    "print('La variacion del y es: ', y1 - y2)"
   ]
  },
  {
   "cell_type": "markdown",
   "metadata": {},
   "source": [
    "Una alternativa podria ser usar la funcion sigmoid:\n",
    "\n",
    "$$\n",
    "\\sigma(x) = \\frac{1}{1 + e^{-x}}\n",
    "$$\n",
    "\n",
    "La cual tiene la siguiente forma:"
   ]
  },
  {
   "cell_type": "code",
   "execution_count": 12,
   "metadata": {
    "tags": []
   },
   "outputs": [
    {
     "data": {
      "image/png": "[encoded data removed]",
      "text/plain": [
       "<Figure size 640x480 with 1 Axes>"
      ]
     },
     "metadata": {},
     "output_type": "display_data"
    }
   ],
   "source": [
    "def estimated_fn(h):\n",
    "    return 1 / (1 + np.exp(-h))\n",
    "x = np.linspace(-10, 10, 1000)\n",
    "y_hats = np.array(list(map(estimated_fn,x)))\n",
    "plt.plot(x, y_hats)\n",
    "plt.show()"
   ]
  },
  {
   "cell_type": "markdown",
   "metadata": {},
   "source": [
    "Como ya se vio antes, los gradientes seran diferentes de $0$ pero seguimos teniendo problemas porque los gradientes en los puntos extremos son muy bajos, casi que anulan el aprendizaje (vanishing gradients).\n",
    "\n",
    "Aqui es donde es muy importante usar el *cross entropy* para el aprendizaje, al tener el $log(q)$, se contrarresta el efecto que agrega la parte exponencial del sigmoid, y por esto los gradientes no seran tan bajos:"
   ]
  },
  {
   "cell_type": "code",
   "execution_count": 13,
   "metadata": {
    "tags": []
   },
   "outputs": [
    {
     "name": "stdout",
     "output_type": "stream",
     "text": [
      "El gradiente sobre la funcion de costo es:  -0.049997785917366144\n"
     ]
    }
   ],
   "source": [
    "# caso 1: El pronostico es muy malo, la red predice casi 0 pero el valor real es 1\n",
    "y_hat_1 = estimated_fn(-10)\n",
    "y_hat_2 = estimated_fn(-10.05)\n",
    "y = 1\n",
    "ce1 = cross_entropy(y, y_hat_1)\n",
    "ce2 = cross_entropy(y, y_hat_2)\n",
    "\n",
    "print('El gradiente sobre la funcion de costo es: ', ce1 - ce2)"
   ]
  },
  {
   "cell_type": "code",
   "execution_count": 14,
   "metadata": {
    "tags": []
   },
   "outputs": [
    {
     "name": "stdout",
     "output_type": "stream",
     "text": [
      "El gradiente sobre la funcion de costo es:  2.214082634115082e-06\n"
     ]
    }
   ],
   "source": [
    "# caso 2: El pronostico es muy bueno, la red predice casi 1 y el valor real es 1\n",
    "y_hat_1 = estimated_fn(10)\n",
    "y_hat_2 = estimated_fn(10.05)\n",
    "y = 1\n",
    "ce1 = cross_entropy(y, y_hat_1)\n",
    "ce2 = cross_entropy(y, y_hat_2)\n",
    "\n",
    "print('El gradiente sobre la funcion de costo es: ', ce1 - ce2)"
   ]
  },
  {
   "cell_type": "markdown",
   "metadata": {},
   "source": [
    "Ya aqui tenemos una ganancia con respecto a nuestra primera funcion de aproximacion, los buenos pronosticos deben quedarse como tal y los que son muy malos hay que mejorarlos mucho.\n",
    "\n",
    "Pero que pasa si no se usa un *cross entropy* sino un MSE?"
   ]
  },
  {
   "cell_type": "code",
   "execution_count": 15,
   "metadata": {
    "tags": []
   },
   "outputs": [],
   "source": [
    "def mse(y_true, y_estimated):\n",
    "    return np.mean(np.sum((y_true - y_estimated)**2))"
   ]
  },
  {
   "cell_type": "code",
   "execution_count": 16,
   "metadata": {
    "tags": []
   },
   "outputs": [
    {
     "name": "stdout",
     "output_type": "stream",
     "text": [
      "El gradiente sobre la funcion de costo es:  -4.427773022230852e-06\n"
     ]
    }
   ],
   "source": [
    "# caso 1: El pronostico es muy malo, la red predice casi 0 pero el valor real es 1\n",
    "y_hat_1 = estimated_fn(-10)\n",
    "y_hat_2 = estimated_fn(-10.05)\n",
    "y = 1\n",
    "mse1 = mse(y, y_hat_1)\n",
    "mse2 = mse(y, y_hat_2)\n",
    "\n",
    "print('El gradiente sobre la funcion de costo es: ', mse1 - mse2)"
   ]
  },
  {
   "cell_type": "code",
   "execution_count": 17,
   "metadata": {
    "tags": []
   },
   "outputs": [
    {
     "name": "stdout",
     "output_type": "stream",
     "text": [
      "El gradiente sobre la funcion de costo es:  1.9611863399895653e-10\n"
     ]
    }
   ],
   "source": [
    "# caso 2: El pronostico es muy bueno, la red predice casi 1 y el valor real es 1\n",
    "y_hat_1 = estimated_fn(10)\n",
    "y_hat_2 = estimated_fn(10.05)\n",
    "y = 1\n",
    "mse1 = mse(y, y_hat_1)\n",
    "mse2 = mse(y, y_hat_2)\n",
    "\n",
    "print('El gradiente sobre la funcion de costo es: ', mse1 - mse2)"
   ]
  },
  {
   "cell_type": "markdown",
   "metadata": {},
   "source": [
    "El gradiente resultante cuando la prediccion es mala, es mas bajo que cuando usamos *cross entropy*, entonces el aprendizaje sera mas lento en este caso (MSE).\n",
    "\n",
    "Se puede entender mas sobre el efecto de la funcion sigmoid dentro de la funcion de costo de la siguiente manera:"
   ]
  },
  {
   "cell_type": "code",
   "execution_count": 18,
   "metadata": {
    "tags": []
   },
   "outputs": [],
   "source": [
    "# creacion de multiples resultados de la red para luego calcular el cross entropy\n",
    "hs = np.random.uniform(-10, 10, 1000)\n",
    "y_hats = np.array(list(map(estimated_fn, hs)))\n",
    "ys = np.random.randint(0, 2, 1000)\n",
    "yhs = list(zip(ys, y_hats))\n",
    "\n",
    "def cross_entropy(params):\n",
    "    return -np.sum(params[0]*np.log(params[1]) + ((1 - params[0])*np.log(1 - params[1])))\n",
    "\n",
    "ces = np.array(list(map(cross_entropy, yhs)))\n",
    "data = list(zip(ces, ys, y_hats))\n",
    "# sort by cross entropy para ver el comporamiento de la funcion de costo\n",
    "data.sort(key=lambda x: x[0])"
   ]
  },
  {
   "cell_type": "code",
   "execution_count": 19,
   "metadata": {
    "tags": []
   },
   "outputs": [
    {
     "data": {
      "image/png": "[encoded data removed]",
      "text/plain": [
       "<Figure size 640x480 with 2 Axes>"
      ]
     },
     "metadata": {},
     "output_type": "display_data"
    }
   ],
   "source": [
    "plt.plot(np.array(data)[:, 0], label='cross entropy', color='blue')\n",
    "plt.legend(loc='lower right')\n",
    "# plot true values in second axis\n",
    "plt.twinx()\n",
    "# plot the distance between the true value and the predicted value\n",
    "plt.plot(np.abs(np.array(data)[:, 1] - np.array(data)[:, 2]), label='distance $\\hat{y}$, $y$', color='red')\n",
    "plt.legend(loc='upper left')\n",
    "plt.show()"
   ]
  },
  {
   "cell_type": "markdown",
   "metadata": {
    "collapsed": false
   },
   "source": [
    "Se puede ver cuando la distancia entre el valor predicho y el valor real es baja, la funcion de costo es baja, y viceversa. Basicamente el gradiente de la funcion de costo es bajo cuando la prediccion es correcta, y es alto cuando la prediccion es incorrecta. No es el mismo comportamiento que se tiene con el MSE, donde cada vez que $\\sigma(z)$ se satura, el gradiente del MSE sera muy bajo. Es decir, ya sea que el modelo realice una prediccion muy mala o muy buena, la capacidad de aprendizaje estara limitada.\n",
    "\n",
    "El autor demuestra que este comportamiento sigue una funcion $softplus$ que tiene la siguiente estructura:\n",
    "\n",
    "$$\n",
    "softplus(x) = \\log(1 + e^x)\n",
    "$$"
   ]
  },
  {
   "cell_type": "markdown",
   "metadata": {
    "collapsed": false
   },
   "source": [
    "#### Softmax units for Multinoulli output classification"
   ]
  },
  {
   "cell_type": "markdown",
   "metadata": {
    "collapsed": false
   },
   "source": [
    "En este caso, nuestro objetivo es aproximar la funcion a una funcion de probabilidad verdadera que arroja probabilidades para distintas categorias. Anteriormente solo se intentaba predecir una variable binaria, un escalar, en este caso el resultado debe ser un vector, donde cada elemento $i$ del vector corresponde a la probabilidad de la categoria $i$.\n",
    "\n",
    "Es importante notar que la funcion $sigmoid$ cumplia requisitos para considerarse una aproximacion a una distribucion de probabilidad. En este caso se debe tener en cuenta que la funcion que podemos usar como aproximacion cumpla con la propiedad de que la suma de las probabilidades de todas las categorias debe ser igual a $1$, este caso es verdadero para la distribucion verdadera que se desea aproximar, pero no para la funcion $sigmoid$. Sin embargo el autor recalca como se puede llegar a funcion que nos ayude a cumplir con esta propiedad:\n",
    "\n",
    "Teniendo un $z = W^Th + b$, el cual es un vector de dimension $K$ donde $K$ es el numero de clases. Cada $z_i$ se entiende como:\n",
    "\n",
    "$$\n",
    "z_i = \\log \\widetilde{P}(y=i|x)\n",
    "$$\n",
    "\n",
    "Se puede ver como una probabilidad no normalizada, para normalizarla (y asegurarnos que sume $1$) se realiza lo siguiente:\n",
    "\n",
    "$$\n",
    "softmax(z)_i = \\frac{e^{z_i}}{\\sum_{j=1}^K e^{z_j}}\n",
    "$$\n",
    "\n",
    "Al tener como objectivo maximizar la verosimilitud (ya que si usamos MSE tendremos problemas de saturacion), es decir maximizar $\\log P(y = i; x) = \\log softmax(x)$ se tiene que:\n",
    "\n",
    "$$\n",
    "\\log softmax(z)_i = z_i - \\log \\sum_{j=1}^K e^{z_j}\n",
    "$$"
   ]
  },
  {
   "cell_type": "markdown",
   "metadata": {
    "collapsed": false
   },
   "source": [
    "##### Intuicion acerca del softmax"
   ]
  },
  {
   "cell_type": "markdown",
   "metadata": {
    "collapsed": false
   },
   "source": [
    "El segundo termino de la ecuacion $\\log \\sum_{j=1}^K e^{z_j}$ se puede interpretar como $max_j z_j$ debido a que las demas probabilidades dentro del vector no seran generalmente significativas con respecto a la mayor probabilidad estimada.Entonces cuando el modelo predice correctamente la clase se tendria que $z_j - z_j$ y se anularian, no sumaria nada al costo y los gradientes se enfocarian en aquellas estimaciones que no esten correctas. Por otro lado, la funcion de costo penalizara fuertemente a las demas estimaciones que no sean la correcta.\n",
    "\n",
    "Hay que tener en cuenta que la ecuacion:$\\log softmax(z)_i = z_i - \\log \\sum_{j=1}^K e^{z_j}$ o es la funcion de costo (*cross entropy*).\n",
    "\n",
    "Por otro lado, usar MSE y softmax no es una buena idea:"
   ]
  },
  {
   "cell_type": "code",
   "execution_count": 142,
   "metadata": {
    "collapsed": false,
    "jupyter": {
     "outputs_hidden": false
    }
   },
   "outputs": [],
   "source": [
    "MSE = torch.nn.MSELoss()  # error MSE\n",
    "CCE = torch.nn.CrossEntropyLoss()  # error de categorical cross entropy\n",
    "softm = torch.nn.Softmax(dim=0)  # softmax\n",
    "\n",
    "# crea una serie de resultados de funciones de costo\n",
    "mses = []\n",
    "cces = []\n",
    "distances = []\n",
    "for i in range(10000):\n",
    "    # genera el vector con los true values\n",
    "    y_true = torch.tensor([1, 0], dtype=torch.float32)\n",
    "\n",
    "    # genera los valores predichos\n",
    "    y_pred = torch.rand(2, dtype=torch.float32).uniform_(0, 10)\n",
    "    y_pred = softm(y_pred)\n",
    "\n",
    "    mses.append(MSE(y_true, y_pred).item())\n",
    "    cces.append(CCE(y_true, y_pred).item())\n",
    "    distances.append((y_true - y_pred).abs().sum().item())\n",
    "\n",
    "# zip and sort the results\n",
    "data_mse = list(zip(mses, distances))\n",
    "data_cce = list(zip(cces, distances))\n",
    "data_mse.sort(key=lambda x: x[0])\n",
    "data_cce.sort(key=lambda x: x[0])\n",
    "\n",
    "# create numpy array\n",
    "data_mse = np.array(data_mse)\n",
    "data_cce = np.array(data_cce)"
   ]
  },
  {
   "cell_type": "code",
   "execution_count": 143,
   "metadata": {
    "collapsed": false
   },
   "outputs": [
    {
     "data": {
      "image/png": "[encoded data removed]",
      "text/plain": [
       "<Figure size 640x480 with 1 Axes>"
      ]
     },
     "metadata": {},
     "output_type": "display_data"
    }
   ],
   "source": [
    "plt.plot(data_mse[:, 0], label='MSE', color='blue')\n",
    "plt.plot(data_cce[:, 0], label='CCE', color='green')\n",
    "plt.legend(loc='upper left')\n",
    "\n",
    "plt.plot(data_mse[:, 1], label='distance $\\hat{y}$, $y$', color='red')\n",
    "plt.legend(loc='lower right')\n",
    "plt.show()"
   ]
  },
  {
   "attachments": {},
   "cell_type": "markdown",
   "metadata": {
    "collapsed": false
   },
   "source": [
    "El *cross entropy* reacciona mas rapido cuando hay predicciones malas, sin embargo ambos metodos muestran que cuando la prediccion es extremadamente mala ambos gradientes bajan mucho, pero el MSE es casi cero, es decir se pierde la guia que da el gradiente, en el caso del *cross entropy* el gradiente es $\\neq 0$, al menos ayuda un poco a que se retome el aprendizaje:"
   ]
  },
  {
   "cell_type": "code",
   "execution_count": 154,
   "metadata": {},
   "outputs": [
    {
     "name": "stdout",
     "output_type": "stream",
     "text": [
      "CCE 1:  1.3131616115570068\n",
      "CCE 2:  1.3130617141723633\n",
      "MSE 1:  0.9997999668121338\n",
      "MSE 2:  0.9996001124382019\n"
     ]
    }
   ],
   "source": [
    "# calculo de los errores cuando la prediccion es muy mala y ademas se cambia solo\n",
    "# un poco el valor de la prediccion para ver el cambio en la funcion de costo\n",
    "y_true = torch.tensor([1, 0], dtype=torch.float32)\n",
    "y_pred = torch.tensor([0.0001, 0.9999], dtype=torch.float32)\n",
    "y_pred_2 = torch.tensor([0.0002, 0.9998], dtype=torch.float32)\n",
    "# calculo del cross entropy\n",
    "print('CCE 1: ', CCE(y_true, y_pred).item())\n",
    "print('CCE 2: ', CCE(y_true, y_pred_2).item())\n",
    "# calculo del MSE\n",
    "print('MSE 1: ', MSE(y_true, y_pred).item())\n",
    "print('MSE 2: ', MSE(y_true, y_pred_2).item())"
   ]
  },
  {
   "cell_type": "code",
   "execution_count": 162,
   "metadata": {},
   "outputs": [
    {
     "name": "stdout",
     "output_type": "stream",
     "text": [
      "CCE diff normal bad:  0.00010007619857788086\n",
      "CCE diff very bad:  9.989738464355469e-05\n"
     ]
    }
   ],
   "source": [
    "# adicionalmente, para el cross entropy se nota que cuando la prediccion\n",
    "# no es tan mala el gradiente es mas alto que cuando la prediccion es MUY mala\n",
    "y_true = torch.tensor([1, 0], dtype=torch.float32)\n",
    "y_pred = torch.tensor([0.6, 0.4], dtype=torch.float32)\n",
    "y_pred_2 = torch.tensor([0.6001, 0.3999], dtype=torch.float32)\n",
    "# calculo del cross entropy\n",
    "print('CCE diff normal bad: ', CCE(y_true, y_pred).item() - CCE(y_true, y_pred_2).item())\n",
    "\n",
    "y_true = torch.tensor([1, 0], dtype=torch.float32)\n",
    "y_pred = torch.tensor([0.1, 0.9], dtype=torch.float32)\n",
    "y_pred_2 = torch.tensor([0.1001, 0.8999], dtype=torch.float32)\n",
    "# calculo del cross entropy\n",
    "print('CCE diff very bad: ', CCE(y_true, y_pred).item() - CCE(y_true, y_pred_2).item())"
   ]
  },
  {
   "attachments": {},
   "cell_type": "markdown",
   "metadata": {},
   "source": [
    "#### Hidden units"
   ]
  },
  {
   "attachments": {},
   "cell_type": "markdown",
   "metadata": {},
   "source": [
    "**ReLUs** son las unidades ocultas mas usadas entre muchas posibilidades. El autor dedica buena parte del capitulo a mencionar que algunas funciones de activacion no son diferenciables completamente. Una funcion es diferenciable solo si la derivada de la izquierda y la derecha son iguales, para una funcion ReLU:\n",
    "\n",
    "$$\n",
    "ReLU(x) = max \\left \\{ 0, x \\right \\}\n",
    "$$\n",
    "\n",
    "No es valido que las derivadas sean iguales en el punto $x = 0$, el autor menciona que los algoritmos de optimizacion normalmente no retornan un error en estos casos, simplemente retornan una de las dos derivadas (la de la derecha o izquierda)\n",
    "\n",
    "Normalmente, las unidades ocultas se describen de la siguiente manera:\n",
    "\n",
    "1. Una funcion lineal $z = W^Tz + b$\n",
    "2. Una transformacion no lineal $h = \\sigma(z)$\n",
    "\n"
   ]
  },
  {
   "attachments": {},
   "cell_type": "markdown",
   "metadata": {},
   "source": [
    "Hay multiples variaciones de ReLU, el autor menciona que estas modificaciones siguen una estructura basica:\n",
    "\n",
    "$$\n",
    "g(z, \\alpha) = max \\left \\{ 0, z \\right \\} + \\alpha  min \\left \\{ 0, z \\right \\}\n",
    "$$\n",
    "\n",
    "Donde los valores de $\\alpha$ son los que determinan el comportamiento de la funcion de activacion. Por ejemplo si $\\alpha = -1$ se tiene que $g(z) = |z|$. Otros caso muy comun es de **leaky ReLU** donde $\\alpha = 0.01$. Tambien el autor menciona que algunas metodologias usan a $\\alpha$ como un parametro que se aprende durante el entrenamiento."
   ]
  }
 ],
 "metadata": {
  "celltoolbar": "Slideshow",
  "kernelspec": {
   "display_name": "Python 3 (ipykernel)",
   "language": "python",
   "name": "python3"
  },
  "language_info": {
   "codemirror_mode": {
    "name": "ipython",
    "version": 3
   },
   "file_extension": ".py",
   "mimetype": "text/x-python",
   "name": "python",
   "nbconvert_exporter": "python",
   "pygments_lexer": "ipython3",
   "version": "3.9.6"
  }
 },
 "nbformat": 4,
 "nbformat_minor": 4
}
