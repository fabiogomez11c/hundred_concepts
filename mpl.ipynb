{
 "cells": [
  {
   "cell_type": "code",
   "execution_count": 2,
   "metadata": {
    "tags": []
   },
   "outputs": [],
   "source": [
    "import numpy as np"
   ]
  },
  {
   "cell_type": "markdown",
   "metadata": {},
   "source": [
    "El autor sugiere revisar el ejemplo XOR, donde hay 4 posibles escenarios, es decir:\n",
    "\n",
    "$$\n",
    "X = \\left \\{ [0, 0], [1, 0], [0, 1], [1, 1] \\right \\}\n",
    "$$\n",
    "\n",
    "Entonces tenemos una funcion que es la verdadera $f^{*}$ y otra que es una aproximacion $f$, un intento por ser similar a la verdadera. Hay muchas formas de medir la diferencia o similitud entre ambas, un MSE loss esta dado de la siguiente forma:\n",
    "\n",
    "$$\n",
    "J(\\theta) = \\frac{1}{4}\\sum^{}_{x \\in X} \\left [ f^*(x) - f(x; \\theta) \\right ]^2\n",
    "$$"
   ]
  },
  {
   "cell_type": "code",
   "execution_count": 12,
   "metadata": {},
   "outputs": [],
   "source": [
    "# basicamente son dos funciones que pueden ser\n",
    "\n",
    "def true_fn(x):\n",
    "    return 'Im true'\n",
    "\n",
    "def estimated_fn(x, theta):\n",
    "    return 'Im trying to be true'"
   ]
  },
  {
   "cell_type": "markdown",
   "metadata": {},
   "source": [
    "Si ```true_fn``` es lineal, seria muy facil lograr estimarla, simplemente buscando unos parametros $\\theta$ que minimicen $J(\\theta)$. Pero que pasa cuando no conocemos ```true_fn```, y si es no lineal? Como se pue"
   ]
  },
  {
   "cell_type": "code",
   "execution_count": null,
   "metadata": {},
   "outputs": [],
   "source": []
  }
 ],
 "metadata": {
  "kernelspec": {
   "display_name": "Python 3 (ipykernel)",
   "language": "python",
   "name": "python3"
  },
  "language_info": {
   "codemirror_mode": {
    "name": "ipython",
    "version": 3
   },
   "file_extension": ".py",
   "mimetype": "text/x-python",
   "name": "python",
   "nbconvert_exporter": "python",
   "pygments_lexer": "ipython3",
   "version": "3.9.6"
  }
 },
 "nbformat": 4,
 "nbformat_minor": 4
}
