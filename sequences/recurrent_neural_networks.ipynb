{
 "cells": [
  {
   "cell_type": "code",
   "execution_count": 1,
   "metadata": {},
   "outputs": [
    {
     "name": "stderr",
     "output_type": "stream",
     "text": [
      "/home/fabio/code/hundred_concepts/sequences/idlmam.py:7: TqdmWarning: IProgress not found. Please update jupyter and ipywidgets. See https://ipywidgets.readthedocs.io/en/stable/user_install.html\n",
      "  from tqdm.autonotebook import tqdm\n"
     ]
    }
   ],
   "source": [
    "import torch\n",
    "import torch.nn as nn\n",
    "import torchvision\n",
    "from torchvision import transforms\n",
    "from torch.utils.data import DataLoader\n",
    "\n",
    "from idlmam import *\n",
    "\n",
    "from sklearn.metrics import accuracy_score\n",
    "\n",
    "device = \"cuda\""
   ]
  },
  {
   "cell_type": "code",
   "execution_count": 2,
   "metadata": {},
   "outputs": [],
   "source": [
    "mnist_data_train = torchvision.datasets.MNIST(\n",
    "    \"./data\", train=True, download=True, transform=transforms.ToTensor()\n",
    ")\n",
    "mnist_data_test = torchvision.datasets.MNIST(\n",
    "    \"./data\", train=False, download=True, transform=transforms.ToTensor()\n",
    ")\n",
    "\n",
    "# data loaders\n",
    "mnist_train_loader = DataLoader(mnist_data_train, batch_size=64, shuffle=True)\n",
    "mnist_test_loader = DataLoader(mnist_data_test, batch_size=64, shuffle=False)"
   ]
  },
  {
   "cell_type": "code",
   "execution_count": 3,
   "metadata": {},
   "outputs": [],
   "source": [
    "D = 28 * 28\n",
    "n = 256  # hidden layer size\n",
    "\n",
    "C = 1\n",
    "\n",
    "classes = 10\n",
    "\n",
    "model_regular = nn.Sequential(\n",
    "    nn.Flatten(),\n",
    "    nn.Linear(D, n),\n",
    "    nn.Tanh(),\n",
    "    nn.Linear(n, n),\n",
    "    nn.Tanh(),\n",
    "    nn.Linear(n, classes),\n",
    ")"
   ]
  },
  {
   "cell_type": "code",
   "execution_count": 4,
   "metadata": {},
   "outputs": [
    {
     "name": "stderr",
     "output_type": "stream",
     "text": [
      "Epoch: 100%|██████████| 10/10 [00:19<00:00,  1.98s/it]\n"
     ]
    }
   ],
   "source": [
    "loss_func = nn.CrossEntropyLoss()\n",
    "regular_results = train_simple_network(\n",
    "    model_regular,\n",
    "    loss_func=loss_func,\n",
    "    train_loader=mnist_train_loader,\n",
    "    test_loader=mnist_test_loader,\n",
    "    epochs=10,\n",
    "    score_funcs={\"Accuracy\": accuracy_score},\n",
    "    device=device,\n",
    ")"
   ]
  },
  {
   "cell_type": "code",
   "execution_count": 5,
   "metadata": {},
   "outputs": [
    {
     "data": {
      "text/html": [
       "<div>\n",
       "<style scoped>\n",
       "    .dataframe tbody tr th:only-of-type {\n",
       "        vertical-align: middle;\n",
       "    }\n",
       "\n",
       "    .dataframe tbody tr th {\n",
       "        vertical-align: top;\n",
       "    }\n",
       "\n",
       "    .dataframe thead th {\n",
       "        text-align: right;\n",
       "    }\n",
       "</style>\n",
       "<table border=\"1\" class=\"dataframe\">\n",
       "  <thead>\n",
       "    <tr style=\"text-align: right;\">\n",
       "      <th></th>\n",
       "      <th>epoch</th>\n",
       "      <th>total time</th>\n",
       "      <th>train loss</th>\n",
       "      <th>test loss</th>\n",
       "      <th>train Accuracy</th>\n",
       "      <th>test Accuracy</th>\n",
       "    </tr>\n",
       "  </thead>\n",
       "  <tbody>\n",
       "    <tr>\n",
       "      <th>0</th>\n",
       "      <td>0</td>\n",
       "      <td>1.930523</td>\n",
       "      <td>2.216234</td>\n",
       "      <td>2.121102</td>\n",
       "      <td>0.365500</td>\n",
       "      <td>0.5991</td>\n",
       "    </tr>\n",
       "    <tr>\n",
       "      <th>1</th>\n",
       "      <td>1</td>\n",
       "      <td>3.645519</td>\n",
       "      <td>2.010718</td>\n",
       "      <td>1.871268</td>\n",
       "      <td>0.656017</td>\n",
       "      <td>0.6928</td>\n",
       "    </tr>\n",
       "    <tr>\n",
       "      <th>2</th>\n",
       "      <td>2</td>\n",
       "      <td>5.407546</td>\n",
       "      <td>1.720082</td>\n",
       "      <td>1.538029</td>\n",
       "      <td>0.691750</td>\n",
       "      <td>0.7043</td>\n",
       "    </tr>\n",
       "    <tr>\n",
       "      <th>3</th>\n",
       "      <td>3</td>\n",
       "      <td>7.103733</td>\n",
       "      <td>1.393534</td>\n",
       "      <td>1.229668</td>\n",
       "      <td>0.708417</td>\n",
       "      <td>0.7318</td>\n",
       "    </tr>\n",
       "    <tr>\n",
       "      <th>4</th>\n",
       "      <td>4</td>\n",
       "      <td>8.770157</td>\n",
       "      <td>1.129952</td>\n",
       "      <td>1.008852</td>\n",
       "      <td>0.745450</td>\n",
       "      <td>0.7743</td>\n",
       "    </tr>\n",
       "    <tr>\n",
       "      <th>5</th>\n",
       "      <td>5</td>\n",
       "      <td>10.473002</td>\n",
       "      <td>0.946829</td>\n",
       "      <td>0.858015</td>\n",
       "      <td>0.782517</td>\n",
       "      <td>0.8051</td>\n",
       "    </tr>\n",
       "    <tr>\n",
       "      <th>6</th>\n",
       "      <td>6</td>\n",
       "      <td>12.158752</td>\n",
       "      <td>0.820607</td>\n",
       "      <td>0.752801</td>\n",
       "      <td>0.807883</td>\n",
       "      <td>0.8223</td>\n",
       "    </tr>\n",
       "    <tr>\n",
       "      <th>7</th>\n",
       "      <td>7</td>\n",
       "      <td>13.825516</td>\n",
       "      <td>0.730927</td>\n",
       "      <td>0.676042</td>\n",
       "      <td>0.825433</td>\n",
       "      <td>0.8371</td>\n",
       "    </tr>\n",
       "    <tr>\n",
       "      <th>8</th>\n",
       "      <td>8</td>\n",
       "      <td>15.528827</td>\n",
       "      <td>0.664640</td>\n",
       "      <td>0.618527</td>\n",
       "      <td>0.836533</td>\n",
       "      <td>0.8496</td>\n",
       "    </tr>\n",
       "    <tr>\n",
       "      <th>9</th>\n",
       "      <td>9</td>\n",
       "      <td>17.184724</td>\n",
       "      <td>0.613690</td>\n",
       "      <td>0.573630</td>\n",
       "      <td>0.846517</td>\n",
       "      <td>0.8578</td>\n",
       "    </tr>\n",
       "  </tbody>\n",
       "</table>\n",
       "</div>"
      ],
      "text/plain": [
       "   epoch  total time  train loss  test loss  train Accuracy  test Accuracy\n",
       "0      0    1.930523    2.216234   2.121102        0.365500         0.5991\n",
       "1      1    3.645519    2.010718   1.871268        0.656017         0.6928\n",
       "2      2    5.407546    1.720082   1.538029        0.691750         0.7043\n",
       "3      3    7.103733    1.393534   1.229668        0.708417         0.7318\n",
       "4      4    8.770157    1.129952   1.008852        0.745450         0.7743\n",
       "5      5   10.473002    0.946829   0.858015        0.782517         0.8051\n",
       "6      6   12.158752    0.820607   0.752801        0.807883         0.8223\n",
       "7      7   13.825516    0.730927   0.676042        0.825433         0.8371\n",
       "8      8   15.528827    0.664640   0.618527        0.836533         0.8496\n",
       "9      9   17.184724    0.613690   0.573630        0.846517         0.8578"
      ]
     },
     "execution_count": 5,
     "metadata": {},
     "output_type": "execute_result"
    }
   ],
   "source": [
    "regular_results"
   ]
  },
  {
   "cell_type": "code",
   "execution_count": 6,
   "metadata": {},
   "outputs": [],
   "source": [
    "h_2 = nn.Linear(n, n)\n",
    "model_shared = nn.Sequential(\n",
    "    nn.Flatten(),\n",
    "    nn.Linear(D, n),\n",
    "    nn.Tanh(),\n",
    "    h_2,\n",
    "    nn.Tanh(),\n",
    "    h_2,\n",
    "    nn.Tanh(),\n",
    "    nn.Linear(n, classes),\n",
    ")"
   ]
  },
  {
   "cell_type": "code",
   "execution_count": 7,
   "metadata": {},
   "outputs": [
    {
     "name": "stderr",
     "output_type": "stream",
     "text": [
      "Epoch: 100%|██████████| 10/10 [00:20<00:00,  2.04s/it]\n"
     ]
    }
   ],
   "source": [
    "shared_results = train_simple_network(\n",
    "    model_shared,\n",
    "    loss_func=loss_func,\n",
    "    train_loader=mnist_train_loader,\n",
    "    test_loader=mnist_test_loader,\n",
    "    epochs=10,\n",
    "    score_funcs={\"Accuracy\": accuracy_score},\n",
    "    device=device,\n",
    ")"
   ]
  },
  {
   "cell_type": "code",
   "execution_count": 9,
   "metadata": {},
   "outputs": [
    {
     "data": {
      "text/plain": [
       "<Axes: xlabel='epoch', ylabel='test Accuracy'>"
      ]
     },
     "execution_count": 9,
     "metadata": {},
     "output_type": "execute_result"
    },
    {
     "data": {
      "image/png": "[encoded data removed]",
      "text/plain": [
       "<Figure size 640x480 with 1 Axes>"
      ]
     },
     "metadata": {},
     "output_type": "display_data"
    }
   ],
   "source": [
    "sns.lineplot(data=regular_results, x=\"epoch\", y=\"test Accuracy\", label=\"Regular\")\n",
    "sns.lineplot(data=shared_results, x=\"epoch\", y=\"test Accuracy\", label=\"Shared\")"
   ]
  }
 ],
 "metadata": {
  "kernelspec": {
   "display_name": "hundred_concepts-BC5U2Mdm",
   "language": "python",
   "name": "python3"
  },
  "language_info": {
   "codemirror_mode": {
    "name": "ipython",
    "version": 3
   },
   "file_extension": ".py",
   "mimetype": "text/x-python",
   "name": "python",
   "nbconvert_exporter": "python",
   "pygments_lexer": "ipython3",
   "version": "3.10.10"
  },
  "orig_nbformat": 4
 },
 "nbformat": 4,
 "nbformat_minor": 2
}
