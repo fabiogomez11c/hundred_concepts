{
 "cells": [
  {
   "cell_type": "code",
   "execution_count": 1,
   "metadata": {},
   "outputs": [
    {
     "name": "stderr",
     "output_type": "stream",
     "text": [
      "/home/fabio/code/hundred_concepts/convolutions/idlmam.py:7: TqdmWarning: IProgress not found. Please update jupyter and ipywidgets. See https://ipywidgets.readthedocs.io/en/stable/user_install.html\n",
      "  from tqdm.autonotebook import tqdm\n"
     ]
    }
   ],
   "source": [
    "import torchvision\n",
    "from torchvision import transforms\n",
    "import matplotlib.pyplot as plt\n",
    "import torch\n",
    "import torch.nn as nn\n",
    "from torch.utils.data import DataLoader\n",
    "import pandas as pd\n",
    "import numpy as np\n",
    "import time\n",
    "from typing import Dict\n",
    "from tqdm import tqdm\n",
    "from uuid import uuid4\n",
    "from sklearn.metrics import accuracy_score\n",
    "import seaborn as sns\n",
    "import os\n",
    "\n",
    "from idlmam import set_seed\n",
    "\n",
    "torch.backends.cudnn.deterministic = True\n",
    "set_seed(1)"
   ]
  },
  {
   "cell_type": "code",
   "execution_count": 2,
   "metadata": {},
   "outputs": [],
   "source": [
    "def moveTo(obj, device):\n",
    "    \"\"\"\n",
    "    obj: the python object ot move to a device, or to move its contents to a device\n",
    "    device: the compute device to move objects to\n",
    "    \"\"\"\n",
    "    if isinstance(obj, list):\n",
    "        return [moveTo(o, device) for o in obj]\n",
    "    elif isinstance(obj, tuple):\n",
    "        return tuple(moveTo(o, device) for o in obj)\n",
    "    elif isinstance(obj, set):\n",
    "        return set(moveTo(o, device) for o in obj)\n",
    "    elif isinstance(obj, dict):\n",
    "        to_ret = dict()\n",
    "        for k, v in obj.items():\n",
    "            to_ret[moveTo(k, device)] = moveTo(v, device)\n",
    "        return to_ret\n",
    "    elif hasattr(obj, \"to\"):\n",
    "        return obj.to(device)\n",
    "    else:\n",
    "        return obj\n",
    "\n",
    "def run_epoch(model,\n",
    "    optimizer,\n",
    "    data_loader,\n",
    "    loss_func,\n",
    "    device,\n",
    "    results,\n",
    "    score_funcs,\n",
    "    prefix=\"\",\n",
    "    problem_type='classification'\n",
    "):\n",
    "    # init empty variables\n",
    "    running_loss = []\n",
    "    y_true = []\n",
    "    y_pred = []\n",
    "    start = time.time()\n",
    "    # loop over the batchs\n",
    "    for inputs, labels in data_loader:\n",
    "        # move x, y to correct device\n",
    "        inputs = moveTo(inputs, device=device)\n",
    "        labels = moveTo(labels, device=device)\n",
    "\n",
    "        # estimate\n",
    "        y_hat = model(inputs)\n",
    "\n",
    "        # compute loss, backpropagate and apply gradients if needed\n",
    "        loss = loss_func(y_hat, labels)\n",
    "        if model.training:\n",
    "            loss.backward()\n",
    "            optimizer.step()\n",
    "            optimizer.zero_grad()\n",
    "        \n",
    "        # store the results\n",
    "        running_loss.append(loss.item())\n",
    "        if score_funcs is not None and len(score_funcs) > 0 and isinstance(labels, torch.Tensor):\n",
    "            labels = labels.detach().cpu().numpy()\n",
    "            y_hat = y_hat.detach().cpu().numpy()\n",
    "            y_true.extend(labels.tolist())\n",
    "            y_pred.extend(y_hat.tolist())\n",
    "        \n",
    "    end = time.time()\n",
    "\n",
    "    # clean results to compute metrics under sklearn standards\n",
    "    y_pred = np.asarray(y_pred)\n",
    "    if problem_type == 'classification':\n",
    "        if len(y_pred.shape) == 2 and y_pred.shape[1] > 1:\n",
    "            y_pred = np.argmax(y_pred, axis=1)\n",
    "        elif y_pred.shape[1] == 1:\n",
    "            y_pred = np.where(y_pred > 0.5, 1, 0)\n",
    "        \n",
    "    \n",
    "    results[prefix + ' loss'].append(np.mean(running_loss))\n",
    "    if score_funcs is not None:\n",
    "        for name, score_func in score_funcs.items():\n",
    "            try:\n",
    "                results[prefix + \" \" + name].append( score_func(y_true, y_pred) )\n",
    "            except:\n",
    "                results[prefix + \" \" + name].append(float(\"NaN\"))\n",
    "    return end-start #time spent on epoc\n",
    "\n",
    "def save_model(\n",
    "    model: nn.Module,\n",
    "    checkpoint_file: str,\n",
    "    optimizer: nn.Module,\n",
    "    true_epoch: int,\n",
    "    results: Dict,\n",
    "    model_file_name: str = None\n",
    "):\n",
    "    # check if the folder for models exists\n",
    "    folder_path = \"checkpoints\"\n",
    "    if not os.path.exists(folder_path):\n",
    "        os.makedirs(folder_path)\n",
    "\n",
    "    # save the model checkpoint\n",
    "    file_name = uuid4().hex + '_' + checkpoint_file\n",
    "    if model_file_name is not None:\n",
    "        file_name = model_file_name\n",
    "    torch.save({\n",
    "        'epoch': true_epoch,\n",
    "        'model_state_dict': model.state_dict(),\n",
    "        'optimizer_state_dict': optimizer.state_dict(),\n",
    "        'results' : results\n",
    "        }, os.path.join(folder_path, file_name))\n",
    "\n",
    "def train_simple_network(\n",
    "        model, \n",
    "        loss_func,\n",
    "        train_loader,\n",
    "        test_loader=None,\n",
    "        score_funcs=None,\n",
    "        device='cpu',\n",
    "        epochs=50,\n",
    "        checkpoint_file=None,\n",
    "        prev_results=None,\n",
    "        checkpoint_dict=None,\n",
    "        checkpoint_every_x=1,\n",
    "        problem_type='classification'\n",
    "    ):\n",
    "    # init tracking metrics\n",
    "    to_track = [\"epoch\", \"total time\", \"train loss\"]\n",
    "    if test_loader is not None:\n",
    "        to_track.append(\"test loss\")\n",
    "    if score_funcs is not None:\n",
    "        for eval_score in score_funcs:\n",
    "            to_track.append(\"train \" + eval_score )\n",
    "            if test_loader is not None:\n",
    "                to_track.append(\"test \" + eval_score )\n",
    "    total_train_time = 0\n",
    "    if prev_results is None:\n",
    "        results = {}\n",
    "        for item in to_track:\n",
    "            results[item] = []\n",
    "    else:\n",
    "        results = prev_results\n",
    "\n",
    "    # initialize optimizer\n",
    "    optimizer = torch.optim.SGD(model.parameters(), lr=0.001)\n",
    "    if checkpoint_dict is not None and 'optimizer_state_dict' in checkpoint_dict.keys():\n",
    "        optimizer.load_state_dict(checkpoint_dict['optimizer_state_dict'])\n",
    "\n",
    "    # start training loop\n",
    "    model.to(device)\n",
    "    for epoch in tqdm(range(epochs), desc=\"Epoch\"):\n",
    "        # pass the model throught a epoch\n",
    "        model = model.train()\n",
    "        total_train_time += run_epoch(\n",
    "            model, \n",
    "            optimizer, \n",
    "            train_loader, \n",
    "            loss_func, \n",
    "            device, \n",
    "            results, \n",
    "            score_funcs, \n",
    "            prefix=\"train\",\n",
    "            problem_type=problem_type\n",
    "        )\n",
    "    \n",
    "        # grab more results from the last epoch\n",
    "        results[\"total time\"].append( total_train_time )\n",
    "        results[\"epoch\"].append( epoch )\n",
    "\n",
    "        # test the model in validation\n",
    "        if test_loader is not None:\n",
    "            model = model.eval()\n",
    "            with torch.no_grad():\n",
    "                run_epoch(model, optimizer, test_loader, loss_func, device, results, score_funcs, prefix=\"test\")\n",
    "\n",
    "        # save the model checkpoint after the epoch\n",
    "        true_epoch = len(results['epoch']) - 1 # useful when model and optimizer loaded\n",
    "        if checkpoint_file is not None and (true_epoch % checkpoint_every_x) == 0:\n",
    "            save_model(\n",
    "                model=model,\n",
    "                checkpoint_file=checkpoint_file,\n",
    "                optimizer=optimizer,\n",
    "                true_epoch=true_epoch,\n",
    "                results=results\n",
    "            )\n",
    "    \n",
    "    # save the last model\n",
    "    if checkpoint_file is not None:\n",
    "        save_model(\n",
    "                model=model,\n",
    "                checkpoint_file=checkpoint_file,\n",
    "                optimizer=optimizer,\n",
    "                true_epoch=true_epoch,\n",
    "                results=results,\n",
    "                model_file_name='last.pt'\n",
    "            )\n",
    "\n",
    "    return pd.DataFrame.from_dict(results)"
   ]
  },
  {
   "cell_type": "code",
   "execution_count": 3,
   "metadata": {},
   "outputs": [
    {
     "name": "stdout",
     "output_type": "stream",
     "text": [
      "<class 'PIL.Image.Image'>\n"
     ]
    }
   ],
   "source": [
    "mnist_data_train = torchvision.datasets.MNIST(\n",
    "    \"./data\", train=True, download=True\n",
    ")\n",
    "mnist_data_test = torchvision.datasets.MNIST(\n",
    "    \"./data\", train=False, download=True\n",
    ")\n",
    "\n",
    "x_example, y_example = mnist_data_train[0]\n",
    "print(type(x_example))  # los datos importados no son tensores"
   ]
  },
  {
   "cell_type": "code",
   "execution_count": 4,
   "metadata": {},
   "outputs": [
    {
     "name": "stdout",
     "output_type": "stream",
     "text": [
      "<class 'torch.Tensor'>\n",
      "torch.Size([1, 28, 28])\n"
     ]
    }
   ],
   "source": [
    "mnist_data_train = torchvision.datasets.MNIST(\n",
    "    \"./data\", train=True, download=True, transform=transforms.ToTensor()\n",
    ")\n",
    "mnist_data_test = torchvision.datasets.MNIST(\n",
    "    \"./data\", train=False, download=True, transform=transforms.ToTensor()\n",
    ")\n",
    "\n",
    "x_example, y_example = mnist_data_train[0]\n",
    "print(type(x_example))\n",
    "print(x_example.shape)"
   ]
  },
  {
   "cell_type": "code",
   "execution_count": 5,
   "metadata": {},
   "outputs": [
    {
     "data": {
      "image/png": "[encoded data removed]",
      "text/plain": [
       "<Figure size 640x480 with 1 Axes>"
      ]
     },
     "metadata": {},
     "output_type": "display_data"
    }
   ],
   "source": [
    "plt.imshow(x_example[0], cmap=\"gray\")\n",
    "plt.show()"
   ]
  },
  {
   "cell_type": "code",
   "execution_count": 6,
   "metadata": {},
   "outputs": [
    {
     "name": "stdout",
     "output_type": "stream",
     "text": [
      "torch.Size([3, 28, 28])\n"
     ]
    }
   ],
   "source": [
    "x_as_color = torch.stack([x_example[0], x_example[0], x_example[0]], dim=0)\n",
    "x_as_color[0, :] = 0\n",
    "x_as_color[2, :] = 0\n",
    "print(x_as_color.shape)\n"
   ]
  },
  {
   "cell_type": "code",
   "execution_count": 7,
   "metadata": {},
   "outputs": [
    {
     "data": {
      "image/png": "[encoded data removed]",
      "text/plain": [
       "<Figure size 640x480 with 1 Axes>"
      ]
     },
     "metadata": {},
     "output_type": "display_data"
    }
   ],
   "source": [
    "plt.imshow(x_as_color.permute(1, 2, 0))\n",
    "plt.show()"
   ]
  },
  {
   "cell_type": "code",
   "execution_count": 8,
   "metadata": {},
   "outputs": [
    {
     "data": {
      "image/png": "[encoded data removed]",
      "text/plain": [
       "<Figure size 640x480 with 1 Axes>"
      ]
     },
     "metadata": {},
     "output_type": "display_data"
    }
   ],
   "source": [
    "x1, x2, x3 = mnist_data_train[0], mnist_data_train[1], mnist_data_train[2]\n",
    "x1, x2, x3 = x1[0], x2[0], x3[0]\n",
    "x_as_color = torch.stack([x1[0, :], x2[0, :], x3[0, :]], dim=0)\n",
    "plt.imshow(x_as_color.permute(1, 2, 0))\n",
    "plt.show()"
   ]
  },
  {
   "cell_type": "code",
   "execution_count": 9,
   "metadata": {},
   "outputs": [],
   "source": [
    "if torch.cuda.is_available():\n",
    "    device = torch.device(\"cuda\")\n",
    "else:\n",
    "    device = torch.device(\"cpu\")"
   ]
  },
  {
   "cell_type": "code",
   "execution_count": 10,
   "metadata": {},
   "outputs": [],
   "source": [
    "B = 128\n",
    "mnist_train_loader = DataLoader(\n",
    "    mnist_data_train, batch_size=B, shuffle=True\n",
    ")\n",
    "mnist_test_loader = DataLoader(\n",
    "    mnist_data_test, batch_size=B, shuffle=True\n",
    ")"
   ]
  },
  {
   "cell_type": "code",
   "execution_count": 11,
   "metadata": {},
   "outputs": [],
   "source": [
    "D = 28*28\n",
    "C = 1\n",
    "classes = 10\n",
    "filters = 16\n",
    "K = 3\n",
    "\n",
    "model_linear = nn.Sequential(\n",
    "    nn.Flatten(),  #(B, C, W, H) -> (B, C*W*H)\n",
    "    nn.Linear(D, 256),\n",
    "    nn.Tanh(),\n",
    "    nn.Linear(256, classes)\n",
    ")\n",
    "\n",
    "model_cnn = nn.Sequential(\n",
    "    nn.Conv2d(C, filters, K, padding=K//2),\n",
    "    nn.Tanh(),\n",
    "    nn.Flatten(),\n",
    "    nn.Linear(filters*D, classes)\n",
    ")"
   ]
  },
  {
   "cell_type": "code",
   "execution_count": 12,
   "metadata": {},
   "outputs": [
    {
     "name": "stdout",
     "output_type": "stream",
     "text": [
      "Convolutional NN\n"
     ]
    },
    {
     "name": "stderr",
     "output_type": "stream",
     "text": [
      "Epoch: 100%|██████████| 100/100 [03:07<00:00,  1.88s/it]\n"
     ]
    },
    {
     "name": "stdout",
     "output_type": "stream",
     "text": [
      "Linear NN\n"
     ]
    },
    {
     "name": "stderr",
     "output_type": "stream",
     "text": [
      "Epoch: 100%|██████████| 100/100 [03:03<00:00,  1.83s/it]\n"
     ]
    }
   ],
   "source": [
    "loss_func = nn.CrossEntropyLoss()\n",
    "\n",
    "print('Convolutional NN')\n",
    "cnn_results = train_simple_network(\n",
    "    model_cnn,\n",
    "    loss_func,\n",
    "    mnist_train_loader,\n",
    "    test_loader=mnist_test_loader,\n",
    "    score_funcs={'Accuracy': accuracy_score},\n",
    "    device=device,\n",
    "    epochs=100\n",
    ")\n",
    "\n",
    "print('Linear NN')\n",
    "fc_results = train_simple_network(\n",
    "    model_linear,\n",
    "    loss_func,\n",
    "    mnist_train_loader,\n",
    "    test_loader=mnist_test_loader,\n",
    "    score_funcs={'Accuracy': accuracy_score},\n",
    "    device=device,\n",
    "    epochs=100\n",
    ")"
   ]
  },
  {
   "cell_type": "code",
   "execution_count": 13,
   "metadata": {},
   "outputs": [
    {
     "data": {
      "text/plain": [
       "<Axes: xlabel='epoch', ylabel='test Accuracy'>"
      ]
     },
     "execution_count": 13,
     "metadata": {},
     "output_type": "execute_result"
    },
    {
     "data": {
      "image/png": "[encoded data removed]",
      "text/plain": [
       "<Figure size 640x480 with 1 Axes>"
      ]
     },
     "metadata": {},
     "output_type": "display_data"
    }
   ],
   "source": [
    "sns.lineplot(x='epoch', y='test Accuracy', data=cnn_results, label='CNN')\n",
    "sns.lineplot(x='epoch', y='test Accuracy', data=fc_results, label='FC')\n",
    "# aqui se vera que desde un principio, solo con una convolucion se logra mejorar\n",
    "# el resultado de FCN, incluso desde los primeros epochs. Esto se da por los\n",
    "# prior beliefs. Se cumple el supuesto bajo el cual se usa la convolucion en imagenes:\n",
    "# spatial correlation"
   ]
  },
  {
   "cell_type": "code",
   "execution_count": 14,
   "metadata": {},
   "outputs": [
    {
     "data": {
      "image/png": "[encoded data removed]",
      "text/plain": [
       "<Figure size 640x480 with 3 Axes>"
      ]
     },
     "metadata": {},
     "output_type": "display_data"
    }
   ],
   "source": [
    "# el modelo convolucional es mejor, sin embargo tiene fallas, que pasa si\n",
    "# el digito esta escrito un poco mas abajo o al izquierda, es decir, si\n",
    "# hay movimiento del objeto principal que se esta identificando?\n",
    "img_indx = 0\n",
    "img, correct_class = mnist_data_train[img_indx]\n",
    "img = img[0, :] # remove color channel\n",
    "img_lr = np.roll(np.roll(img, 1, axis=1), 1, axis=0)\n",
    "img_ul = np.roll(np.roll(img, -1, axis=1), -1, axis=0)\n",
    "\n",
    "f, axarr = plt.subplots(1, 3)\n",
    "axarr[0].imshow(img, cmap='gray')\n",
    "axarr[1].imshow(img_lr, cmap='gray')\n",
    "axarr[2].imshow(img_ul, cmap='gray')\n",
    "plt.show()"
   ]
  },
  {
   "cell_type": "code",
   "execution_count": 15,
   "metadata": {},
   "outputs": [],
   "source": [
    "model = model_cnn.cpu().eval()\n",
    "\n",
    "def pred(model, img):\n",
    "    with torch.no_grad():\n",
    "        w, h = img.shape\n",
    "        if not isinstance(img, torch.Tensor):\n",
    "            img = torch.tensor(img)\n",
    "        x = img.reshape(1, -1, w, h)\n",
    "        logits = model(x)\n",
    "        y_hat = nn.functional.softmax(logits, dim=1)\n",
    "    \n",
    "    return y_hat.numpy().flatten()"
   ]
  },
  {
   "cell_type": "code",
   "execution_count": 16,
   "metadata": {},
   "outputs": [
    {
     "name": "stdout",
     "output_type": "stream",
     "text": [
      "0.7626897 0.41232312 0.4649799\n"
     ]
    }
   ],
   "source": [
    "img_pred  = pred(model, img)\n",
    "img_lr_pred = pred(model, img_lr)\n",
    "img_ul_pred = pred(model, img_ul)\n",
    "\n",
    "# entre mas movimiento de la imagen, mas se aleja de la clase correcta\n",
    "print(img_pred[correct_class], img_lr_pred[correct_class], img_ul_pred[correct_class])"
   ]
  },
  {
   "cell_type": "code",
   "execution_count": 17,
   "metadata": {},
   "outputs": [
    {
     "name": "stderr",
     "output_type": "stream",
     "text": [
      "Epoch: 100%|██████████| 100/100 [04:09<00:00,  2.49s/it]\n"
     ]
    }
   ],
   "source": [
    "# red convolucional con maxpooling\n",
    "model_cnn_pool = nn.Sequential(\n",
    "    nn.Conv2d(C, filters, 3, padding=3//2), \n",
    "    nn.Tanh(),\n",
    "    nn.Conv2d(filters, filters, 3, padding=3//2), \n",
    "    nn.Tanh(),\n",
    "    nn.Conv2d(filters, filters, 3, padding=3//2), \n",
    "    nn.Tanh(),\n",
    "    nn.MaxPool2d(2),\n",
    "    nn.Conv2d(filters, 2*filters, 3, padding=3//2), \n",
    "    nn.Tanh(),\n",
    "    nn.Conv2d(2*filters, 2*filters, 3, padding=3//2), \n",
    "    nn.Tanh(),\n",
    "    nn.Conv2d(2*filters, 2*filters, 3, padding=3//2), \n",
    "    nn.Tanh(),\n",
    "    nn.MaxPool2d(2),\n",
    "\n",
    "    nn.Flatten(), \n",
    "    #Why did we reduce the number of units into the Linear layer by a factor of $4^2$? Because pooling a 2x2 grid down to one value means we go from 4 values, down to 1, and we did this two times. \n",
    "    nn.Linear(2*filters*D//(4**2), classes),\n",
    ")\n",
    "\n",
    "cnn_results_with_pool = train_simple_network(\n",
    "    model_cnn_pool,\n",
    "    loss_func,\n",
    "    mnist_train_loader,\n",
    "    test_loader=mnist_test_loader,\n",
    "    score_funcs={'Accuracy': accuracy_score},\n",
    "    device=device,\n",
    "    epochs=100\n",
    ")"
   ]
  },
  {
   "cell_type": "code",
   "execution_count": 18,
   "metadata": {},
   "outputs": [
    {
     "name": "stdout",
     "output_type": "stream",
     "text": [
      "0.7775435 0.8224066 0.8844728\n"
     ]
    }
   ],
   "source": [
    "model = model_cnn_pool.cpu().eval()\n",
    "\n",
    "img_pred  = pred(model, img)\n",
    "img_lr_pred = pred(model, img_lr)\n",
    "img_ul_pred = pred(model, img_ul)\n",
    "\n",
    "print(img_pred[correct_class], img_lr_pred[correct_class], img_ul_pred[correct_class])"
   ]
  },
  {
   "cell_type": "code",
   "execution_count": 19,
   "metadata": {},
   "outputs": [
    {
     "data": {
      "text/html": [
       "<div>\n",
       "<style scoped>\n",
       "    .dataframe tbody tr th:only-of-type {\n",
       "        vertical-align: middle;\n",
       "    }\n",
       "\n",
       "    .dataframe tbody tr th {\n",
       "        vertical-align: top;\n",
       "    }\n",
       "\n",
       "    .dataframe thead th {\n",
       "        text-align: right;\n",
       "    }\n",
       "</style>\n",
       "<table border=\"1\" class=\"dataframe\">\n",
       "  <thead>\n",
       "    <tr style=\"text-align: right;\">\n",
       "      <th></th>\n",
       "      <th>epoch</th>\n",
       "      <th>total time</th>\n",
       "      <th>train loss</th>\n",
       "      <th>test loss</th>\n",
       "      <th>train Accuracy</th>\n",
       "      <th>test Accuracy</th>\n",
       "    </tr>\n",
       "  </thead>\n",
       "  <tbody>\n",
       "    <tr>\n",
       "      <th>0</th>\n",
       "      <td>0</td>\n",
       "      <td>2.248498</td>\n",
       "      <td>2.301215</td>\n",
       "      <td>2.300440</td>\n",
       "      <td>0.115250</td>\n",
       "      <td>0.1775</td>\n",
       "    </tr>\n",
       "    <tr>\n",
       "      <th>1</th>\n",
       "      <td>1</td>\n",
       "      <td>4.450505</td>\n",
       "      <td>2.299693</td>\n",
       "      <td>2.298771</td>\n",
       "      <td>0.117600</td>\n",
       "      <td>0.1135</td>\n",
       "    </tr>\n",
       "    <tr>\n",
       "      <th>2</th>\n",
       "      <td>2</td>\n",
       "      <td>6.646024</td>\n",
       "      <td>2.297995</td>\n",
       "      <td>2.296809</td>\n",
       "      <td>0.112367</td>\n",
       "      <td>0.1135</td>\n",
       "    </tr>\n",
       "    <tr>\n",
       "      <th>3</th>\n",
       "      <td>3</td>\n",
       "      <td>8.797727</td>\n",
       "      <td>2.295791</td>\n",
       "      <td>2.294242</td>\n",
       "      <td>0.112367</td>\n",
       "      <td>0.1135</td>\n",
       "    </tr>\n",
       "    <tr>\n",
       "      <th>4</th>\n",
       "      <td>4</td>\n",
       "      <td>11.000445</td>\n",
       "      <td>2.292504</td>\n",
       "      <td>2.289800</td>\n",
       "      <td>0.112367</td>\n",
       "      <td>0.1136</td>\n",
       "    </tr>\n",
       "    <tr>\n",
       "      <th>...</th>\n",
       "      <td>...</td>\n",
       "      <td>...</td>\n",
       "      <td>...</td>\n",
       "      <td>...</td>\n",
       "      <td>...</td>\n",
       "      <td>...</td>\n",
       "    </tr>\n",
       "    <tr>\n",
       "      <th>95</th>\n",
       "      <td>95</td>\n",
       "      <td>211.471883</td>\n",
       "      <td>0.131554</td>\n",
       "      <td>0.118994</td>\n",
       "      <td>0.962267</td>\n",
       "      <td>0.9666</td>\n",
       "    </tr>\n",
       "    <tr>\n",
       "      <th>96</th>\n",
       "      <td>96</td>\n",
       "      <td>213.668393</td>\n",
       "      <td>0.130529</td>\n",
       "      <td>0.119341</td>\n",
       "      <td>0.962300</td>\n",
       "      <td>0.9671</td>\n",
       "    </tr>\n",
       "    <tr>\n",
       "      <th>97</th>\n",
       "      <td>97</td>\n",
       "      <td>215.825037</td>\n",
       "      <td>0.129543</td>\n",
       "      <td>0.119641</td>\n",
       "      <td>0.962700</td>\n",
       "      <td>0.9676</td>\n",
       "    </tr>\n",
       "    <tr>\n",
       "      <th>98</th>\n",
       "      <td>98</td>\n",
       "      <td>218.026465</td>\n",
       "      <td>0.128679</td>\n",
       "      <td>0.117186</td>\n",
       "      <td>0.962967</td>\n",
       "      <td>0.9673</td>\n",
       "    </tr>\n",
       "    <tr>\n",
       "      <th>99</th>\n",
       "      <td>99</td>\n",
       "      <td>220.238613</td>\n",
       "      <td>0.127700</td>\n",
       "      <td>0.115960</td>\n",
       "      <td>0.963267</td>\n",
       "      <td>0.9674</td>\n",
       "    </tr>\n",
       "  </tbody>\n",
       "</table>\n",
       "<p>100 rows × 6 columns</p>\n",
       "</div>"
      ],
      "text/plain": [
       "    epoch  total time  train loss  test loss  train Accuracy  test Accuracy\n",
       "0       0    2.248498    2.301215   2.300440        0.115250         0.1775\n",
       "1       1    4.450505    2.299693   2.298771        0.117600         0.1135\n",
       "2       2    6.646024    2.297995   2.296809        0.112367         0.1135\n",
       "3       3    8.797727    2.295791   2.294242        0.112367         0.1135\n",
       "4       4   11.000445    2.292504   2.289800        0.112367         0.1136\n",
       "..    ...         ...         ...        ...             ...            ...\n",
       "95     95  211.471883    0.131554   0.118994        0.962267         0.9666\n",
       "96     96  213.668393    0.130529   0.119341        0.962300         0.9671\n",
       "97     97  215.825037    0.129543   0.119641        0.962700         0.9676\n",
       "98     98  218.026465    0.128679   0.117186        0.962967         0.9673\n",
       "99     99  220.238613    0.127700   0.115960        0.963267         0.9674\n",
       "\n",
       "[100 rows x 6 columns]"
      ]
     },
     "execution_count": 19,
     "metadata": {},
     "output_type": "execute_result"
    }
   ],
   "source": [
    "cnn_results_with_pool"
   ]
  },
  {
   "cell_type": "code",
   "execution_count": 20,
   "metadata": {},
   "outputs": [
    {
     "data": {
      "text/plain": [
       "<Axes: xlabel='epoch', ylabel='test Accuracy'>"
      ]
     },
     "execution_count": 20,
     "metadata": {},
     "output_type": "execute_result"
    },
    {
     "data": {
      "image/png": "[encoded data removed]",
      "text/plain": [
       "<Figure size 640x480 with 1 Axes>"
      ]
     },
     "metadata": {},
     "output_type": "display_data"
    }
   ],
   "source": [
    "sns.lineplot(x='epoch', y='test Accuracy', data=cnn_results, label='CNN')\n",
    "sns.lineplot(x='epoch', y='test Accuracy', data=cnn_results_with_pool, label='CNN w/ MaxPool')"
   ]
  },
  {
   "cell_type": "code",
   "execution_count": 23,
   "metadata": {},
   "outputs": [
    {
     "data": {
      "image/png": "[encoded data removed]",
      "text/plain": [
       "<Figure size 640x480 with 8 Axes>"
      ]
     },
     "metadata": {},
     "output_type": "display_data"
    }
   ],
   "source": [
    "# transformation to get more data from the sample thanks to torchvision\n",
    "sample_transforms = {\n",
    "    \"Rotation\" : transforms.RandomAffine(degrees=45),\n",
    "    \"Translation\" : transforms.RandomAffine(degrees=0, translate=(0.1,0.1)),\n",
    "    \"Shear\": transforms.RandomAffine(degrees=0, shear=45),\n",
    "    \"RandomCrop\" : transforms.RandomCrop((20,20)),\n",
    "    \"Horizontal Flip\" : transforms.RandomHorizontalFlip(p=1.0),\n",
    "    \"Vertical Flip\": transforms.RandomVerticalFlip(p=1.0),\n",
    "    \"Perspective\": transforms.RandomPerspective(p=1.0),   \n",
    "    \"ColorJitter\" : transforms.ColorJitter(brightness=0.9, contrast=0.9)\n",
    "}\n",
    "pil_img = transforms.ToPILImage()(img)  # convert to PIL Image\n",
    "\n",
    "f, axarr = plt.subplots(2,4)\n",
    "for count, (name, t) in enumerate(sample_transforms.items()):\n",
    "    row = count % 4\n",
    "    col = count // 4\n",
    "    axarr[col,row].imshow(t(pil_img), cmap='gray')\n",
    "    axarr[col,row].set_title(name)\n",
    "plt.show()"
   ]
  },
  {
   "cell_type": "code",
   "execution_count": 24,
   "metadata": {},
   "outputs": [],
   "source": [
    "train_transform = transforms.Compose([\n",
    "    transforms.RandomAffine(degrees=5, translate=(0.05, 0.05), scale=(0.98, 1.02)),\n",
    "    transforms.ToTensor(),\n",
    "])\n",
    "\n",
    "test_transform = transforms.ToTensor()\n",
    "\n",
    "mnist_train_t = torchvision.datasets.MNIST(\"./data\", train=True, transform=train_transform)\n",
    "mnist_test_t = torchvision.datasets.MNIST(\"./data\", train=False, transform=test_transform)\n",
    "mnist_train_loader_t = DataLoader(mnist_train_t, shuffle=True,  batch_size=B, num_workers=5)\n",
    "mnist_test_loader_t = DataLoader(mnist_test_t, batch_size=B, num_workers=5)"
   ]
  },
  {
   "cell_type": "code",
   "execution_count": 25,
   "metadata": {},
   "outputs": [
    {
     "name": "stderr",
     "output_type": "stream",
     "text": [
      "Epoch: 100%|██████████| 100/100 [02:37<00:00,  1.57s/it]\n"
     ]
    }
   ],
   "source": [
    "model_cnn_pool = nn.Sequential(\n",
    "  nn.Conv2d(C, filters, 3, padding=3//2), \n",
    "  nn.Tanh(),\n",
    "  nn.Conv2d(filters, filters, 3, padding=3//2), \n",
    "  nn.Tanh(),\n",
    "  nn.Conv2d(filters, filters, 3, padding=3//2), \n",
    "  nn.Tanh(),\n",
    "  nn.MaxPool2d(2),\n",
    "  nn.Conv2d(filters, 2*filters, 3, padding=3//2), \n",
    "  nn.Tanh(),\n",
    "  nn.Conv2d(2*filters, 2*filters, 3, padding=3//2), \n",
    "  nn.Tanh(),\n",
    "  nn.Conv2d(2*filters, 2*filters, 3, padding=3//2), \n",
    "  nn.Tanh(),\n",
    "  nn.MaxPool2d(2),\n",
    "  nn.Flatten(), \n",
    "  nn.Linear(2*filters*D//(4**2), classes),\n",
    ")\n",
    "\n",
    "cnn_results_with_pool_augmented = train_simple_network(\n",
    "    model_cnn_pool,\n",
    "    loss_func,\n",
    "    mnist_train_loader_t,\n",
    "    test_loader=mnist_test_loader_t,\n",
    "    score_funcs={'Accuracy': accuracy_score},\n",
    "    device=device, epochs=100\n",
    ")"
   ]
  },
  {
   "cell_type": "code",
   "execution_count": 26,
   "metadata": {},
   "outputs": [
    {
     "data": {
      "text/plain": [
       "<Axes: xlabel='epoch', ylabel='test Accuracy'>"
      ]
     },
     "execution_count": 26,
     "metadata": {},
     "output_type": "execute_result"
    },
    {
     "data": {
      "image/png": "[encoded data removed]",
      "text/plain": [
       "<Figure size 640x480 with 1 Axes>"
      ]
     },
     "metadata": {},
     "output_type": "display_data"
    }
   ],
   "source": [
    "sns.lineplot(x='epoch', y='test Accuracy', data=cnn_results_with_pool, label='CNN w/ Max Pooling')\n",
    "sns.lineplot(x='epoch', y='test Accuracy', data=cnn_results_with_pool_augmented, label='CNN w/ Max Pooling + Augmentation')"
   ]
  }
 ],
 "metadata": {
  "kernelspec": {
   "display_name": "hundred_concepts-BC5U2Mdm",
   "language": "python",
   "name": "python3"
  },
  "language_info": {
   "codemirror_mode": {
    "name": "ipython",
    "version": 3
   },
   "file_extension": ".py",
   "mimetype": "text/x-python",
   "name": "python",
   "nbconvert_exporter": "python",
   "pygments_lexer": "ipython3",
   "version": "3.10.10"
  },
  "orig_nbformat": 4
 },
 "nbformat": 4,
 "nbformat_minor": 2
}
