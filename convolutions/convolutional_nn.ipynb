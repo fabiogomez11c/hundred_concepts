{
 "cells": [
  {
   "cell_type": "code",
   "execution_count": 40,
   "metadata": {},
   "outputs": [],
   "source": [
    "import torchvision\n",
    "from torchvision import transforms\n",
    "import matplotlib.pyplot as plt\n",
    "import torch\n",
    "import torch.nn as nn\n",
    "from torch.utils.data import DataLoader\n",
    "import pandas as pd\n",
    "import numpy as np\n",
    "import time\n",
    "from typing import Dict\n",
    "from tqdm import tqdm\n",
    "from uuid import uuid4\n",
    "from sklearn.metrics import accuracy_score\n",
    "import seaborn as sns\n",
    "import os"
   ]
  },
  {
   "cell_type": "code",
   "execution_count": 41,
   "metadata": {},
   "outputs": [],
   "source": [
    "def moveTo(obj, device):\n",
    "    \"\"\"\n",
    "    obj: the python object ot move to a device, or to move its contents to a device\n",
    "    device: the compute device to move objects to\n",
    "    \"\"\"\n",
    "    if isinstance(obj, list):\n",
    "        return [moveTo(o, device) for o in obj]\n",
    "    elif isinstance(obj, tuple):\n",
    "        return tuple(moveTo(o, device) for o in obj)\n",
    "    elif isinstance(obj, set):\n",
    "        return set(moveTo(o, device) for o in obj)\n",
    "    elif isinstance(obj, dict):\n",
    "        to_ret = dict()\n",
    "        for k, v in obj.items():\n",
    "            to_ret[moveTo(k, device)] = moveTo(v, device)\n",
    "        return to_ret\n",
    "    elif hasattr(obj, \"to\"):\n",
    "        return obj.to(device)\n",
    "    else:\n",
    "        return obj\n",
    "\n",
    "def run_epoch(model,\n",
    "    optimizer,\n",
    "    data_loader,\n",
    "    loss_func,\n",
    "    device,\n",
    "    results,\n",
    "    score_funcs,\n",
    "    prefix=\"\",\n",
    "    problem_type='classification'\n",
    "):\n",
    "    # init empty variables\n",
    "    running_loss = []\n",
    "    y_true = []\n",
    "    y_pred = []\n",
    "    start = time.time()\n",
    "    # loop over the batchs\n",
    "    for inputs, labels in data_loader:\n",
    "        # move x, y to correct device\n",
    "        inputs = moveTo(inputs, device=device)\n",
    "        labels = moveTo(labels, device=device)\n",
    "\n",
    "        # estimate\n",
    "        y_hat = model(inputs)\n",
    "\n",
    "        # compute loss, backpropagate and apply gradients if needed\n",
    "        loss = loss_func(y_hat, labels)\n",
    "        if model.training:\n",
    "            loss.backward()\n",
    "            optimizer.step()\n",
    "            optimizer.zero_grad()\n",
    "        \n",
    "        # store the results\n",
    "        running_loss.append(loss.item())\n",
    "        if score_funcs is not None and len(score_funcs) > 0 and isinstance(labels, torch.Tensor):\n",
    "            labels = labels.detach().cpu().numpy()\n",
    "            y_hat = y_hat.detach().cpu().numpy()\n",
    "            y_true.extend(labels.tolist())\n",
    "            y_pred.extend(y_hat.tolist())\n",
    "        \n",
    "    end = time.time()\n",
    "\n",
    "    # clean results to compute metrics under sklearn standards\n",
    "    y_pred = np.asarray(y_pred)\n",
    "    if problem_type == 'classification':\n",
    "        if len(y_pred.shape) == 2 and y_pred.shape[1] > 1:\n",
    "            y_pred = np.argmax(y_pred, axis=1)\n",
    "        elif y_pred.shape[1] == 1:\n",
    "            y_pred = np.where(y_pred > 0.5, 1, 0)\n",
    "        \n",
    "    \n",
    "    results[prefix + ' loss'].append(np.mean(running_loss))\n",
    "    if score_funcs is not None:\n",
    "        for name, score_func in score_funcs.items():\n",
    "            try:\n",
    "                results[prefix + \" \" + name].append( score_func(y_true, y_pred) )\n",
    "            except:\n",
    "                results[prefix + \" \" + name].append(float(\"NaN\"))\n",
    "    return end-start #time spent on epoc\n",
    "\n",
    "def save_model(\n",
    "    model: nn.Module,\n",
    "    checkpoint_file: str,\n",
    "    optimizer: nn.Module,\n",
    "    true_epoch: int,\n",
    "    results: Dict,\n",
    "    model_file_name: str = None\n",
    "):\n",
    "    # check if the folder for models exists\n",
    "    folder_path = \"checkpoints\"\n",
    "    if not os.path.exists(folder_path):\n",
    "        os.makedirs(folder_path)\n",
    "\n",
    "    # save the model checkpoint\n",
    "    file_name = uuid4().hex + '_' + checkpoint_file\n",
    "    if model_file_name is not None:\n",
    "        file_name = model_file_name\n",
    "    torch.save({\n",
    "        'epoch': true_epoch,\n",
    "        'model_state_dict': model.state_dict(),\n",
    "        'optimizer_state_dict': optimizer.state_dict(),\n",
    "        'results' : results\n",
    "        }, os.path.join(folder_path, file_name))\n",
    "\n",
    "def train_simple_network(\n",
    "        model, \n",
    "        loss_func,\n",
    "        train_loader,\n",
    "        test_loader=None,\n",
    "        score_funcs=None,\n",
    "        device='cpu',\n",
    "        epochs=50,\n",
    "        checkpoint_file=None,\n",
    "        prev_results=None,\n",
    "        checkpoint_dict=None,\n",
    "        checkpoint_every_x=1,\n",
    "        problem_type='classification'\n",
    "    ):\n",
    "    # init tracking metrics\n",
    "    to_track = [\"epoch\", \"total time\", \"train loss\"]\n",
    "    if test_loader is not None:\n",
    "        to_track.append(\"test loss\")\n",
    "    if score_funcs is not None:\n",
    "        for eval_score in score_funcs:\n",
    "            to_track.append(\"train \" + eval_score )\n",
    "            if test_loader is not None:\n",
    "                to_track.append(\"test \" + eval_score )\n",
    "    total_train_time = 0\n",
    "    if prev_results is None:\n",
    "        results = {}\n",
    "        for item in to_track:\n",
    "            results[item] = []\n",
    "    else:\n",
    "        results = prev_results\n",
    "\n",
    "    # initialize optimizer\n",
    "    optimizer = torch.optim.SGD(model.parameters(), lr=0.001)\n",
    "    if checkpoint_dict is not None and 'optimizer_state_dict' in checkpoint_dict.keys():\n",
    "        optimizer.load_state_dict(checkpoint_dict['optimizer_state_dict'])\n",
    "\n",
    "    # start training loop\n",
    "    model.to(device)\n",
    "    for epoch in tqdm(range(epochs), desc=\"Epoch\"):\n",
    "        # pass the model throught a epoch\n",
    "        model = model.train()\n",
    "        total_train_time += run_epoch(\n",
    "            model, \n",
    "            optimizer, \n",
    "            train_loader, \n",
    "            loss_func, \n",
    "            device, \n",
    "            results, \n",
    "            score_funcs, \n",
    "            prefix=\"train\",\n",
    "            problem_type=problem_type\n",
    "        )\n",
    "    \n",
    "        # grab more results from the last epoch\n",
    "        results[\"total time\"].append( total_train_time )\n",
    "        results[\"epoch\"].append( epoch )\n",
    "\n",
    "        # test the model in validation\n",
    "        if test_loader is not None:\n",
    "            model = model.eval()\n",
    "            with torch.no_grad():\n",
    "                run_epoch(model, optimizer, test_loader, loss_func, device, results, score_funcs, prefix=\"test\")\n",
    "\n",
    "        # save the model checkpoint after the epoch\n",
    "        true_epoch = len(results['epoch']) - 1 # useful when model and optimizer loaded\n",
    "        if checkpoint_file is not None and (true_epoch % checkpoint_every_x) == 0:\n",
    "            save_model(\n",
    "                model=model,\n",
    "                checkpoint_file=checkpoint_file,\n",
    "                optimizer=optimizer,\n",
    "                true_epoch=true_epoch,\n",
    "                results=results\n",
    "            )\n",
    "    \n",
    "    # save the last model\n",
    "    if checkpoint_file is not None:\n",
    "        save_model(\n",
    "                model=model,\n",
    "                checkpoint_file=checkpoint_file,\n",
    "                optimizer=optimizer,\n",
    "                true_epoch=true_epoch,\n",
    "                results=results,\n",
    "                model_file_name='last.pt'\n",
    "            )\n",
    "\n",
    "    return pd.DataFrame.from_dict(results)"
   ]
  },
  {
   "cell_type": "code",
   "execution_count": 42,
   "metadata": {},
   "outputs": [
    {
     "name": "stdout",
     "output_type": "stream",
     "text": [
      "<class 'PIL.Image.Image'>\n"
     ]
    }
   ],
   "source": [
    "mnist_data_train = torchvision.datasets.MNIST(\n",
    "    \"./data\", train=True, download=True\n",
    ")\n",
    "mnist_data_test = torchvision.datasets.MNIST(\n",
    "    \"./data\", train=False, download=True\n",
    ")\n",
    "\n",
    "x_example, y_example = mnist_data_train[0]\n",
    "print(type(x_example))  # los datos importados no son tensores"
   ]
  },
  {
   "cell_type": "code",
   "execution_count": 43,
   "metadata": {},
   "outputs": [
    {
     "name": "stdout",
     "output_type": "stream",
     "text": [
      "<class 'torch.Tensor'>\n",
      "torch.Size([1, 28, 28])\n"
     ]
    }
   ],
   "source": [
    "mnist_data_train = torchvision.datasets.MNIST(\n",
    "    \"./data\", train=True, download=True, transform=transforms.ToTensor()\n",
    ")\n",
    "mnist_data_test = torchvision.datasets.MNIST(\n",
    "    \"./data\", train=False, download=True, transform=transforms.ToTensor()\n",
    ")\n",
    "\n",
    "x_example, y_example = mnist_data_train[0]\n",
    "print(type(x_example))\n",
    "print(x_example.shape)"
   ]
  },
  {
   "cell_type": "code",
   "execution_count": 44,
   "metadata": {},
   "outputs": [
    {
     "data": {
      "image/png": "[encoded data removed]",
      "text/plain": [
       "<Figure size 640x480 with 1 Axes>"
      ]
     },
     "metadata": {},
     "output_type": "display_data"
    }
   ],
   "source": [
    "plt.imshow(x_example[0], cmap=\"gray\")\n",
    "plt.show()"
   ]
  },
  {
   "cell_type": "code",
   "execution_count": 45,
   "metadata": {},
   "outputs": [
    {
     "name": "stdout",
     "output_type": "stream",
     "text": [
      "torch.Size([3, 28, 28])\n"
     ]
    }
   ],
   "source": [
    "x_as_color = torch.stack([x_example[0], x_example[0], x_example[0]], dim=0)\n",
    "x_as_color[0, :] = 0\n",
    "x_as_color[2, :] = 0\n",
    "print(x_as_color.shape)\n"
   ]
  },
  {
   "cell_type": "code",
   "execution_count": 46,
   "metadata": {},
   "outputs": [
    {
     "data": {
      "image/png": "[encoded data removed]",
      "text/plain": [
       "<Figure size 640x480 with 1 Axes>"
      ]
     },
     "metadata": {},
     "output_type": "display_data"
    }
   ],
   "source": [
    "plt.imshow(x_as_color.permute(1, 2, 0))\n",
    "plt.show()"
   ]
  },
  {
   "cell_type": "code",
   "execution_count": 47,
   "metadata": {},
   "outputs": [
    {
     "data": {
      "image/png": "[encoded data removed]",
      "text/plain": [
       "<Figure size 640x480 with 1 Axes>"
      ]
     },
     "metadata": {},
     "output_type": "display_data"
    }
   ],
   "source": [
    "x1, x2, x3 = mnist_data_train[0], mnist_data_train[1], mnist_data_train[2]\n",
    "x1, x2, x3 = x1[0], x2[0], x3[0]\n",
    "x_as_color = torch.stack([x1[0, :], x2[0, :], x3[0, :]], dim=0)\n",
    "plt.imshow(x_as_color.permute(1, 2, 0))\n",
    "plt.show()"
   ]
  },
  {
   "cell_type": "code",
   "execution_count": 48,
   "metadata": {},
   "outputs": [],
   "source": [
    "if torch.cuda.is_available():\n",
    "    device = torch.device(\"cuda\")\n",
    "else:\n",
    "    device = torch.device(\"cpu\")"
   ]
  },
  {
   "cell_type": "code",
   "execution_count": 49,
   "metadata": {},
   "outputs": [],
   "source": [
    "B = 128\n",
    "mnist_train_loader = DataLoader(\n",
    "    mnist_data_train, batch_size=B, shuffle=True\n",
    ")\n",
    "mnist_test_loader = DataLoader(\n",
    "    mnist_data_test, batch_size=B, shuffle=True\n",
    ")"
   ]
  },
  {
   "cell_type": "code",
   "execution_count": 50,
   "metadata": {},
   "outputs": [],
   "source": [
    "D = 28*28\n",
    "C = 1\n",
    "classes = 10\n",
    "filters = 16\n",
    "K = 3\n",
    "\n",
    "model_linear = nn.Sequential(\n",
    "    nn.Flatten(),  #(B, C, W, H) -> (B, C*W*H)\n",
    "    nn.Linear(D, 256),\n",
    "    nn.Tanh(),\n",
    "    nn.Linear(256, classes)\n",
    ")\n",
    "\n",
    "model_cnn = nn.Sequential(\n",
    "    nn.Conv2d(C, filters, K, padding=K//2),\n",
    "    nn.Tanh(),\n",
    "    nn.Flatten(),\n",
    "    nn.Linear(filters*D, classes)\n",
    ")"
   ]
  },
  {
   "cell_type": "code",
   "execution_count": 51,
   "metadata": {},
   "outputs": [
    {
     "name": "stdout",
     "output_type": "stream",
     "text": [
      "Convolutional NN\n"
     ]
    },
    {
     "name": "stderr",
     "output_type": "stream",
     "text": [
      "Epoch: 100%|██████████| 20/20 [01:00<00:00,  3.03s/it]\n"
     ]
    },
    {
     "name": "stdout",
     "output_type": "stream",
     "text": [
      "Linear NN\n"
     ]
    },
    {
     "name": "stderr",
     "output_type": "stream",
     "text": [
      "Epoch: 100%|██████████| 20/20 [00:59<00:00,  2.98s/it]\n"
     ]
    }
   ],
   "source": [
    "loss_func = nn.CrossEntropyLoss()\n",
    "\n",
    "print('Convolutional NN')\n",
    "cnn_results = train_simple_network(\n",
    "    model_cnn,\n",
    "    loss_func,\n",
    "    mnist_train_loader,\n",
    "    test_loader=mnist_test_loader,\n",
    "    score_funcs={'Accuracy': accuracy_score},\n",
    "    device=device,\n",
    "    epochs=20\n",
    ")\n",
    "\n",
    "print('Linear NN')\n",
    "fc_results = train_simple_network(\n",
    "    model_linear,\n",
    "    loss_func,\n",
    "    mnist_train_loader,\n",
    "    test_loader=mnist_test_loader,\n",
    "    score_funcs={'Accuracy': accuracy_score},\n",
    "    device=device,\n",
    "    epochs=20\n",
    ")"
   ]
  },
  {
   "cell_type": "code",
   "execution_count": 52,
   "metadata": {},
   "outputs": [
    {
     "data": {
      "text/plain": [
       "<Axes: xlabel='epoch', ylabel='test Accuracy'>"
      ]
     },
     "execution_count": 52,
     "metadata": {},
     "output_type": "execute_result"
    },
    {
     "data": {
      "image/png": "[encoded data removed]",
      "text/plain": [
       "<Figure size 640x480 with 1 Axes>"
      ]
     },
     "metadata": {},
     "output_type": "display_data"
    }
   ],
   "source": [
    "sns.lineplot(x='epoch', y='test Accuracy', data=cnn_results, label='CNN')\n",
    "sns.lineplot(x='epoch', y='test Accuracy', data=fc_results, label='FC')\n",
    "# aqui se vera que desde un principio, solo con una convolucion se logra mejorar\n",
    "# el resultado de FCN, incluso desde los primeros epochs. Esto se da por los\n",
    "# prior beliefs. Se cumple el supuesto bajo el cual se usa la convolucion en imagenes:\n",
    "# spatial correlation"
   ]
  },
  {
   "cell_type": "code",
   "execution_count": 53,
   "metadata": {},
   "outputs": [
    {
     "data": {
      "image/png": "[encoded data removed]",
      "text/plain": [
       "<Figure size 640x480 with 3 Axes>"
      ]
     },
     "metadata": {},
     "output_type": "display_data"
    }
   ],
   "source": [
    "# el modelo convolucional es mejor, sin embargo tiene fallas, que pasa si\n",
    "# el digito esta escrito un poco mas abajo o al izquierda, es decir, si\n",
    "# hay movimiento del objeto principal que se esta identificando?\n",
    "img_indx = 0\n",
    "img, correct_class = mnist_data_train[img_indx]\n",
    "img = img[0, :] # remove color channel\n",
    "img_lr = np.roll(np.roll(img, 1, axis=1), 1, axis=0)\n",
    "img_ul = np.roll(np.roll(img, -1, axis=1), -1, axis=0)\n",
    "\n",
    "f, axarr = plt.subplots(1, 3)\n",
    "axarr[0].imshow(img, cmap='gray')\n",
    "axarr[1].imshow(img_lr, cmap='gray')\n",
    "axarr[2].imshow(img_ul, cmap='gray')\n",
    "plt.show()"
   ]
  },
  {
   "cell_type": "code",
   "execution_count": 54,
   "metadata": {},
   "outputs": [],
   "source": [
    "model = model_cnn.cpu().eval()\n",
    "\n",
    "def pred(model, img):\n",
    "    with torch.no_grad():\n",
    "        w, h = img.shape\n",
    "        if not isinstance(img, torch.Tensor):\n",
    "            img = torch.tensor(img)\n",
    "        x = img.reshape(1, -1, w, h)\n",
    "        logits = model(x)\n",
    "        y_hat = nn.functional.softmax(logits, dim=1)\n",
    "    \n",
    "    return y_hat.numpy().flatten()"
   ]
  },
  {
   "cell_type": "code",
   "execution_count": 55,
   "metadata": {},
   "outputs": [
    {
     "name": "stdout",
     "output_type": "stream",
     "text": [
      "0.59418005 0.39748222 0.14595424\n"
     ]
    }
   ],
   "source": [
    "img_pred  = pred(model, img)\n",
    "img_lr_pred = pred(model, img_lr)\n",
    "img_ul_pred = pred(model, img_ul)\n",
    "\n",
    "# entre mas movimiento de la imagen, mas se aleja de la clase correcta\n",
    "print(img_pred[correct_class], img_lr_pred[correct_class], img_ul_pred[correct_class])"
   ]
  },
  {
   "cell_type": "code",
   "execution_count": null,
   "metadata": {},
   "outputs": [],
   "source": [
    "# red convolucional con maxpooling\n",
    "model_cnn_pool = nn.Sequential(\n",
    "    nn.Conv2d(C, filters, 3, padding=3//2),\n",
    "    nn.Tanh(),\n",
    "    nn.Conv2d(filters, filters, 3, padding=3//2),\n",
    "    nn.Tanh(),\n",
    "    nn.Conv2d(filters, filters, 3, padding=3//2),\n",
    "    nn.Tanh(),\n",
    "    nn.MaxPool2d(2),\n",
    "    nn.Conv2d(filters, 2*filters, 3, padding=3//2),  # increase number of filters due to maxpooling\n",
    "    nn.Tanh(),\n",
    "    nn.Conv2d(2*filters, 2*filters, 3, padding=3//2),\n",
    "    nn.Tanh(),\n",
    "    nn.Conv2d(2*filters, 2*filters, 3, padding=3//2),\n",
    "    nn.Tanh(),\n",
    "    nn.MaxPool2d(2),\n",
    "    nn.Flatten(),\n",
    "    nn.Linear(2*filters*D//(4**2), classes)\n",
    ")"
   ]
  },
  {
   "cell_type": "code",
   "execution_count": null,
   "metadata": {},
   "outputs": [],
   "source": []
  },
  {
   "cell_type": "code",
   "execution_count": null,
   "metadata": {},
   "outputs": [],
   "source": []
  },
  {
   "cell_type": "code",
   "execution_count": null,
   "metadata": {},
   "outputs": [],
   "source": []
  },
  {
   "cell_type": "code",
   "execution_count": null,
   "metadata": {},
   "outputs": [],
   "source": []
  }
 ],
 "metadata": {
  "kernelspec": {
   "display_name": "hundred_concepts-BC5U2Mdm",
   "language": "python",
   "name": "python3"
  },
  "language_info": {
   "codemirror_mode": {
    "name": "ipython",
    "version": 3
   },
   "file_extension": ".py",
   "mimetype": "text/x-python",
   "name": "python",
   "nbconvert_exporter": "python",
   "pygments_lexer": "ipython3",
   "version": "3.9.6"
  },
  "orig_nbformat": 4
 },
 "nbformat": 4,
 "nbformat_minor": 2
}
